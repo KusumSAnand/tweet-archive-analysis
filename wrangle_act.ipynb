{
 "cells": [
  {
   "cell_type": "markdown",
   "metadata": {},
   "source": [
    "## Goal\n",
    "\n",
    "Wrangle, analyze and visualize tweet archive of Twitter user @dog_rates, also known as WeRateDogs.\n",
    " \n"
   ]
  },
  {
   "cell_type": "markdown",
   "metadata": {},
   "source": [
    "## Table of Contents\n",
    "- [Gather](#gather)\n",
    "- [Assess](#assess)\n",
    "- [Clean](#clean)\n",
    "- [Store](#store)\n",
    "- [Analysis & Visualization](#analysevisualize)"
   ]
  },
  {
   "cell_type": "markdown",
   "metadata": {},
   "source": [
    "<a id='gather'></a>\n",
    "## Gather"
   ]
  },
  {
   "cell_type": "code",
   "execution_count": 1489,
   "metadata": {
    "collapsed": false
   },
   "outputs": [],
   "source": [
    "#Import the required libraries to load the dataset\n",
    "import pandas as pd\n",
    "import numpy as np\n",
    "import requests as rqst\n",
    "import json\n",
    "import tweepy\n",
    "import os\n",
    "\n",
    "#disable warnings\n",
    "import warnings\n",
    "warnings.filterwarnings('ignore')\n",
    "\n",
    "#Import libraries for plotting\n",
    "import numpy as np\n",
    "import matplotlib.pyplot as plt\n",
    "% matplotlib inline\n",
    "import seaborn as sns\n",
    "from matplotlib import style\n",
    "\n"
   ]
  },
  {
   "cell_type": "code",
   "execution_count": 1165,
   "metadata": {
    "collapsed": false
   },
   "outputs": [],
   "source": [
    "#Load the enhanced Twitter archive of WeRateDogs\n",
    "dog_ratings= pd.read_csv(r'twitter-archive-enhanced.csv' )"
   ]
  },
  {
   "cell_type": "code",
   "execution_count": 1166,
   "metadata": {
    "collapsed": false
   },
   "outputs": [
    {
     "data": {
      "text/html": [
       "<div>\n",
       "<style>\n",
       "    .dataframe thead tr:only-child th {\n",
       "        text-align: right;\n",
       "    }\n",
       "\n",
       "    .dataframe thead th {\n",
       "        text-align: left;\n",
       "    }\n",
       "\n",
       "    .dataframe tbody tr th {\n",
       "        vertical-align: top;\n",
       "    }\n",
       "</style>\n",
       "<table border=\"1\" class=\"dataframe\">\n",
       "  <thead>\n",
       "    <tr style=\"text-align: right;\">\n",
       "      <th></th>\n",
       "      <th>tweet_id</th>\n",
       "      <th>in_reply_to_status_id</th>\n",
       "      <th>in_reply_to_user_id</th>\n",
       "      <th>timestamp</th>\n",
       "      <th>source</th>\n",
       "      <th>text</th>\n",
       "      <th>retweeted_status_id</th>\n",
       "      <th>retweeted_status_user_id</th>\n",
       "      <th>retweeted_status_timestamp</th>\n",
       "      <th>expanded_urls</th>\n",
       "      <th>rating_numerator</th>\n",
       "      <th>rating_denominator</th>\n",
       "      <th>name</th>\n",
       "      <th>doggo</th>\n",
       "      <th>floofer</th>\n",
       "      <th>pupper</th>\n",
       "      <th>puppo</th>\n",
       "    </tr>\n",
       "  </thead>\n",
       "  <tbody>\n",
       "    <tr>\n",
       "      <th>0</th>\n",
       "      <td>892420643555336193</td>\n",
       "      <td>NaN</td>\n",
       "      <td>NaN</td>\n",
       "      <td>2017-08-01 16:23:56 +0000</td>\n",
       "      <td>&lt;a href=\"http://twitter.com/download/iphone\" r...</td>\n",
       "      <td>This is Phineas. He's a mystical boy. Only eve...</td>\n",
       "      <td>NaN</td>\n",
       "      <td>NaN</td>\n",
       "      <td>NaN</td>\n",
       "      <td>https://twitter.com/dog_rates/status/892420643...</td>\n",
       "      <td>13</td>\n",
       "      <td>10</td>\n",
       "      <td>Phineas</td>\n",
       "      <td>None</td>\n",
       "      <td>None</td>\n",
       "      <td>None</td>\n",
       "      <td>None</td>\n",
       "    </tr>\n",
       "    <tr>\n",
       "      <th>1</th>\n",
       "      <td>892177421306343426</td>\n",
       "      <td>NaN</td>\n",
       "      <td>NaN</td>\n",
       "      <td>2017-08-01 00:17:27 +0000</td>\n",
       "      <td>&lt;a href=\"http://twitter.com/download/iphone\" r...</td>\n",
       "      <td>This is Tilly. She's just checking pup on you....</td>\n",
       "      <td>NaN</td>\n",
       "      <td>NaN</td>\n",
       "      <td>NaN</td>\n",
       "      <td>https://twitter.com/dog_rates/status/892177421...</td>\n",
       "      <td>13</td>\n",
       "      <td>10</td>\n",
       "      <td>Tilly</td>\n",
       "      <td>None</td>\n",
       "      <td>None</td>\n",
       "      <td>None</td>\n",
       "      <td>None</td>\n",
       "    </tr>\n",
       "  </tbody>\n",
       "</table>\n",
       "</div>"
      ],
      "text/plain": [
       "             tweet_id  in_reply_to_status_id  in_reply_to_user_id  \\\n",
       "0  892420643555336193                    NaN                  NaN   \n",
       "1  892177421306343426                    NaN                  NaN   \n",
       "\n",
       "                   timestamp  \\\n",
       "0  2017-08-01 16:23:56 +0000   \n",
       "1  2017-08-01 00:17:27 +0000   \n",
       "\n",
       "                                              source  \\\n",
       "0  <a href=\"http://twitter.com/download/iphone\" r...   \n",
       "1  <a href=\"http://twitter.com/download/iphone\" r...   \n",
       "\n",
       "                                                text  retweeted_status_id  \\\n",
       "0  This is Phineas. He's a mystical boy. Only eve...                  NaN   \n",
       "1  This is Tilly. She's just checking pup on you....                  NaN   \n",
       "\n",
       "   retweeted_status_user_id retweeted_status_timestamp  \\\n",
       "0                       NaN                        NaN   \n",
       "1                       NaN                        NaN   \n",
       "\n",
       "                                       expanded_urls  rating_numerator  \\\n",
       "0  https://twitter.com/dog_rates/status/892420643...                13   \n",
       "1  https://twitter.com/dog_rates/status/892177421...                13   \n",
       "\n",
       "   rating_denominator     name doggo floofer pupper puppo  \n",
       "0                  10  Phineas  None    None   None  None  \n",
       "1                  10    Tilly  None    None   None  None  "
      ]
     },
     "execution_count": 1166,
     "metadata": {},
     "output_type": "execute_result"
    }
   ],
   "source": [
    "dog_ratings.head(2)"
   ]
  },
  {
   "cell_type": "code",
   "execution_count": null,
   "metadata": {
    "collapsed": true
   },
   "outputs": [],
   "source": [
    "#download the tweet image predictions file from the url\n",
    "url='https://d17h27t6h515a5.cloudfront.net/topher/2017/August/599fd2ad_image-predictions/image-predictions.tsv'\n",
    "response=rqst.get(url)\n",
    "\n",
    "with open(url.split('/')[-1],mode='wb') as file:\n",
    "    file.write(response.content)"
   ]
  },
  {
   "cell_type": "code",
   "execution_count": 1167,
   "metadata": {
    "collapsed": false
   },
   "outputs": [
    {
     "data": {
      "text/html": [
       "<div>\n",
       "<style>\n",
       "    .dataframe thead tr:only-child th {\n",
       "        text-align: right;\n",
       "    }\n",
       "\n",
       "    .dataframe thead th {\n",
       "        text-align: left;\n",
       "    }\n",
       "\n",
       "    .dataframe tbody tr th {\n",
       "        vertical-align: top;\n",
       "    }\n",
       "</style>\n",
       "<table border=\"1\" class=\"dataframe\">\n",
       "  <thead>\n",
       "    <tr style=\"text-align: right;\">\n",
       "      <th></th>\n",
       "      <th>tweet_id</th>\n",
       "      <th>jpg_url</th>\n",
       "      <th>img_num</th>\n",
       "      <th>p1</th>\n",
       "      <th>p1_conf</th>\n",
       "      <th>p1_dog</th>\n",
       "      <th>p2</th>\n",
       "      <th>p2_conf</th>\n",
       "      <th>p2_dog</th>\n",
       "      <th>p3</th>\n",
       "      <th>p3_conf</th>\n",
       "      <th>p3_dog</th>\n",
       "    </tr>\n",
       "  </thead>\n",
       "  <tbody>\n",
       "    <tr>\n",
       "      <th>0</th>\n",
       "      <td>666020888022790149</td>\n",
       "      <td>https://pbs.twimg.com/media/CT4udn0WwAA0aMy.jpg</td>\n",
       "      <td>1</td>\n",
       "      <td>Welsh_springer_spaniel</td>\n",
       "      <td>0.465074</td>\n",
       "      <td>True</td>\n",
       "      <td>collie</td>\n",
       "      <td>0.156665</td>\n",
       "      <td>True</td>\n",
       "      <td>Shetland_sheepdog</td>\n",
       "      <td>0.061428</td>\n",
       "      <td>True</td>\n",
       "    </tr>\n",
       "    <tr>\n",
       "      <th>1</th>\n",
       "      <td>666029285002620928</td>\n",
       "      <td>https://pbs.twimg.com/media/CT42GRgUYAA5iDo.jpg</td>\n",
       "      <td>1</td>\n",
       "      <td>redbone</td>\n",
       "      <td>0.506826</td>\n",
       "      <td>True</td>\n",
       "      <td>miniature_pinscher</td>\n",
       "      <td>0.074192</td>\n",
       "      <td>True</td>\n",
       "      <td>Rhodesian_ridgeback</td>\n",
       "      <td>0.072010</td>\n",
       "      <td>True</td>\n",
       "    </tr>\n",
       "  </tbody>\n",
       "</table>\n",
       "</div>"
      ],
      "text/plain": [
       "             tweet_id                                          jpg_url  \\\n",
       "0  666020888022790149  https://pbs.twimg.com/media/CT4udn0WwAA0aMy.jpg   \n",
       "1  666029285002620928  https://pbs.twimg.com/media/CT42GRgUYAA5iDo.jpg   \n",
       "\n",
       "   img_num                      p1   p1_conf  p1_dog                  p2  \\\n",
       "0        1  Welsh_springer_spaniel  0.465074    True              collie   \n",
       "1        1                 redbone  0.506826    True  miniature_pinscher   \n",
       "\n",
       "    p2_conf  p2_dog                   p3   p3_conf  p3_dog  \n",
       "0  0.156665    True    Shetland_sheepdog  0.061428    True  \n",
       "1  0.074192    True  Rhodesian_ridgeback  0.072010    True  "
      ]
     },
     "execution_count": 1167,
     "metadata": {},
     "output_type": "execute_result"
    }
   ],
   "source": [
    "#Then read in the downloaded tsv file\n",
    "img_predictions= pd.read_csv(r'image-predictions.tsv',sep='\\t' )\n",
    "img_predictions.head(2)"
   ]
  },
  {
   "cell_type": "markdown",
   "metadata": {},
   "source": [
    "### Query Twitter data"
   ]
  },
  {
   "cell_type": "markdown",
   "metadata": {},
   "source": [
    "Set up a Twitter application and hence create an API object that will be used to gather Twitter data."
   ]
  },
  {
   "cell_type": "code",
   "execution_count": 4,
   "metadata": {
    "collapsed": true
   },
   "outputs": [],
   "source": [
    "consumer_key = 'MY CONSUMER KEY'\n",
    "consumer_secret = 'MY CONSUMER SECRET'\n",
    "access_token = 'MY ACCESS TOKEN'\n",
    "access_secret = 'MY ACCESS SECRET'\n",
    "\n",
    "auth = tweepy.OAuthHandler(consumer_key, consumer_secret)\n",
    "auth.set_access_token(access_token_key, access_secret)\n",
    "\n",
    "#set rate limit parameters for the API to True.Rate limits are divided into 15 minute intervals.\n",
    "api = tweepy.API(auth, wait_on_rate_limit=True, wait_on_rate_limit_notify =True)\n"
   ]
  },
  {
   "cell_type": "code",
   "execution_count": 10,
   "metadata": {
    "collapsed": false
   },
   "outputs": [
    {
     "name": "stdout",
     "output_type": "stream",
     "text": [
      "all done\n"
     ]
    }
   ],
   "source": [
    "#Query each tweet id and write its json data into tweet_json.txt with each tweet's json data in its own line.\n",
    "#import codecs\n",
    "from timeit import default_timer as timer\n",
    "\n",
    "tweet_tmr_lst=[]\n",
    "excp_lst=[]\n",
    "with open('tweet_json.txt','w',encoding='utf-8') as jsnfile:\n",
    "    for tweetid in dog_ratings['tweet_id']:\n",
    "        try:\n",
    "            start = timer()\n",
    "            tweet=api.get_status(tweetid,tweet_mode='extended')\n",
    "            json.dump(tweet._json,jsnfile)\n",
    "            jsnfile.write('\\n')\n",
    "            end = timer()\n",
    "            tweet_tmr_lst.append({tweetid:(end-start)})\n",
    "        except:\n",
    "            excp_lst.append(tweetid)\n",
    "            continue\n",
    "    print('all done')"
   ]
  },
  {
   "cell_type": "code",
   "execution_count": 1168,
   "metadata": {
    "collapsed": true
   },
   "outputs": [],
   "source": [
    "#Read the json data in to a list\n",
    "tweet_data=[]\n",
    "with open('tweet_json.txt','r') as tweetf:\n",
    "    for line in tweetf:\n",
    "        tweetj=json.loads(line)\n",
    "        tweet_data.append(tweetj)"
   ]
  },
  {
   "cell_type": "code",
   "execution_count": 16,
   "metadata": {
    "collapsed": false
   },
   "outputs": [
    {
     "data": {
      "text/plain": [
       "11"
      ]
     },
     "execution_count": 16,
     "metadata": {},
     "output_type": "execute_result"
    }
   ],
   "source": [
    "#missing tweets\n",
    "len(excp_lst)"
   ]
  },
  {
   "cell_type": "code",
   "execution_count": 7,
   "metadata": {
    "collapsed": false
   },
   "outputs": [
    {
     "data": {
      "text/plain": [
       "2345"
      ]
     },
     "execution_count": 7,
     "metadata": {},
     "output_type": "execute_result"
    }
   ],
   "source": [
    "#Total number of tweets\n",
    "len(tweet_data)"
   ]
  },
  {
   "cell_type": "code",
   "execution_count": 1169,
   "metadata": {
    "collapsed": true
   },
   "outputs": [],
   "source": [
    "#Create a dataframe\n",
    "tweet_data_df=pd.DataFrame()"
   ]
  },
  {
   "cell_type": "code",
   "execution_count": 1170,
   "metadata": {
    "collapsed": true
   },
   "outputs": [],
   "source": [
    "#Add three new columns to the additional data scraped\n",
    "tweet_data_df['tweet_id']=[tweet['id']for tweet in tweet_data]\n",
    "tweet_data_df['retweet_count']=[tweet['retweet_count']for tweet in tweet_data]\n",
    "tweet_data_df['favourite_count']=[tweet['favorite_count']for tweet in tweet_data]"
   ]
  },
  {
   "cell_type": "code",
   "execution_count": 1171,
   "metadata": {
    "collapsed": false
   },
   "outputs": [
    {
     "data": {
      "text/html": [
       "<div>\n",
       "<style>\n",
       "    .dataframe thead tr:only-child th {\n",
       "        text-align: right;\n",
       "    }\n",
       "\n",
       "    .dataframe thead th {\n",
       "        text-align: left;\n",
       "    }\n",
       "\n",
       "    .dataframe tbody tr th {\n",
       "        vertical-align: top;\n",
       "    }\n",
       "</style>\n",
       "<table border=\"1\" class=\"dataframe\">\n",
       "  <thead>\n",
       "    <tr style=\"text-align: right;\">\n",
       "      <th></th>\n",
       "      <th>tweet_id</th>\n",
       "      <th>retweet_count</th>\n",
       "      <th>favourite_count</th>\n",
       "    </tr>\n",
       "  </thead>\n",
       "  <tbody>\n",
       "    <tr>\n",
       "      <th>0</th>\n",
       "      <td>892420643555336193</td>\n",
       "      <td>8571</td>\n",
       "      <td>38736</td>\n",
       "    </tr>\n",
       "    <tr>\n",
       "      <th>1</th>\n",
       "      <td>892177421306343426</td>\n",
       "      <td>6300</td>\n",
       "      <td>33193</td>\n",
       "    </tr>\n",
       "    <tr>\n",
       "      <th>2</th>\n",
       "      <td>891815181378084864</td>\n",
       "      <td>4184</td>\n",
       "      <td>24995</td>\n",
       "    </tr>\n",
       "    <tr>\n",
       "      <th>3</th>\n",
       "      <td>891689557279858688</td>\n",
       "      <td>8697</td>\n",
       "      <td>42139</td>\n",
       "    </tr>\n",
       "    <tr>\n",
       "      <th>4</th>\n",
       "      <td>891327558926688256</td>\n",
       "      <td>9460</td>\n",
       "      <td>40277</td>\n",
       "    </tr>\n",
       "  </tbody>\n",
       "</table>\n",
       "</div>"
      ],
      "text/plain": [
       "             tweet_id  retweet_count  favourite_count\n",
       "0  892420643555336193           8571            38736\n",
       "1  892177421306343426           6300            33193\n",
       "2  891815181378084864           4184            24995\n",
       "3  891689557279858688           8697            42139\n",
       "4  891327558926688256           9460            40277"
      ]
     },
     "execution_count": 1171,
     "metadata": {},
     "output_type": "execute_result"
    }
   ],
   "source": [
    "tweet_data_df.head()"
   ]
  },
  {
   "cell_type": "markdown",
   "metadata": {
    "collapsed": false
   },
   "source": [
    "At the end of gather stage, we have three dataframes\n",
    "1. Enhanced twitter data\n",
    "       dog_ratings\n",
    "2. Image predictions data\n",
    "       img_predictions\n",
    "3. Additional twitter data\n",
    "       tweet_data_df"
   ]
  },
  {
   "cell_type": "markdown",
   "metadata": {},
   "source": [
    "<a id='assess'></a>\n",
    "## Assess"
   ]
  },
  {
   "cell_type": "code",
   "execution_count": 1902,
   "metadata": {
    "collapsed": false
   },
   "outputs": [
    {
     "data": {
      "text/html": [
       "<div>\n",
       "<style>\n",
       "    .dataframe thead tr:only-child th {\n",
       "        text-align: right;\n",
       "    }\n",
       "\n",
       "    .dataframe thead th {\n",
       "        text-align: left;\n",
       "    }\n",
       "\n",
       "    .dataframe tbody tr th {\n",
       "        vertical-align: top;\n",
       "    }\n",
       "</style>\n",
       "<table border=\"1\" class=\"dataframe\">\n",
       "  <thead>\n",
       "    <tr style=\"text-align: right;\">\n",
       "      <th></th>\n",
       "      <th>tweet_id</th>\n",
       "      <th>in_reply_to_status_id</th>\n",
       "      <th>in_reply_to_user_id</th>\n",
       "      <th>timestamp</th>\n",
       "      <th>source</th>\n",
       "      <th>text</th>\n",
       "      <th>retweeted_status_id</th>\n",
       "      <th>retweeted_status_user_id</th>\n",
       "      <th>retweeted_status_timestamp</th>\n",
       "      <th>expanded_urls</th>\n",
       "      <th>rating_numerator</th>\n",
       "      <th>rating_denominator</th>\n",
       "      <th>name</th>\n",
       "      <th>doggo</th>\n",
       "      <th>floofer</th>\n",
       "      <th>pupper</th>\n",
       "      <th>puppo</th>\n",
       "    </tr>\n",
       "  </thead>\n",
       "  <tbody>\n",
       "    <tr>\n",
       "      <th>887</th>\n",
       "      <td>759923798737051648</td>\n",
       "      <td>NaN</td>\n",
       "      <td>NaN</td>\n",
       "      <td>2016-08-01 01:28:46 +0000</td>\n",
       "      <td>&lt;a href=\"http://twitter.com/download/iphone\" r...</td>\n",
       "      <td>We only rate dogs... this is a Taiwanese Guide...</td>\n",
       "      <td>NaN</td>\n",
       "      <td>NaN</td>\n",
       "      <td>NaN</td>\n",
       "      <td>https://twitter.com/dog_rates/status/759923798...</td>\n",
       "      <td>10</td>\n",
       "      <td>10</td>\n",
       "      <td>None</td>\n",
       "      <td>None</td>\n",
       "      <td>None</td>\n",
       "      <td>None</td>\n",
       "      <td>None</td>\n",
       "    </tr>\n",
       "    <tr>\n",
       "      <th>64</th>\n",
       "      <td>879674319642796034</td>\n",
       "      <td>8.795538e+17</td>\n",
       "      <td>3.105441e+09</td>\n",
       "      <td>2017-06-27 12:14:36 +0000</td>\n",
       "      <td>&lt;a href=\"http://twitter.com/download/iphone\" r...</td>\n",
       "      <td>@RealKentMurphy 14/10 confirmed</td>\n",
       "      <td>NaN</td>\n",
       "      <td>NaN</td>\n",
       "      <td>NaN</td>\n",
       "      <td>NaN</td>\n",
       "      <td>14</td>\n",
       "      <td>10</td>\n",
       "      <td>None</td>\n",
       "      <td>None</td>\n",
       "      <td>None</td>\n",
       "      <td>None</td>\n",
       "      <td>None</td>\n",
       "    </tr>\n",
       "  </tbody>\n",
       "</table>\n",
       "</div>"
      ],
      "text/plain": [
       "               tweet_id  in_reply_to_status_id  in_reply_to_user_id  \\\n",
       "887  759923798737051648                    NaN                  NaN   \n",
       "64   879674319642796034           8.795538e+17         3.105441e+09   \n",
       "\n",
       "                     timestamp  \\\n",
       "887  2016-08-01 01:28:46 +0000   \n",
       "64   2017-06-27 12:14:36 +0000   \n",
       "\n",
       "                                                source  \\\n",
       "887  <a href=\"http://twitter.com/download/iphone\" r...   \n",
       "64   <a href=\"http://twitter.com/download/iphone\" r...   \n",
       "\n",
       "                                                  text  retweeted_status_id  \\\n",
       "887  We only rate dogs... this is a Taiwanese Guide...                  NaN   \n",
       "64                     @RealKentMurphy 14/10 confirmed                  NaN   \n",
       "\n",
       "     retweeted_status_user_id retweeted_status_timestamp  \\\n",
       "887                       NaN                        NaN   \n",
       "64                        NaN                        NaN   \n",
       "\n",
       "                                         expanded_urls  rating_numerator  \\\n",
       "887  https://twitter.com/dog_rates/status/759923798...                10   \n",
       "64                                                 NaN                14   \n",
       "\n",
       "     rating_denominator  name doggo floofer pupper puppo  \n",
       "887                  10  None  None    None   None  None  \n",
       "64                   10  None  None    None   None  None  "
      ]
     },
     "execution_count": 1902,
     "metadata": {},
     "output_type": "execute_result"
    }
   ],
   "source": [
    "#Visually check the contents of the dataframe\n",
    "dog_ratings.sample(2)"
   ]
  },
  {
   "cell_type": "code",
   "execution_count": 1903,
   "metadata": {
    "collapsed": false
   },
   "outputs": [
    {
     "name": "stdout",
     "output_type": "stream",
     "text": [
      "<class 'pandas.core.frame.DataFrame'>\n",
      "RangeIndex: 2356 entries, 0 to 2355\n",
      "Data columns (total 17 columns):\n",
      "tweet_id                      2356 non-null int64\n",
      "in_reply_to_status_id         78 non-null float64\n",
      "in_reply_to_user_id           78 non-null float64\n",
      "timestamp                     2356 non-null object\n",
      "source                        2356 non-null object\n",
      "text                          2356 non-null object\n",
      "retweeted_status_id           181 non-null float64\n",
      "retweeted_status_user_id      181 non-null float64\n",
      "retweeted_status_timestamp    181 non-null object\n",
      "expanded_urls                 2297 non-null object\n",
      "rating_numerator              2356 non-null int64\n",
      "rating_denominator            2356 non-null int64\n",
      "name                          2356 non-null object\n",
      "doggo                         2356 non-null object\n",
      "floofer                       2356 non-null object\n",
      "pupper                        2356 non-null object\n",
      "puppo                         2356 non-null object\n",
      "dtypes: float64(4), int64(3), object(10)\n",
      "memory usage: 313.0+ KB\n"
     ]
    }
   ],
   "source": [
    "#Assess the data in the enhanced Twitter archive :datatype,row and columns and their count, missing values\n",
    "dog_ratings.info()"
   ]
  },
  {
   "cell_type": "code",
   "execution_count": 1904,
   "metadata": {
    "collapsed": false
   },
   "outputs": [
    {
     "data": {
      "text/html": [
       "<div>\n",
       "<style>\n",
       "    .dataframe thead tr:only-child th {\n",
       "        text-align: right;\n",
       "    }\n",
       "\n",
       "    .dataframe thead th {\n",
       "        text-align: left;\n",
       "    }\n",
       "\n",
       "    .dataframe tbody tr th {\n",
       "        vertical-align: top;\n",
       "    }\n",
       "</style>\n",
       "<table border=\"1\" class=\"dataframe\">\n",
       "  <thead>\n",
       "    <tr style=\"text-align: right;\">\n",
       "      <th></th>\n",
       "      <th>tweet_id</th>\n",
       "      <th>in_reply_to_status_id</th>\n",
       "      <th>in_reply_to_user_id</th>\n",
       "      <th>timestamp</th>\n",
       "      <th>source</th>\n",
       "      <th>text</th>\n",
       "      <th>retweeted_status_id</th>\n",
       "      <th>retweeted_status_user_id</th>\n",
       "      <th>retweeted_status_timestamp</th>\n",
       "      <th>expanded_urls</th>\n",
       "      <th>rating_numerator</th>\n",
       "      <th>rating_denominator</th>\n",
       "      <th>name</th>\n",
       "      <th>doggo</th>\n",
       "      <th>floofer</th>\n",
       "      <th>pupper</th>\n",
       "      <th>puppo</th>\n",
       "    </tr>\n",
       "  </thead>\n",
       "  <tbody>\n",
       "    <tr>\n",
       "      <th>605</th>\n",
       "      <td>798576900688019456</td>\n",
       "      <td>NaN</td>\n",
       "      <td>NaN</td>\n",
       "      <td>2016-11-15 17:22:24 +0000</td>\n",
       "      <td>&lt;a href=\"http://twitter.com/download/iphone\" r...</td>\n",
       "      <td>RT @dog_rates: Not familiar with this breed. N...</td>\n",
       "      <td>6.661041e+17</td>\n",
       "      <td>4.196984e+09</td>\n",
       "      <td>2015-11-16 04:02:55 +0000</td>\n",
       "      <td>https://twitter.com/dog_rates/status/666104133...</td>\n",
       "      <td>1</td>\n",
       "      <td>10</td>\n",
       "      <td>None</td>\n",
       "      <td>None</td>\n",
       "      <td>None</td>\n",
       "      <td>None</td>\n",
       "      <td>None</td>\n",
       "    </tr>\n",
       "    <tr>\n",
       "      <th>829</th>\n",
       "      <td>768909767477751808</td>\n",
       "      <td>NaN</td>\n",
       "      <td>NaN</td>\n",
       "      <td>2016-08-25 20:35:48 +0000</td>\n",
       "      <td>&lt;a href=\"http://twitter.com/download/iphone\" r...</td>\n",
       "      <td>RT @dog_rates: When it's Janet from accounting...</td>\n",
       "      <td>7.001438e+17</td>\n",
       "      <td>4.196984e+09</td>\n",
       "      <td>2016-02-18 02:24:13 +0000</td>\n",
       "      <td>https://twitter.com/dog_rates/status/700143752...</td>\n",
       "      <td>10</td>\n",
       "      <td>10</td>\n",
       "      <td>None</td>\n",
       "      <td>None</td>\n",
       "      <td>None</td>\n",
       "      <td>pupper</td>\n",
       "      <td>None</td>\n",
       "    </tr>\n",
       "  </tbody>\n",
       "</table>\n",
       "</div>"
      ],
      "text/plain": [
       "               tweet_id  in_reply_to_status_id  in_reply_to_user_id  \\\n",
       "605  798576900688019456                    NaN                  NaN   \n",
       "829  768909767477751808                    NaN                  NaN   \n",
       "\n",
       "                     timestamp  \\\n",
       "605  2016-11-15 17:22:24 +0000   \n",
       "829  2016-08-25 20:35:48 +0000   \n",
       "\n",
       "                                                source  \\\n",
       "605  <a href=\"http://twitter.com/download/iphone\" r...   \n",
       "829  <a href=\"http://twitter.com/download/iphone\" r...   \n",
       "\n",
       "                                                  text  retweeted_status_id  \\\n",
       "605  RT @dog_rates: Not familiar with this breed. N...         6.661041e+17   \n",
       "829  RT @dog_rates: When it's Janet from accounting...         7.001438e+17   \n",
       "\n",
       "     retweeted_status_user_id retweeted_status_timestamp  \\\n",
       "605              4.196984e+09  2015-11-16 04:02:55 +0000   \n",
       "829              4.196984e+09  2016-02-18 02:24:13 +0000   \n",
       "\n",
       "                                         expanded_urls  rating_numerator  \\\n",
       "605  https://twitter.com/dog_rates/status/666104133...                 1   \n",
       "829  https://twitter.com/dog_rates/status/700143752...                10   \n",
       "\n",
       "     rating_denominator  name doggo floofer  pupper puppo  \n",
       "605                  10  None  None    None    None  None  \n",
       "829                  10  None  None    None  pupper  None  "
      ]
     },
     "execution_count": 1904,
     "metadata": {},
     "output_type": "execute_result"
    }
   ],
   "source": [
    "#filter on the non null values for the retweet related columns.\n",
    "dog_ratings[dog_ratings.retweeted_status_id.notnull()].sample(2)"
   ]
  },
  {
   "cell_type": "code",
   "execution_count": 1905,
   "metadata": {
    "collapsed": false
   },
   "outputs": [
    {
     "data": {
      "text/plain": [
       "181"
      ]
     },
     "execution_count": 1905,
     "metadata": {},
     "output_type": "execute_result"
    }
   ],
   "source": [
    "#Count of tweet entries which are not original tweets.\n",
    "dog_ratings[dog_ratings.retweeted_status_id.notnull()].count()['retweeted_status_id']"
   ]
  },
  {
   "cell_type": "code",
   "execution_count": 1906,
   "metadata": {
    "collapsed": false
   },
   "outputs": [
    {
     "data": {
      "text/plain": [
       "0"
      ]
     },
     "execution_count": 1906,
     "metadata": {},
     "output_type": "execute_result"
    }
   ],
   "source": [
    "#Check for duplicate rows\n",
    "sum(dog_ratings.duplicated() )"
   ]
  },
  {
   "cell_type": "code",
   "execution_count": 1907,
   "metadata": {
    "collapsed": false
   },
   "outputs": [
    {
     "data": {
      "text/html": [
       "<div>\n",
       "<style>\n",
       "    .dataframe thead tr:only-child th {\n",
       "        text-align: right;\n",
       "    }\n",
       "\n",
       "    .dataframe thead th {\n",
       "        text-align: left;\n",
       "    }\n",
       "\n",
       "    .dataframe tbody tr th {\n",
       "        vertical-align: top;\n",
       "    }\n",
       "</style>\n",
       "<table border=\"1\" class=\"dataframe\">\n",
       "  <thead>\n",
       "    <tr style=\"text-align: right;\">\n",
       "      <th></th>\n",
       "      <th>tweet_id</th>\n",
       "      <th>in_reply_to_status_id</th>\n",
       "      <th>in_reply_to_user_id</th>\n",
       "      <th>timestamp</th>\n",
       "      <th>source</th>\n",
       "      <th>text</th>\n",
       "      <th>retweeted_status_id</th>\n",
       "      <th>retweeted_status_user_id</th>\n",
       "      <th>retweeted_status_timestamp</th>\n",
       "      <th>expanded_urls</th>\n",
       "      <th>rating_numerator</th>\n",
       "      <th>rating_denominator</th>\n",
       "      <th>name</th>\n",
       "      <th>doggo</th>\n",
       "      <th>floofer</th>\n",
       "      <th>pupper</th>\n",
       "      <th>puppo</th>\n",
       "    </tr>\n",
       "  </thead>\n",
       "  <tbody>\n",
       "    <tr>\n",
       "      <th>30</th>\n",
       "      <td>886267009285017600</td>\n",
       "      <td>8.862664e+17</td>\n",
       "      <td>2.281182e+09</td>\n",
       "      <td>2017-07-15 16:51:35 +0000</td>\n",
       "      <td>&lt;a href=\"http://twitter.com/download/iphone\" r...</td>\n",
       "      <td>@NonWhiteHat @MayhewMayhem omg hello tanner yo...</td>\n",
       "      <td>NaN</td>\n",
       "      <td>NaN</td>\n",
       "      <td>NaN</td>\n",
       "      <td>NaN</td>\n",
       "      <td>12</td>\n",
       "      <td>10</td>\n",
       "      <td>None</td>\n",
       "      <td>None</td>\n",
       "      <td>None</td>\n",
       "      <td>None</td>\n",
       "      <td>None</td>\n",
       "    </tr>\n",
       "  </tbody>\n",
       "</table>\n",
       "</div>"
      ],
      "text/plain": [
       "              tweet_id  in_reply_to_status_id  in_reply_to_user_id  \\\n",
       "30  886267009285017600           8.862664e+17         2.281182e+09   \n",
       "\n",
       "                    timestamp  \\\n",
       "30  2017-07-15 16:51:35 +0000   \n",
       "\n",
       "                                               source  \\\n",
       "30  <a href=\"http://twitter.com/download/iphone\" r...   \n",
       "\n",
       "                                                 text  retweeted_status_id  \\\n",
       "30  @NonWhiteHat @MayhewMayhem omg hello tanner yo...                  NaN   \n",
       "\n",
       "    retweeted_status_user_id retweeted_status_timestamp expanded_urls  \\\n",
       "30                       NaN                        NaN           NaN   \n",
       "\n",
       "    rating_numerator  rating_denominator  name doggo floofer pupper puppo  \n",
       "30                12                  10  None  None    None   None  None  "
      ]
     },
     "execution_count": 1907,
     "metadata": {},
     "output_type": "execute_result"
    }
   ],
   "source": [
    "dog_ratings[dog_ratings.in_reply_to_status_id.notnull()].head(1)"
   ]
  },
  {
   "cell_type": "code",
   "execution_count": 1908,
   "metadata": {
    "collapsed": false
   },
   "outputs": [
    {
     "data": {
      "text/plain": [
       "None       745\n",
       "a           55\n",
       "Charlie     12\n",
       "Cooper      11\n",
       "Lucy        11\n",
       "Oliver      11\n",
       "Lola        10\n",
       "Penny       10\n",
       "Tucker      10\n",
       "Bo           9\n",
       "Name: name, dtype: int64"
      ]
     },
     "execution_count": 1908,
     "metadata": {},
     "output_type": "execute_result"
    }
   ],
   "source": [
    "#Check for non-names of dogs\n",
    "dog_ratings.name.value_counts().head(10)"
   ]
  },
  {
   "cell_type": "code",
   "execution_count": 1909,
   "metadata": {
    "collapsed": false
   },
   "outputs": [
    {
     "data": {
      "text/plain": [
       "22           such\n",
       "56              a\n",
       "118         quite\n",
       "169         quite\n",
       "193         quite\n",
       "335           not\n",
       "369           one\n",
       "542    incredibly\n",
       "649             a\n",
       "682           mad\n",
       "Name: name, dtype: object"
      ]
     },
     "execution_count": 1909,
     "metadata": {},
     "output_type": "execute_result"
    }
   ],
   "source": [
    "dog_ratings[dog_ratings.name.str.islower()]['name'].head(10)"
   ]
  },
  {
   "cell_type": "code",
   "execution_count": 1910,
   "metadata": {
    "collapsed": false
   },
   "outputs": [
    {
     "data": {
      "text/html": [
       "<div>\n",
       "<style>\n",
       "    .dataframe thead tr:only-child th {\n",
       "        text-align: right;\n",
       "    }\n",
       "\n",
       "    .dataframe thead th {\n",
       "        text-align: left;\n",
       "    }\n",
       "\n",
       "    .dataframe tbody tr th {\n",
       "        vertical-align: top;\n",
       "    }\n",
       "</style>\n",
       "<table border=\"1\" class=\"dataframe\">\n",
       "  <thead>\n",
       "    <tr style=\"text-align: right;\">\n",
       "      <th></th>\n",
       "      <th>tweet_id</th>\n",
       "      <th>doggo</th>\n",
       "      <th>floofer</th>\n",
       "      <th>puppo</th>\n",
       "      <th>pupper</th>\n",
       "      <th>name</th>\n",
       "    </tr>\n",
       "  </thead>\n",
       "  <tbody>\n",
       "    <tr>\n",
       "      <th>0</th>\n",
       "      <td>892420643555336193</td>\n",
       "      <td>None</td>\n",
       "      <td>None</td>\n",
       "      <td>None</td>\n",
       "      <td>None</td>\n",
       "      <td>Phineas</td>\n",
       "    </tr>\n",
       "    <tr>\n",
       "      <th>1</th>\n",
       "      <td>892177421306343426</td>\n",
       "      <td>None</td>\n",
       "      <td>None</td>\n",
       "      <td>None</td>\n",
       "      <td>None</td>\n",
       "      <td>Tilly</td>\n",
       "    </tr>\n",
       "    <tr>\n",
       "      <th>2</th>\n",
       "      <td>891815181378084864</td>\n",
       "      <td>None</td>\n",
       "      <td>None</td>\n",
       "      <td>None</td>\n",
       "      <td>None</td>\n",
       "      <td>Archie</td>\n",
       "    </tr>\n",
       "    <tr>\n",
       "      <th>3</th>\n",
       "      <td>891689557279858688</td>\n",
       "      <td>None</td>\n",
       "      <td>None</td>\n",
       "      <td>None</td>\n",
       "      <td>None</td>\n",
       "      <td>Darla</td>\n",
       "    </tr>\n",
       "  </tbody>\n",
       "</table>\n",
       "</div>"
      ],
      "text/plain": [
       "             tweet_id doggo floofer puppo pupper     name\n",
       "0  892420643555336193  None    None  None   None  Phineas\n",
       "1  892177421306343426  None    None  None   None    Tilly\n",
       "2  891815181378084864  None    None  None   None   Archie\n",
       "3  891689557279858688  None    None  None   None    Darla"
      ]
     },
     "execution_count": 1910,
     "metadata": {},
     "output_type": "execute_result"
    }
   ],
   "source": [
    "#check the dog stage columns -doggo,floofer,puppo,pupper  which donot have any value or does not indicate the dog stage\n",
    "dog_ratings[(dog_ratings.doggo =='None')&(dog_ratings.floofer =='None')&(dog_ratings.puppo =='None')&(dog_ratings.pupper =='None') ].head(4)[['tweet_id','doggo','floofer','puppo','pupper','name']]"
   ]
  },
  {
   "cell_type": "code",
   "execution_count": 1911,
   "metadata": {
    "collapsed": false
   },
   "outputs": [
    {
     "data": {
      "text/plain": [
       "1976"
      ]
     },
     "execution_count": 1911,
     "metadata": {},
     "output_type": "execute_result"
    }
   ],
   "source": [
    "#Count of entries which does'nt have any dog stage mentioned.\n",
    "len(dog_ratings[(dog_ratings.doggo =='None')&(dog_ratings.floofer =='None')&(dog_ratings.puppo =='None')&(dog_ratings.pupper =='None') ])"
   ]
  },
  {
   "cell_type": "code",
   "execution_count": 1912,
   "metadata": {
    "collapsed": false
   },
   "outputs": [
    {
     "data": {
      "text/plain": [
       "380"
      ]
     },
     "execution_count": 1912,
     "metadata": {},
     "output_type": "execute_result"
    }
   ],
   "source": [
    "#atleast one entry in the dog stage columns\n",
    "dog_stage_val=len(dog_ratings[(dog_ratings.doggo =='doggo')|(dog_ratings.floofer =='floofer')|(dog_ratings.puppo =='puppo')|(dog_ratings.pupper =='pupper') ])\n",
    "dog_stage_val"
   ]
  },
  {
   "cell_type": "code",
   "execution_count": 1913,
   "metadata": {
    "collapsed": false
   },
   "outputs": [
    {
     "data": {
      "text/plain": [
       "True"
      ]
     },
     "execution_count": 1913,
     "metadata": {},
     "output_type": "execute_result"
    }
   ],
   "source": [
    "# Cross check the record with atleast one dog stage entry\n",
    "dog_stage_val==dog_ratings.shape[0]  - (len(dog_ratings[(dog_ratings.doggo =='None')&(dog_ratings.floofer =='None')&(dog_ratings.puppo =='None')&(dog_ratings.pupper =='None') ]))"
   ]
  },
  {
   "cell_type": "code",
   "execution_count": 1914,
   "metadata": {
    "collapsed": false
   },
   "outputs": [
    {
     "data": {
      "text/plain": [
       "(1, 1, 12)"
      ]
     },
     "execution_count": 1914,
     "metadata": {},
     "output_type": "execute_result"
    }
   ],
   "source": [
    "#Multiple dog stage captured for a single tweet\n",
    "L1=len(dog_ratings[(dog_ratings.doggo =='doggo')&(dog_ratings.floofer =='floofer')&(dog_ratings.puppo =='None')&(dog_ratings.pupper =='None')])\n",
    "L2=len(dog_ratings[(dog_ratings.doggo =='doggo')&((dog_ratings.floofer =='None')&(dog_ratings.puppo =='puppo')&(dog_ratings.pupper =='None')) ])\n",
    "L3=len(dog_ratings[(dog_ratings.doggo =='doggo')&((dog_ratings.floofer =='None')&(dog_ratings.puppo =='None')&(dog_ratings.pupper =='pupper')) ])\n",
    "\n",
    "L1,L2,L3\n"
   ]
  },
  {
   "cell_type": "code",
   "execution_count": 1915,
   "metadata": {
    "collapsed": false
   },
   "outputs": [
    {
     "data": {
      "text/html": [
       "<div>\n",
       "<style>\n",
       "    .dataframe thead tr:only-child th {\n",
       "        text-align: right;\n",
       "    }\n",
       "\n",
       "    .dataframe thead th {\n",
       "        text-align: left;\n",
       "    }\n",
       "\n",
       "    .dataframe tbody tr th {\n",
       "        vertical-align: top;\n",
       "    }\n",
       "</style>\n",
       "<table border=\"1\" class=\"dataframe\">\n",
       "  <thead>\n",
       "    <tr style=\"text-align: right;\">\n",
       "      <th></th>\n",
       "      <th>tweet_id</th>\n",
       "      <th>doggo</th>\n",
       "      <th>floofer</th>\n",
       "      <th>puppo</th>\n",
       "      <th>pupper</th>\n",
       "      <th>name</th>\n",
       "    </tr>\n",
       "  </thead>\n",
       "  <tbody>\n",
       "    <tr>\n",
       "      <th>191</th>\n",
       "      <td>855851453814013952</td>\n",
       "      <td>doggo</td>\n",
       "      <td>None</td>\n",
       "      <td>puppo</td>\n",
       "      <td>None</td>\n",
       "      <td>None</td>\n",
       "    </tr>\n",
       "  </tbody>\n",
       "</table>\n",
       "</div>"
      ],
      "text/plain": [
       "               tweet_id  doggo floofer  puppo pupper  name\n",
       "191  855851453814013952  doggo    None  puppo   None  None"
      ]
     },
     "execution_count": 1915,
     "metadata": {},
     "output_type": "execute_result"
    }
   ],
   "source": [
    "#Random check for more than one dog stage\n",
    "dog_ratings[(dog_ratings.doggo =='doggo') &(dog_ratings.puppo =='puppo')][['tweet_id','doggo','floofer','puppo','pupper','name']]"
   ]
  },
  {
   "cell_type": "code",
   "execution_count": 1916,
   "metadata": {
    "collapsed": false
   },
   "outputs": [
    {
     "data": {
      "text/plain": [
       "83"
      ]
     },
     "execution_count": 1916,
     "metadata": {},
     "output_type": "execute_result"
    }
   ],
   "source": [
    "#only doggo\n",
    "doggo_count=len(dog_ratings[(dog_ratings.doggo =='doggo')&(dog_ratings.floofer =='None')&(dog_ratings.puppo =='None')&(dog_ratings.pupper =='None') ])\n",
    "doggo_count"
   ]
  },
  {
   "cell_type": "code",
   "execution_count": 1917,
   "metadata": {
    "collapsed": false
   },
   "outputs": [
    {
     "data": {
      "text/plain": [
       "9"
      ]
     },
     "execution_count": 1917,
     "metadata": {},
     "output_type": "execute_result"
    }
   ],
   "source": [
    "#floofer\n",
    "floofer_count=len(dog_ratings[(dog_ratings.floofer =='floofer')&(dog_ratings.doggo =='None')&(dog_ratings.puppo =='None')&(dog_ratings.pupper =='None') ])\n",
    "floofer_count"
   ]
  },
  {
   "cell_type": "code",
   "execution_count": 1918,
   "metadata": {
    "collapsed": false
   },
   "outputs": [
    {
     "data": {
      "text/plain": [
       "245"
      ]
     },
     "execution_count": 1918,
     "metadata": {},
     "output_type": "execute_result"
    }
   ],
   "source": [
    "#pupper\n",
    "pupper_count=len(dog_ratings[(dog_ratings.pupper =='pupper')&(dog_ratings.doggo =='None')&(dog_ratings.puppo =='None')&(dog_ratings.floofer =='None')])\n",
    "pupper_count"
   ]
  },
  {
   "cell_type": "code",
   "execution_count": 1919,
   "metadata": {
    "collapsed": false
   },
   "outputs": [
    {
     "data": {
      "text/plain": [
       "29"
      ]
     },
     "execution_count": 1919,
     "metadata": {},
     "output_type": "execute_result"
    }
   ],
   "source": [
    "#puppo\n",
    "puppo_count=len(dog_ratings[(dog_ratings.puppo =='puppo')&(dog_ratings.doggo =='None')&(dog_ratings.pupper =='None')&(dog_ratings.floofer =='None') ])\n",
    "puppo_count"
   ]
  },
  {
   "cell_type": "code",
   "execution_count": 1920,
   "metadata": {
    "collapsed": false
   },
   "outputs": [
    {
     "data": {
      "text/html": [
       "<div>\n",
       "<style>\n",
       "    .dataframe thead tr:only-child th {\n",
       "        text-align: right;\n",
       "    }\n",
       "\n",
       "    .dataframe thead th {\n",
       "        text-align: left;\n",
       "    }\n",
       "\n",
       "    .dataframe tbody tr th {\n",
       "        vertical-align: top;\n",
       "    }\n",
       "</style>\n",
       "<table border=\"1\" class=\"dataframe\">\n",
       "  <thead>\n",
       "    <tr style=\"text-align: right;\">\n",
       "      <th></th>\n",
       "      <th>tweet_id</th>\n",
       "      <th>doggo</th>\n",
       "      <th>floofer</th>\n",
       "      <th>puppo</th>\n",
       "      <th>pupper</th>\n",
       "      <th>name</th>\n",
       "    </tr>\n",
       "  </thead>\n",
       "  <tbody>\n",
       "    <tr>\n",
       "      <th>822</th>\n",
       "      <td>770093767776997377</td>\n",
       "      <td>doggo</td>\n",
       "      <td>None</td>\n",
       "      <td>None</td>\n",
       "      <td>pupper</td>\n",
       "      <td>just</td>\n",
       "    </tr>\n",
       "    <tr>\n",
       "      <th>1113</th>\n",
       "      <td>733109485275860992</td>\n",
       "      <td>doggo</td>\n",
       "      <td>None</td>\n",
       "      <td>None</td>\n",
       "      <td>pupper</td>\n",
       "      <td>None</td>\n",
       "    </tr>\n",
       "    <tr>\n",
       "      <th>565</th>\n",
       "      <td>802265048156610565</td>\n",
       "      <td>doggo</td>\n",
       "      <td>None</td>\n",
       "      <td>None</td>\n",
       "      <td>pupper</td>\n",
       "      <td>None</td>\n",
       "    </tr>\n",
       "    <tr>\n",
       "      <th>705</th>\n",
       "      <td>785639753186217984</td>\n",
       "      <td>doggo</td>\n",
       "      <td>None</td>\n",
       "      <td>None</td>\n",
       "      <td>pupper</td>\n",
       "      <td>Pinot</td>\n",
       "    </tr>\n",
       "    <tr>\n",
       "      <th>778</th>\n",
       "      <td>775898661951791106</td>\n",
       "      <td>doggo</td>\n",
       "      <td>None</td>\n",
       "      <td>None</td>\n",
       "      <td>pupper</td>\n",
       "      <td>None</td>\n",
       "    </tr>\n",
       "    <tr>\n",
       "      <th>531</th>\n",
       "      <td>808106460588765185</td>\n",
       "      <td>doggo</td>\n",
       "      <td>None</td>\n",
       "      <td>None</td>\n",
       "      <td>pupper</td>\n",
       "      <td>None</td>\n",
       "    </tr>\n",
       "    <tr>\n",
       "      <th>460</th>\n",
       "      <td>817777686764523521</td>\n",
       "      <td>doggo</td>\n",
       "      <td>None</td>\n",
       "      <td>None</td>\n",
       "      <td>pupper</td>\n",
       "      <td>Dido</td>\n",
       "    </tr>\n",
       "    <tr>\n",
       "      <th>733</th>\n",
       "      <td>781308096455073793</td>\n",
       "      <td>doggo</td>\n",
       "      <td>None</td>\n",
       "      <td>None</td>\n",
       "      <td>pupper</td>\n",
       "      <td>None</td>\n",
       "    </tr>\n",
       "    <tr>\n",
       "      <th>200</th>\n",
       "      <td>854010172552949760</td>\n",
       "      <td>doggo</td>\n",
       "      <td>floofer</td>\n",
       "      <td>None</td>\n",
       "      <td>None</td>\n",
       "      <td>None</td>\n",
       "    </tr>\n",
       "    <tr>\n",
       "      <th>191</th>\n",
       "      <td>855851453814013952</td>\n",
       "      <td>doggo</td>\n",
       "      <td>None</td>\n",
       "      <td>puppo</td>\n",
       "      <td>None</td>\n",
       "      <td>None</td>\n",
       "    </tr>\n",
       "  </tbody>\n",
       "</table>\n",
       "</div>"
      ],
      "text/plain": [
       "                tweet_id  doggo  floofer  puppo  pupper   name\n",
       "822   770093767776997377  doggo     None   None  pupper   just\n",
       "1113  733109485275860992  doggo     None   None  pupper   None\n",
       "565   802265048156610565  doggo     None   None  pupper   None\n",
       "705   785639753186217984  doggo     None   None  pupper  Pinot\n",
       "778   775898661951791106  doggo     None   None  pupper   None\n",
       "531   808106460588765185  doggo     None   None  pupper   None\n",
       "460   817777686764523521  doggo     None   None  pupper   Dido\n",
       "733   781308096455073793  doggo     None   None  pupper   None\n",
       "200   854010172552949760  doggo  floofer   None    None   None\n",
       "191   855851453814013952  doggo     None  puppo    None   None"
      ]
     },
     "execution_count": 1920,
     "metadata": {},
     "output_type": "execute_result"
    }
   ],
   "source": [
    "#Random checks show that more than one dog stage is mentioned in a tweet for the same dog, but reading the text\n",
    "#gives the complete picture.\n",
    "dog_ratings[(dog_ratings.doggo =='doggo')&((dog_ratings.floofer =='floofer')|(dog_ratings.puppo =='puppo')|(dog_ratings.pupper =='pupper')) ].sample(10)[['tweet_id','doggo','floofer','puppo','pupper','name']]"
   ]
  },
  {
   "cell_type": "code",
   "execution_count": 1921,
   "metadata": {
    "collapsed": false
   },
   "outputs": [
    {
     "data": {
      "text/plain": [
       "<a href=\"http://twitter.com/download/iphone\" rel=\"nofollow\">Twitter for iPhone</a>     2221\n",
       "<a href=\"http://vine.co\" rel=\"nofollow\">Vine - Make a Scene</a>                          91\n",
       "<a href=\"http://twitter.com\" rel=\"nofollow\">Twitter Web Client</a>                       33\n",
       "<a href=\"https://about.twitter.com/products/tweetdeck\" rel=\"nofollow\">TweetDeck</a>      11\n",
       "Name: source, dtype: int64"
      ]
     },
     "execution_count": 1921,
     "metadata": {},
     "output_type": "execute_result"
    }
   ],
   "source": [
    "#Unique source of tweets\n",
    "dog_ratings.source.value_counts()"
   ]
  },
  {
   "cell_type": "code",
   "execution_count": 1922,
   "metadata": {
    "collapsed": false
   },
   "outputs": [
    {
     "data": {
      "text/html": [
       "<div>\n",
       "<style>\n",
       "    .dataframe thead tr:only-child th {\n",
       "        text-align: right;\n",
       "    }\n",
       "\n",
       "    .dataframe thead th {\n",
       "        text-align: left;\n",
       "    }\n",
       "\n",
       "    .dataframe tbody tr th {\n",
       "        vertical-align: top;\n",
       "    }\n",
       "</style>\n",
       "<table border=\"1\" class=\"dataframe\">\n",
       "  <thead>\n",
       "    <tr style=\"text-align: right;\">\n",
       "      <th></th>\n",
       "      <th>tweet_id</th>\n",
       "      <th>in_reply_to_status_id</th>\n",
       "      <th>in_reply_to_user_id</th>\n",
       "      <th>timestamp</th>\n",
       "      <th>source</th>\n",
       "      <th>text</th>\n",
       "      <th>retweeted_status_id</th>\n",
       "      <th>retweeted_status_user_id</th>\n",
       "      <th>retweeted_status_timestamp</th>\n",
       "      <th>expanded_urls</th>\n",
       "      <th>rating_numerator</th>\n",
       "      <th>rating_denominator</th>\n",
       "      <th>name</th>\n",
       "      <th>doggo</th>\n",
       "      <th>floofer</th>\n",
       "      <th>pupper</th>\n",
       "      <th>puppo</th>\n",
       "    </tr>\n",
       "  </thead>\n",
       "  <tbody>\n",
       "    <tr>\n",
       "      <th>342</th>\n",
       "      <td>832088576586297345</td>\n",
       "      <td>8.320875e+17</td>\n",
       "      <td>30582082.0</td>\n",
       "      <td>2017-02-16 04:45:50 +0000</td>\n",
       "      <td>&lt;a href=\"http://twitter.com/download/iphone\" r...</td>\n",
       "      <td>@docmisterio account started on 11/15/15</td>\n",
       "      <td>NaN</td>\n",
       "      <td>NaN</td>\n",
       "      <td>NaN</td>\n",
       "      <td>NaN</td>\n",
       "      <td>11</td>\n",
       "      <td>15</td>\n",
       "      <td>None</td>\n",
       "      <td>None</td>\n",
       "      <td>None</td>\n",
       "      <td>None</td>\n",
       "      <td>None</td>\n",
       "    </tr>\n",
       "    <tr>\n",
       "      <th>433</th>\n",
       "      <td>820690176645140481</td>\n",
       "      <td>NaN</td>\n",
       "      <td>NaN</td>\n",
       "      <td>2017-01-15 17:52:40 +0000</td>\n",
       "      <td>&lt;a href=\"http://twitter.com/download/iphone\" r...</td>\n",
       "      <td>The floofs have been released I repeat the flo...</td>\n",
       "      <td>NaN</td>\n",
       "      <td>NaN</td>\n",
       "      <td>NaN</td>\n",
       "      <td>https://twitter.com/dog_rates/status/820690176...</td>\n",
       "      <td>84</td>\n",
       "      <td>70</td>\n",
       "      <td>None</td>\n",
       "      <td>None</td>\n",
       "      <td>None</td>\n",
       "      <td>None</td>\n",
       "      <td>None</td>\n",
       "    </tr>\n",
       "    <tr>\n",
       "      <th>784</th>\n",
       "      <td>775096608509886464</td>\n",
       "      <td>NaN</td>\n",
       "      <td>NaN</td>\n",
       "      <td>2016-09-11 22:20:06 +0000</td>\n",
       "      <td>&lt;a href=\"http://twitter.com/download/iphone\" r...</td>\n",
       "      <td>RT @dog_rates: After so many requests, this is...</td>\n",
       "      <td>7.403732e+17</td>\n",
       "      <td>4.196984e+09</td>\n",
       "      <td>2016-06-08 02:41:38 +0000</td>\n",
       "      <td>https://twitter.com/dog_rates/status/740373189...</td>\n",
       "      <td>9</td>\n",
       "      <td>11</td>\n",
       "      <td>None</td>\n",
       "      <td>None</td>\n",
       "      <td>None</td>\n",
       "      <td>None</td>\n",
       "      <td>None</td>\n",
       "    </tr>\n",
       "  </tbody>\n",
       "</table>\n",
       "</div>"
      ],
      "text/plain": [
       "               tweet_id  in_reply_to_status_id  in_reply_to_user_id  \\\n",
       "342  832088576586297345           8.320875e+17           30582082.0   \n",
       "433  820690176645140481                    NaN                  NaN   \n",
       "784  775096608509886464                    NaN                  NaN   \n",
       "\n",
       "                     timestamp  \\\n",
       "342  2017-02-16 04:45:50 +0000   \n",
       "433  2017-01-15 17:52:40 +0000   \n",
       "784  2016-09-11 22:20:06 +0000   \n",
       "\n",
       "                                                source  \\\n",
       "342  <a href=\"http://twitter.com/download/iphone\" r...   \n",
       "433  <a href=\"http://twitter.com/download/iphone\" r...   \n",
       "784  <a href=\"http://twitter.com/download/iphone\" r...   \n",
       "\n",
       "                                                  text  retweeted_status_id  \\\n",
       "342           @docmisterio account started on 11/15/15                  NaN   \n",
       "433  The floofs have been released I repeat the flo...                  NaN   \n",
       "784  RT @dog_rates: After so many requests, this is...         7.403732e+17   \n",
       "\n",
       "     retweeted_status_user_id retweeted_status_timestamp  \\\n",
       "342                       NaN                        NaN   \n",
       "433                       NaN                        NaN   \n",
       "784              4.196984e+09  2016-06-08 02:41:38 +0000   \n",
       "\n",
       "                                         expanded_urls  rating_numerator  \\\n",
       "342                                                NaN                11   \n",
       "433  https://twitter.com/dog_rates/status/820690176...                84   \n",
       "784  https://twitter.com/dog_rates/status/740373189...                 9   \n",
       "\n",
       "     rating_denominator  name doggo floofer pupper puppo  \n",
       "342                  15  None  None    None   None  None  \n",
       "433                  70  None  None    None   None  None  \n",
       "784                  11  None  None    None   None  None  "
      ]
     },
     "execution_count": 1922,
     "metadata": {},
     "output_type": "execute_result"
    }
   ],
   "source": [
    "#Asses ratings columns for denominator and numertaor.Since WeRatedogs have unique rating system where\n",
    "#numerator rating is in excess of denominator\n",
    "dog_ratings[dog_ratings['rating_denominator']>10].head(3)"
   ]
  },
  {
   "cell_type": "code",
   "execution_count": 1929,
   "metadata": {
    "collapsed": false
   },
   "outputs": [
    {
     "data": {
      "text/plain": [
       "10     2333\n",
       "11        3\n",
       "50        3\n",
       "80        2\n",
       "20        2\n",
       "7         1\n",
       "2         1\n",
       "16        1\n",
       "40        1\n",
       "0         1\n",
       "15        1\n",
       "90        1\n",
       "110       1\n",
       "120       1\n",
       "130       1\n",
       "150       1\n",
       "170       1\n",
       "70        1\n",
       "Name: rating_denominator, dtype: int64"
      ]
     },
     "execution_count": 1929,
     "metadata": {},
     "output_type": "execute_result"
    }
   ],
   "source": [
    "#Varied denominator values with max value of 170 and there is eveb a 0\n",
    "dog_ratings.rating_denominator.value_counts().sort_values(ascending=False)"
   ]
  },
  {
   "cell_type": "code",
   "execution_count": 1924,
   "metadata": {
    "collapsed": false
   },
   "outputs": [
    {
     "data": {
      "text/plain": [
       "12      558\n",
       "11      464\n",
       "10      461\n",
       "13      351\n",
       "9       158\n",
       "8       102\n",
       "7        55\n",
       "14       54\n",
       "5        37\n",
       "6        32\n",
       "3        19\n",
       "4        17\n",
       "1         9\n",
       "2         9\n",
       "420       2\n",
       "0         2\n",
       "15        2\n",
       "75        2\n",
       "121       1\n",
       "80        1\n",
       "204       1\n",
       "24        1\n",
       "143       1\n",
       "99        1\n",
       "45        1\n",
       "27        1\n",
       "17        1\n",
       "1776      1\n",
       "960       1\n",
       "666       1\n",
       "182       1\n",
       "26        1\n",
       "144       1\n",
       "88        1\n",
       "84        1\n",
       "165       1\n",
       "60        1\n",
       "50        1\n",
       "44        1\n",
       "20        1\n",
       "Name: rating_numerator, dtype: int64"
      ]
     },
     "execution_count": 1924,
     "metadata": {},
     "output_type": "execute_result"
    }
   ],
   "source": [
    "#Varied numerator values >10 and max value of 1776.\n",
    "dog_ratings.rating_numerator.value_counts().sort_values(ascending=False)"
   ]
  },
  {
   "cell_type": "markdown",
   "metadata": {},
   "source": [
    "Looking at the unique rating system we see that there are extreme values for denominator and numerator.Good and better ratings seems to be greater numerator(>10) and lower denominator values."
   ]
  },
  {
   "cell_type": "code",
   "execution_count": 1925,
   "metadata": {
    "collapsed": false
   },
   "outputs": [
    {
     "data": {
      "text/plain": [
       "2"
      ]
     },
     "execution_count": 1925,
     "metadata": {},
     "output_type": "execute_result"
    }
   ],
   "source": [
    "#Difference in total records and jpg_url column containing string .jpg in the column values\n",
    "img_predictions_clean.shape[0] - img_predictions[img_predictions['jpg_url'].str.contains('.jpg')].shape[0]"
   ]
  },
  {
   "cell_type": "code",
   "execution_count": 1926,
   "metadata": {
    "collapsed": false
   },
   "outputs": [
    {
     "data": {
      "text/html": [
       "<div>\n",
       "<style>\n",
       "    .dataframe thead tr:only-child th {\n",
       "        text-align: right;\n",
       "    }\n",
       "\n",
       "    .dataframe thead th {\n",
       "        text-align: left;\n",
       "    }\n",
       "\n",
       "    .dataframe tbody tr th {\n",
       "        vertical-align: top;\n",
       "    }\n",
       "</style>\n",
       "<table border=\"1\" class=\"dataframe\">\n",
       "  <thead>\n",
       "    <tr style=\"text-align: right;\">\n",
       "      <th></th>\n",
       "      <th>tweet_id</th>\n",
       "      <th>jpg_url</th>\n",
       "      <th>img_num</th>\n",
       "      <th>p1</th>\n",
       "      <th>p1_conf</th>\n",
       "      <th>p1_dog</th>\n",
       "      <th>p2</th>\n",
       "      <th>p2_conf</th>\n",
       "      <th>p2_dog</th>\n",
       "      <th>p3</th>\n",
       "      <th>p3_conf</th>\n",
       "      <th>p3_dog</th>\n",
       "    </tr>\n",
       "  </thead>\n",
       "  <tbody>\n",
       "    <tr>\n",
       "      <th>320</th>\n",
       "      <td>671789708968640512</td>\n",
       "      <td>https://pbs.twimg.com/tweet_video_thumb/CVKtH-...</td>\n",
       "      <td>1</td>\n",
       "      <td>dalmatian</td>\n",
       "      <td>0.114259</td>\n",
       "      <td>True</td>\n",
       "      <td>teddy</td>\n",
       "      <td>0.062275</td>\n",
       "      <td>False</td>\n",
       "      <td>steam_locomotive</td>\n",
       "      <td>0.049700</td>\n",
       "      <td>False</td>\n",
       "    </tr>\n",
       "    <tr>\n",
       "      <th>815</th>\n",
       "      <td>692752401762250755</td>\n",
       "      <td>https://pbs.twimg.com/tweet_video_thumb/CZ0mhd...</td>\n",
       "      <td>1</td>\n",
       "      <td>Samoyed</td>\n",
       "      <td>0.471276</td>\n",
       "      <td>True</td>\n",
       "      <td>Siberian_husky</td>\n",
       "      <td>0.158850</td>\n",
       "      <td>True</td>\n",
       "      <td>Eskimo_dog</td>\n",
       "      <td>0.138672</td>\n",
       "      <td>True</td>\n",
       "    </tr>\n",
       "  </tbody>\n",
       "</table>\n",
       "</div>"
      ],
      "text/plain": [
       "               tweet_id                                            jpg_url  \\\n",
       "320  671789708968640512  https://pbs.twimg.com/tweet_video_thumb/CVKtH-...   \n",
       "815  692752401762250755  https://pbs.twimg.com/tweet_video_thumb/CZ0mhd...   \n",
       "\n",
       "     img_num         p1   p1_conf  p1_dog              p2   p2_conf  p2_dog  \\\n",
       "320        1  dalmatian  0.114259    True           teddy  0.062275   False   \n",
       "815        1    Samoyed  0.471276    True  Siberian_husky  0.158850    True   \n",
       "\n",
       "                   p3   p3_conf  p3_dog  \n",
       "320  steam_locomotive  0.049700   False  \n",
       "815        Eskimo_dog  0.138672    True  "
      ]
     },
     "execution_count": 1926,
     "metadata": {},
     "output_type": "execute_result"
    }
   ],
   "source": [
    "#image urls that cannot be accessed.\n",
    "img_predictions[~img_predictions['jpg_url'].str.contains('.jpg')]"
   ]
  },
  {
   "cell_type": "code",
   "execution_count": 1927,
   "metadata": {
    "collapsed": false
   },
   "outputs": [
    {
     "data": {
      "text/plain": [
       "(https://pbs.twimg.com/tweet_video_thumb/CVKtH-4WIAAmiQ5.png    1\n",
       " Name: jpg_url, dtype: int64,\n",
       " https://pbs.twimg.com/tweet_video_thumb/CZ0mhduWkAICSGe.png    1\n",
       " Name: jpg_url, dtype: int64)"
      ]
     },
     "execution_count": 1927,
     "metadata": {},
     "output_type": "execute_result"
    }
   ],
   "source": [
    "#urls that doesnt contain string .jpg but a .png extension.\n",
    "\n",
    "img_predictions[img_predictions['tweet_id']==671789708968640512].jpg_url.value_counts(),img_predictions[img_predictions['tweet_id']==692752401762250755].jpg_url.value_counts()"
   ]
  },
  {
   "cell_type": "code",
   "execution_count": 1928,
   "metadata": {
    "collapsed": false
   },
   "outputs": [
    {
     "name": "stdout",
     "output_type": "stream",
     "text": [
      "<class 'pandas.core.frame.DataFrame'>\n",
      "RangeIndex: 2075 entries, 0 to 2074\n",
      "Data columns (total 12 columns):\n",
      "tweet_id    2075 non-null int64\n",
      "jpg_url     2075 non-null object\n",
      "img_num     2075 non-null int64\n",
      "p1          2075 non-null object\n",
      "p1_conf     2075 non-null float64\n",
      "p1_dog      2075 non-null bool\n",
      "p2          2075 non-null object\n",
      "p2_conf     2075 non-null float64\n",
      "p2_dog      2075 non-null bool\n",
      "p3          2075 non-null object\n",
      "p3_conf     2075 non-null float64\n",
      "p3_dog      2075 non-null bool\n",
      "dtypes: bool(3), float64(3), int64(2), object(4)\n",
      "memory usage: 152.1+ KB\n"
     ]
    }
   ],
   "source": [
    "#View the data details\n",
    "img_predictions.info()"
   ]
  },
  {
   "cell_type": "code",
   "execution_count": 1199,
   "metadata": {
    "collapsed": false
   },
   "outputs": [
    {
     "data": {
      "text/plain": [
       "golden_retriever      150\n",
       "Labrador_retriever    100\n",
       "Pembroke               89\n",
       "Chihuahua              83\n",
       "pug                    57\n",
       "Name: p1, dtype: int64"
      ]
     },
     "execution_count": 1199,
     "metadata": {},
     "output_type": "execute_result"
    }
   ],
   "source": [
    "#field/variable of interest-mixed case in string values\n",
    "img_predictions.p1.value_counts().head()"
   ]
  },
  {
   "cell_type": "code",
   "execution_count": 810,
   "metadata": {
    "collapsed": false
   },
   "outputs": [
    {
     "data": {
      "text/html": [
       "<div>\n",
       "<style>\n",
       "    .dataframe thead tr:only-child th {\n",
       "        text-align: right;\n",
       "    }\n",
       "\n",
       "    .dataframe thead th {\n",
       "        text-align: left;\n",
       "    }\n",
       "\n",
       "    .dataframe tbody tr th {\n",
       "        vertical-align: top;\n",
       "    }\n",
       "</style>\n",
       "<table border=\"1\" class=\"dataframe\">\n",
       "  <thead>\n",
       "    <tr style=\"text-align: right;\">\n",
       "      <th></th>\n",
       "      <th>tweet_id</th>\n",
       "      <th>jpg_url</th>\n",
       "      <th>img_num</th>\n",
       "      <th>p1</th>\n",
       "      <th>p1_conf</th>\n",
       "      <th>p1_dog</th>\n",
       "      <th>p2</th>\n",
       "      <th>p2_conf</th>\n",
       "      <th>p2_dog</th>\n",
       "      <th>p3</th>\n",
       "      <th>p3_conf</th>\n",
       "      <th>p3_dog</th>\n",
       "    </tr>\n",
       "  </thead>\n",
       "  <tbody>\n",
       "    <tr>\n",
       "      <th>149</th>\n",
       "      <td>668636665813057536</td>\n",
       "      <td>https://pbs.twimg.com/media/CUd5gBGWwAA0IVA.jpg</td>\n",
       "      <td>1</td>\n",
       "      <td>komondor</td>\n",
       "      <td>0.999956</td>\n",
       "      <td>True</td>\n",
       "      <td>llama</td>\n",
       "      <td>0.000043</td>\n",
       "      <td>False</td>\n",
       "      <td>ram</td>\n",
       "      <td>2.160900e-07</td>\n",
       "      <td>False</td>\n",
       "    </tr>\n",
       "    <tr>\n",
       "      <th>1372</th>\n",
       "      <td>762464539388485633</td>\n",
       "      <td>https://pbs.twimg.com/media/CpTRc4DUEAAYTq6.jpg</td>\n",
       "      <td>4</td>\n",
       "      <td>chow</td>\n",
       "      <td>0.999953</td>\n",
       "      <td>True</td>\n",
       "      <td>Tibetan_mastiff</td>\n",
       "      <td>0.000023</td>\n",
       "      <td>True</td>\n",
       "      <td>dhole</td>\n",
       "      <td>3.010330e-06</td>\n",
       "      <td>False</td>\n",
       "    </tr>\n",
       "    <tr>\n",
       "      <th>865</th>\n",
       "      <td>697463031882764288</td>\n",
       "      <td>https://pbs.twimg.com/media/Ca3i7CzXIAMLhg8.jpg</td>\n",
       "      <td>1</td>\n",
       "      <td>Labrador_retriever</td>\n",
       "      <td>0.999885</td>\n",
       "      <td>True</td>\n",
       "      <td>golden_retriever</td>\n",
       "      <td>0.000098</td>\n",
       "      <td>True</td>\n",
       "      <td>pug</td>\n",
       "      <td>8.267760e-06</td>\n",
       "      <td>True</td>\n",
       "    </tr>\n",
       "    <tr>\n",
       "      <th>475</th>\n",
       "      <td>675149409102012420</td>\n",
       "      <td>https://pbs.twimg.com/media/CV6czeEWEAEdChp.jpg</td>\n",
       "      <td>1</td>\n",
       "      <td>chow</td>\n",
       "      <td>0.999876</td>\n",
       "      <td>True</td>\n",
       "      <td>Tibetan_mastiff</td>\n",
       "      <td>0.000059</td>\n",
       "      <td>True</td>\n",
       "      <td>Tibetan_terrier</td>\n",
       "      <td>2.877850e-05</td>\n",
       "      <td>True</td>\n",
       "    </tr>\n",
       "    <tr>\n",
       "      <th>1014</th>\n",
       "      <td>709566166965075968</td>\n",
       "      <td>https://pbs.twimg.com/media/Cdjiqi6XIAIUOg-.jpg</td>\n",
       "      <td>1</td>\n",
       "      <td>chow</td>\n",
       "      <td>0.999837</td>\n",
       "      <td>True</td>\n",
       "      <td>Tibetan_mastiff</td>\n",
       "      <td>0.000117</td>\n",
       "      <td>True</td>\n",
       "      <td>Australian_terrier</td>\n",
       "      <td>1.133840e-05</td>\n",
       "      <td>True</td>\n",
       "    </tr>\n",
       "  </tbody>\n",
       "</table>\n",
       "</div>"
      ],
      "text/plain": [
       "                tweet_id                                          jpg_url  \\\n",
       "149   668636665813057536  https://pbs.twimg.com/media/CUd5gBGWwAA0IVA.jpg   \n",
       "1372  762464539388485633  https://pbs.twimg.com/media/CpTRc4DUEAAYTq6.jpg   \n",
       "865   697463031882764288  https://pbs.twimg.com/media/Ca3i7CzXIAMLhg8.jpg   \n",
       "475   675149409102012420  https://pbs.twimg.com/media/CV6czeEWEAEdChp.jpg   \n",
       "1014  709566166965075968  https://pbs.twimg.com/media/Cdjiqi6XIAIUOg-.jpg   \n",
       "\n",
       "      img_num                  p1   p1_conf  p1_dog                p2  \\\n",
       "149         1            komondor  0.999956    True             llama   \n",
       "1372        4                chow  0.999953    True   Tibetan_mastiff   \n",
       "865         1  Labrador_retriever  0.999885    True  golden_retriever   \n",
       "475         1                chow  0.999876    True   Tibetan_mastiff   \n",
       "1014        1                chow  0.999837    True   Tibetan_mastiff   \n",
       "\n",
       "       p2_conf  p2_dog                  p3       p3_conf  p3_dog  \n",
       "149   0.000043   False                 ram  2.160900e-07   False  \n",
       "1372  0.000023    True               dhole  3.010330e-06   False  \n",
       "865   0.000098    True                 pug  8.267760e-06    True  \n",
       "475   0.000059    True     Tibetan_terrier  2.877850e-05    True  \n",
       "1014  0.000117    True  Australian_terrier  1.133840e-05    True  "
      ]
     },
     "execution_count": 810,
     "metadata": {},
     "output_type": "execute_result"
    }
   ],
   "source": [
    "#Confidence level of the primary prediction\n",
    "img_predictions.query('p1_dog==True').sort_values('p1_conf',ascending=False).head()"
   ]
  },
  {
   "cell_type": "code",
   "execution_count": 1200,
   "metadata": {
    "collapsed": false
   },
   "outputs": [
    {
     "data": {
      "text/plain": [
       "True     1532\n",
       "False     543\n",
       "Name: p1_dog, dtype: int64"
      ]
     },
     "execution_count": 1200,
     "metadata": {},
     "output_type": "execute_result"
    }
   ],
   "source": [
    "#Records correctly predicted as dog.\n",
    "img_predictions.p1_dog.value_counts()"
   ]
  },
  {
   "cell_type": "code",
   "execution_count": 1201,
   "metadata": {
    "collapsed": false
   },
   "outputs": [
    {
     "data": {
      "text/plain": [
       "576"
      ]
     },
     "execution_count": 1201,
     "metadata": {},
     "output_type": "execute_result"
    }
   ],
   "source": [
    "#Record count where all three predictions for dog failed.\n",
    "img_predictions.query('p1_dog==False' and 'p2_dog==False' and 'p3_dog==False').count()['jpg_url']"
   ]
  },
  {
   "cell_type": "code",
   "execution_count": 1202,
   "metadata": {
    "collapsed": false
   },
   "outputs": [
    {
     "data": {
      "text/html": [
       "<div>\n",
       "<style>\n",
       "    .dataframe thead tr:only-child th {\n",
       "        text-align: right;\n",
       "    }\n",
       "\n",
       "    .dataframe thead th {\n",
       "        text-align: left;\n",
       "    }\n",
       "\n",
       "    .dataframe tbody tr th {\n",
       "        vertical-align: top;\n",
       "    }\n",
       "</style>\n",
       "<table border=\"1\" class=\"dataframe\">\n",
       "  <thead>\n",
       "    <tr style=\"text-align: right;\">\n",
       "      <th></th>\n",
       "      <th>tweet_id</th>\n",
       "      <th>jpg_url</th>\n",
       "      <th>img_num</th>\n",
       "      <th>p1</th>\n",
       "      <th>p1_conf</th>\n",
       "      <th>p1_dog</th>\n",
       "      <th>p2</th>\n",
       "      <th>p2_conf</th>\n",
       "      <th>p2_dog</th>\n",
       "      <th>p3</th>\n",
       "      <th>p3_conf</th>\n",
       "      <th>p3_dog</th>\n",
       "    </tr>\n",
       "  </thead>\n",
       "  <tbody>\n",
       "    <tr>\n",
       "      <th>6</th>\n",
       "      <td>666051853826850816</td>\n",
       "      <td>https://pbs.twimg.com/media/CT5KoJ1WoAAJash.jpg</td>\n",
       "      <td>1</td>\n",
       "      <td>box_turtle</td>\n",
       "      <td>0.933012</td>\n",
       "      <td>False</td>\n",
       "      <td>mud_turtle</td>\n",
       "      <td>0.045885</td>\n",
       "      <td>False</td>\n",
       "      <td>terrapin</td>\n",
       "      <td>0.017885</td>\n",
       "      <td>False</td>\n",
       "    </tr>\n",
       "    <tr>\n",
       "      <th>7</th>\n",
       "      <td>666055525042405380</td>\n",
       "      <td>https://pbs.twimg.com/media/CT5N9tpXIAAifs1.jpg</td>\n",
       "      <td>1</td>\n",
       "      <td>chow</td>\n",
       "      <td>0.692517</td>\n",
       "      <td>True</td>\n",
       "      <td>Tibetan_mastiff</td>\n",
       "      <td>0.058279</td>\n",
       "      <td>True</td>\n",
       "      <td>fur_coat</td>\n",
       "      <td>0.054449</td>\n",
       "      <td>False</td>\n",
       "    </tr>\n",
       "  </tbody>\n",
       "</table>\n",
       "</div>"
      ],
      "text/plain": [
       "             tweet_id                                          jpg_url  \\\n",
       "6  666051853826850816  https://pbs.twimg.com/media/CT5KoJ1WoAAJash.jpg   \n",
       "7  666055525042405380  https://pbs.twimg.com/media/CT5N9tpXIAAifs1.jpg   \n",
       "\n",
       "   img_num          p1   p1_conf  p1_dog               p2   p2_conf  p2_dog  \\\n",
       "6        1  box_turtle  0.933012   False       mud_turtle  0.045885   False   \n",
       "7        1        chow  0.692517    True  Tibetan_mastiff  0.058279    True   \n",
       "\n",
       "         p3   p3_conf  p3_dog  \n",
       "6  terrapin  0.017885   False  \n",
       "7  fur_coat  0.054449   False  "
      ]
     },
     "execution_count": 1202,
     "metadata": {},
     "output_type": "execute_result"
    }
   ],
   "source": [
    "#View failed primary dog prediction.\n",
    "img_predictions.query('p1_dog==False' and 'p2_dog==False' and 'p3_dog==False').head(2)"
   ]
  },
  {
   "cell_type": "code",
   "execution_count": 1203,
   "metadata": {
    "collapsed": false
   },
   "outputs": [
    {
     "data": {
      "text/html": [
       "<div>\n",
       "<style>\n",
       "    .dataframe thead tr:only-child th {\n",
       "        text-align: right;\n",
       "    }\n",
       "\n",
       "    .dataframe thead th {\n",
       "        text-align: left;\n",
       "    }\n",
       "\n",
       "    .dataframe tbody tr th {\n",
       "        vertical-align: top;\n",
       "    }\n",
       "</style>\n",
       "<table border=\"1\" class=\"dataframe\">\n",
       "  <thead>\n",
       "    <tr style=\"text-align: right;\">\n",
       "      <th></th>\n",
       "      <th>tweet_id</th>\n",
       "      <th>img_num</th>\n",
       "      <th>p1_conf</th>\n",
       "      <th>p2_conf</th>\n",
       "      <th>p3_conf</th>\n",
       "    </tr>\n",
       "  </thead>\n",
       "  <tbody>\n",
       "    <tr>\n",
       "      <th>count</th>\n",
       "      <td>2.075000e+03</td>\n",
       "      <td>2075.000000</td>\n",
       "      <td>2075.000000</td>\n",
       "      <td>2.075000e+03</td>\n",
       "      <td>2.075000e+03</td>\n",
       "    </tr>\n",
       "    <tr>\n",
       "      <th>mean</th>\n",
       "      <td>7.384514e+17</td>\n",
       "      <td>1.203855</td>\n",
       "      <td>0.594548</td>\n",
       "      <td>1.345886e-01</td>\n",
       "      <td>6.032417e-02</td>\n",
       "    </tr>\n",
       "    <tr>\n",
       "      <th>std</th>\n",
       "      <td>6.785203e+16</td>\n",
       "      <td>0.561875</td>\n",
       "      <td>0.271174</td>\n",
       "      <td>1.006657e-01</td>\n",
       "      <td>5.090593e-02</td>\n",
       "    </tr>\n",
       "    <tr>\n",
       "      <th>min</th>\n",
       "      <td>6.660209e+17</td>\n",
       "      <td>1.000000</td>\n",
       "      <td>0.044333</td>\n",
       "      <td>1.011300e-08</td>\n",
       "      <td>1.740170e-10</td>\n",
       "    </tr>\n",
       "    <tr>\n",
       "      <th>25%</th>\n",
       "      <td>6.764835e+17</td>\n",
       "      <td>1.000000</td>\n",
       "      <td>0.364412</td>\n",
       "      <td>5.388625e-02</td>\n",
       "      <td>1.622240e-02</td>\n",
       "    </tr>\n",
       "    <tr>\n",
       "      <th>50%</th>\n",
       "      <td>7.119988e+17</td>\n",
       "      <td>1.000000</td>\n",
       "      <td>0.588230</td>\n",
       "      <td>1.181810e-01</td>\n",
       "      <td>4.944380e-02</td>\n",
       "    </tr>\n",
       "    <tr>\n",
       "      <th>75%</th>\n",
       "      <td>7.932034e+17</td>\n",
       "      <td>1.000000</td>\n",
       "      <td>0.843855</td>\n",
       "      <td>1.955655e-01</td>\n",
       "      <td>9.180755e-02</td>\n",
       "    </tr>\n",
       "    <tr>\n",
       "      <th>max</th>\n",
       "      <td>8.924206e+17</td>\n",
       "      <td>4.000000</td>\n",
       "      <td>1.000000</td>\n",
       "      <td>4.880140e-01</td>\n",
       "      <td>2.734190e-01</td>\n",
       "    </tr>\n",
       "  </tbody>\n",
       "</table>\n",
       "</div>"
      ],
      "text/plain": [
       "           tweet_id      img_num      p1_conf       p2_conf       p3_conf\n",
       "count  2.075000e+03  2075.000000  2075.000000  2.075000e+03  2.075000e+03\n",
       "mean   7.384514e+17     1.203855     0.594548  1.345886e-01  6.032417e-02\n",
       "std    6.785203e+16     0.561875     0.271174  1.006657e-01  5.090593e-02\n",
       "min    6.660209e+17     1.000000     0.044333  1.011300e-08  1.740170e-10\n",
       "25%    6.764835e+17     1.000000     0.364412  5.388625e-02  1.622240e-02\n",
       "50%    7.119988e+17     1.000000     0.588230  1.181810e-01  4.944380e-02\n",
       "75%    7.932034e+17     1.000000     0.843855  1.955655e-01  9.180755e-02\n",
       "max    8.924206e+17     4.000000     1.000000  4.880140e-01  2.734190e-01"
      ]
     },
     "execution_count": 1203,
     "metadata": {},
     "output_type": "execute_result"
    }
   ],
   "source": [
    "img_predictions.describe()"
   ]
  },
  {
   "cell_type": "markdown",
   "metadata": {},
   "source": [
    "p2_conf and p3_conf - confidence level prediction is very low in second and third level prediction compared to p1_conf -first/primary prediction."
   ]
  },
  {
   "cell_type": "code",
   "execution_count": 1204,
   "metadata": {
    "collapsed": false
   },
   "outputs": [
    {
     "name": "stdout",
     "output_type": "stream",
     "text": [
      "<class 'pandas.core.frame.DataFrame'>\n",
      "RangeIndex: 2345 entries, 0 to 2344\n",
      "Data columns (total 3 columns):\n",
      "tweet_id           2345 non-null int64\n",
      "retweet_count      2345 non-null int64\n",
      "favourite_count    2345 non-null int64\n",
      "dtypes: int64(3)\n",
      "memory usage: 55.0 KB\n"
     ]
    }
   ],
   "source": [
    "tweet_data_df.info()"
   ]
  },
  {
   "cell_type": "code",
   "execution_count": 1205,
   "metadata": {
    "collapsed": false
   },
   "outputs": [
    {
     "data": {
      "text/html": [
       "<div>\n",
       "<style>\n",
       "    .dataframe thead tr:only-child th {\n",
       "        text-align: right;\n",
       "    }\n",
       "\n",
       "    .dataframe thead th {\n",
       "        text-align: left;\n",
       "    }\n",
       "\n",
       "    .dataframe tbody tr th {\n",
       "        vertical-align: top;\n",
       "    }\n",
       "</style>\n",
       "<table border=\"1\" class=\"dataframe\">\n",
       "  <thead>\n",
       "    <tr style=\"text-align: right;\">\n",
       "      <th></th>\n",
       "      <th>tweet_id</th>\n",
       "      <th>retweet_count</th>\n",
       "      <th>favourite_count</th>\n",
       "    </tr>\n",
       "  </thead>\n",
       "  <tbody>\n",
       "    <tr>\n",
       "      <th>count</th>\n",
       "      <td>2.345000e+03</td>\n",
       "      <td>2345.000000</td>\n",
       "      <td>2345.000000</td>\n",
       "    </tr>\n",
       "    <tr>\n",
       "      <th>mean</th>\n",
       "      <td>7.422940e+17</td>\n",
       "      <td>3018.759062</td>\n",
       "      <td>8052.624307</td>\n",
       "    </tr>\n",
       "    <tr>\n",
       "      <th>std</th>\n",
       "      <td>6.833642e+16</td>\n",
       "      <td>5021.235071</td>\n",
       "      <td>12118.217376</td>\n",
       "    </tr>\n",
       "    <tr>\n",
       "      <th>min</th>\n",
       "      <td>6.660209e+17</td>\n",
       "      <td>0.000000</td>\n",
       "      <td>0.000000</td>\n",
       "    </tr>\n",
       "    <tr>\n",
       "      <th>25%</th>\n",
       "      <td>6.783802e+17</td>\n",
       "      <td>606.000000</td>\n",
       "      <td>1404.000000</td>\n",
       "    </tr>\n",
       "    <tr>\n",
       "      <th>50%</th>\n",
       "      <td>7.189392e+17</td>\n",
       "      <td>1406.000000</td>\n",
       "      <td>3529.000000</td>\n",
       "    </tr>\n",
       "    <tr>\n",
       "      <th>75%</th>\n",
       "      <td>7.986979e+17</td>\n",
       "      <td>3511.000000</td>\n",
       "      <td>9954.000000</td>\n",
       "    </tr>\n",
       "    <tr>\n",
       "      <th>max</th>\n",
       "      <td>8.924206e+17</td>\n",
       "      <td>77209.000000</td>\n",
       "      <td>143141.000000</td>\n",
       "    </tr>\n",
       "  </tbody>\n",
       "</table>\n",
       "</div>"
      ],
      "text/plain": [
       "           tweet_id  retweet_count  favourite_count\n",
       "count  2.345000e+03    2345.000000      2345.000000\n",
       "mean   7.422940e+17    3018.759062      8052.624307\n",
       "std    6.833642e+16    5021.235071     12118.217376\n",
       "min    6.660209e+17       0.000000         0.000000\n",
       "25%    6.783802e+17     606.000000      1404.000000\n",
       "50%    7.189392e+17    1406.000000      3529.000000\n",
       "75%    7.986979e+17    3511.000000      9954.000000\n",
       "max    8.924206e+17   77209.000000    143141.000000"
      ]
     },
     "execution_count": 1205,
     "metadata": {},
     "output_type": "execute_result"
    }
   ],
   "source": [
    "tweet_data_df.describe()"
   ]
  },
  {
   "cell_type": "markdown",
   "metadata": {
    "collapsed": true
   },
   "source": [
    "### Observations\n",
    "Assessment of the data with respect to quality and tidiness are listed below-"
   ]
  },
  {
   "cell_type": "markdown",
   "metadata": {
    "collapsed": true
   },
   "source": [
    "**Quality Issues**\n",
    "\n",
    "1. NaN values and non null values in the columns - 'retweeted_status_id', 'retweeted_status_user_id', and 'retweeted_status_timestamp'\n",
    "\n",
    "2. Incorrect datatype for columns :in_reply_to_status_id, in_reply_to_user_id and timestamp\n",
    "\n",
    "3. Non descriptive column headers in dog_ratings dataframe:  doggo,floofer,pupper,puppo and names are not intuitive.\n",
    "\n",
    "4. Not all tweets have dog name(s) captured.Many non-name entries like a, None,officially,quite,etc are included.\n",
    "\n",
    "5. The columns :doggo,floofer,pupper,puppo indicates dog stage for the supposed dog mentioned in the tweet but there are tweet_ids where no dog stage has been captured and some of the tweets have more than one dog stage captured for the same mention.Also the column header names are non descriptive.\n",
    "\n",
    "6. Source can be made explicit instead of the html string, from a analysis and visualization perspective.\n",
    "\n",
    "7. Tweet id count in the img_predictions does not tally with that of the enhanced twitter data-Original tweets from enhanced twitter data to be matched against img_predictions indicating we need original tweets with images only.\n",
    "\n",
    "8. Non descriptive column header -'jpg_urls' in image predictions data.\n",
    "\n",
    "9. Inconsistent case -the dog breeds under p1,p2and p3 prediction columns have dog breeds in title case and also in lower case.\n",
    "\n",
    "10. Mismatch in the tweet id count between enhanced twitter data and additional twitter data.\n",
    "\n",
    "\n",
    "\n",
    "\n",
    "**Tidiness issues**\n",
    "\n",
    "1. Variables : doggo,floofer,pupper and puppo  can be categorized under 'dog stages'.\n",
    "\n",
    "2. enhanced twitter data and additional twitter data captured under dog_ratings_clean and tweet_data_df respectively can be merged.\n",
    "\n",
    "3. Timestamp column can be split into date and time columns.\n",
    "\n",
    "4. Dog breeds captured in img_predictions dataframe under p1,p2,p3 can be categorised under a  single column.\n"
   ]
  },
  {
   "cell_type": "markdown",
   "metadata": {
    "collapsed": true
   },
   "source": [
    "<a id='clean'></a>\n",
    "## Clean"
   ]
  },
  {
   "cell_type": "markdown",
   "metadata": {
    "collapsed": true
   },
   "source": [
    "### Solution -Quality and Tidiness"
   ]
  },
  {
   "cell_type": "code",
   "execution_count": 1938,
   "metadata": {
    "collapsed": true
   },
   "outputs": [],
   "source": [
    "#Make copy of each of the dataframes so as to clean the dirty data\n",
    "dog_ratings_clean=dog_ratings.copy()\n",
    "img_predictions_clean=img_predictions.copy()\n",
    "tweet_data_df=tweet_data_df.copy()"
   ]
  },
  {
   "cell_type": "markdown",
   "metadata": {},
   "source": [
    "### Define"
   ]
  },
  {
   "cell_type": "markdown",
   "metadata": {},
   "source": [
    " NaN and non-null values in the columns - 'retweeted_status_id', 'retweeted_status_user_id', and 'retweeted_status_timestamp' \n",
    "\n",
    "Retweet related columns has NaN values as these are original tweets.The above columns relating to retweet with non-null values  stores the representation of the original tweet indicating these entries are retweets, ie these have non-null values and we donot need retweets.Now we have to identify non-null values in these columns and remove them."
   ]
  },
  {
   "cell_type": "markdown",
   "metadata": {},
   "source": [
    "### Code"
   ]
  },
  {
   "cell_type": "code",
   "execution_count": 1939,
   "metadata": {
    "collapsed": false
   },
   "outputs": [
    {
     "data": {
      "text/plain": [
       "181"
      ]
     },
     "execution_count": 1939,
     "metadata": {},
     "output_type": "execute_result"
    }
   ],
   "source": [
    "#Count of retweets.Columns related to retweets() have \n",
    "retweet_count=dog_ratings_clean[dog_ratings_clean.retweeted_status_id.notnull()].count()['retweeted_status_id']\n",
    "retweet_count"
   ]
  },
  {
   "cell_type": "code",
   "execution_count": 1940,
   "metadata": {
    "collapsed": false
   },
   "outputs": [
    {
     "data": {
      "text/plain": [
       "2356"
      ]
     },
     "execution_count": 1940,
     "metadata": {},
     "output_type": "execute_result"
    }
   ],
   "source": [
    "dog_ratings_clean.shape[0]"
   ]
  },
  {
   "cell_type": "code",
   "execution_count": 1942,
   "metadata": {
    "collapsed": false
   },
   "outputs": [
    {
     "data": {
      "text/plain": [
       "2175"
      ]
     },
     "execution_count": 1942,
     "metadata": {},
     "output_type": "execute_result"
    }
   ],
   "source": [
    "#Original tweet count\n",
    "dog_ratings_clean.shape[0] - retweet_count"
   ]
  },
  {
   "cell_type": "code",
   "execution_count": 1941,
   "metadata": {
    "collapsed": false
   },
   "outputs": [
    {
     "data": {
      "text/html": [
       "<div>\n",
       "<style>\n",
       "    .dataframe thead tr:only-child th {\n",
       "        text-align: right;\n",
       "    }\n",
       "\n",
       "    .dataframe thead th {\n",
       "        text-align: left;\n",
       "    }\n",
       "\n",
       "    .dataframe tbody tr th {\n",
       "        vertical-align: top;\n",
       "    }\n",
       "</style>\n",
       "<table border=\"1\" class=\"dataframe\">\n",
       "  <thead>\n",
       "    <tr style=\"text-align: right;\">\n",
       "      <th></th>\n",
       "      <th>tweet_id</th>\n",
       "      <th>retweeted_status_id</th>\n",
       "      <th>retweeted_status_user_id</th>\n",
       "      <th>retweeted_status_timestamp</th>\n",
       "    </tr>\n",
       "  </thead>\n",
       "  <tbody>\n",
       "    <tr>\n",
       "      <th>535</th>\n",
       "      <td>807059379405148160</td>\n",
       "      <td>7.829691e+17</td>\n",
       "      <td>4.196984e+09</td>\n",
       "      <td>2016-10-03 15:42:44 +0000</td>\n",
       "    </tr>\n",
       "    <tr>\n",
       "      <th>890</th>\n",
       "      <td>759566828574212096</td>\n",
       "      <td>7.395441e+17</td>\n",
       "      <td>4.196984e+09</td>\n",
       "      <td>2016-06-05 19:47:03 +0000</td>\n",
       "    </tr>\n",
       "    <tr>\n",
       "      <th>822</th>\n",
       "      <td>770093767776997377</td>\n",
       "      <td>7.410673e+17</td>\n",
       "      <td>4.196984e+09</td>\n",
       "      <td>2016-06-10 00:39:48 +0000</td>\n",
       "    </tr>\n",
       "  </tbody>\n",
       "</table>\n",
       "</div>"
      ],
      "text/plain": [
       "               tweet_id  retweeted_status_id  retweeted_status_user_id  \\\n",
       "535  807059379405148160         7.829691e+17              4.196984e+09   \n",
       "890  759566828574212096         7.395441e+17              4.196984e+09   \n",
       "822  770093767776997377         7.410673e+17              4.196984e+09   \n",
       "\n",
       "    retweeted_status_timestamp  \n",
       "535  2016-10-03 15:42:44 +0000  \n",
       "890  2016-06-05 19:47:03 +0000  \n",
       "822  2016-06-10 00:39:48 +0000  "
      ]
     },
     "execution_count": 1941,
     "metadata": {},
     "output_type": "execute_result"
    }
   ],
   "source": [
    "#Sample of retweets\n",
    "dog_ratings_clean[dog_ratings_clean.retweeted_status_id.notnull()][['tweet_id','retweeted_status_id', 'retweeted_status_user_id','retweeted_status_timestamp']].sample(3)"
   ]
  },
  {
   "cell_type": "code",
   "execution_count": 1943,
   "metadata": {
    "collapsed": false
   },
   "outputs": [
    {
     "data": {
      "text/plain": [
       "0"
      ]
     },
     "execution_count": 1943,
     "metadata": {},
     "output_type": "execute_result"
    }
   ],
   "source": [
    "#Filter the records which are retweets\n",
    "dog_ratings_clean=dog_ratings_clean[~dog_ratings_clean.retweeted_status_id.notnull()]\n",
    "dog_ratings_clean.count()['retweeted_status_id']"
   ]
  },
  {
   "cell_type": "markdown",
   "metadata": {},
   "source": [
    "### Test"
   ]
  },
  {
   "cell_type": "code",
   "execution_count": 1944,
   "metadata": {
    "collapsed": false
   },
   "outputs": [
    {
     "data": {
      "text/html": [
       "<div>\n",
       "<style>\n",
       "    .dataframe thead tr:only-child th {\n",
       "        text-align: right;\n",
       "    }\n",
       "\n",
       "    .dataframe thead th {\n",
       "        text-align: left;\n",
       "    }\n",
       "\n",
       "    .dataframe tbody tr th {\n",
       "        vertical-align: top;\n",
       "    }\n",
       "</style>\n",
       "<table border=\"1\" class=\"dataframe\">\n",
       "  <thead>\n",
       "    <tr style=\"text-align: right;\">\n",
       "      <th></th>\n",
       "      <th>tweet_id</th>\n",
       "      <th>in_reply_to_status_id</th>\n",
       "      <th>in_reply_to_user_id</th>\n",
       "      <th>timestamp</th>\n",
       "      <th>source</th>\n",
       "      <th>text</th>\n",
       "      <th>retweeted_status_id</th>\n",
       "      <th>retweeted_status_user_id</th>\n",
       "      <th>retweeted_status_timestamp</th>\n",
       "      <th>expanded_urls</th>\n",
       "      <th>rating_numerator</th>\n",
       "      <th>rating_denominator</th>\n",
       "      <th>name</th>\n",
       "      <th>doggo</th>\n",
       "      <th>floofer</th>\n",
       "      <th>pupper</th>\n",
       "      <th>puppo</th>\n",
       "    </tr>\n",
       "  </thead>\n",
       "  <tbody>\n",
       "  </tbody>\n",
       "</table>\n",
       "</div>"
      ],
      "text/plain": [
       "Empty DataFrame\n",
       "Columns: [tweet_id, in_reply_to_status_id, in_reply_to_user_id, timestamp, source, text, retweeted_status_id, retweeted_status_user_id, retweeted_status_timestamp, expanded_urls, rating_numerator, rating_denominator, name, doggo, floofer, pupper, puppo]\n",
       "Index: []"
      ]
     },
     "execution_count": 1944,
     "metadata": {},
     "output_type": "execute_result"
    }
   ],
   "source": [
    "#cross check to confirm the changes -should be zero\n",
    "dog_ratings_clean[dog_ratings_clean.retweeted_status_id.notnull()]"
   ]
  },
  {
   "cell_type": "code",
   "execution_count": 1516,
   "metadata": {
    "collapsed": false
   },
   "outputs": [
    {
     "data": {
      "text/plain": [
       "2175"
      ]
     },
     "execution_count": 1516,
     "metadata": {},
     "output_type": "execute_result"
    }
   ],
   "source": [
    "dog_ratings_clean.shape[0]"
   ]
  },
  {
   "cell_type": "code",
   "execution_count": 1945,
   "metadata": {
    "collapsed": false
   },
   "outputs": [
    {
     "name": "stdout",
     "output_type": "stream",
     "text": [
      "<class 'pandas.core.frame.DataFrame'>\n",
      "Int64Index: 2175 entries, 0 to 2355\n",
      "Data columns (total 17 columns):\n",
      "tweet_id                      2175 non-null int64\n",
      "in_reply_to_status_id         78 non-null float64\n",
      "in_reply_to_user_id           78 non-null float64\n",
      "timestamp                     2175 non-null object\n",
      "source                        2175 non-null object\n",
      "text                          2175 non-null object\n",
      "retweeted_status_id           0 non-null float64\n",
      "retweeted_status_user_id      0 non-null float64\n",
      "retweeted_status_timestamp    0 non-null object\n",
      "expanded_urls                 2117 non-null object\n",
      "rating_numerator              2175 non-null int64\n",
      "rating_denominator            2175 non-null int64\n",
      "name                          2175 non-null object\n",
      "doggo                         2175 non-null object\n",
      "floofer                       2175 non-null object\n",
      "pupper                        2175 non-null object\n",
      "puppo                         2175 non-null object\n",
      "dtypes: float64(4), int64(3), object(10)\n",
      "memory usage: 305.9+ KB\n"
     ]
    }
   ],
   "source": [
    "dog_ratings_clean.info()"
   ]
  },
  {
   "cell_type": "markdown",
   "metadata": {},
   "source": [
    "\n",
    "\n",
    "### Define"
   ]
  },
  {
   "cell_type": "markdown",
   "metadata": {},
   "source": [
    "*Invalid datatype* -'timestamp' column needs to be in datetime format.in_reply_to_status_id and in_reply_to_user_id columns are in float format but we will not be using them in the analysis we will not consider the columns,hence not converting them to class type int."
   ]
  },
  {
   "cell_type": "markdown",
   "metadata": {},
   "source": [
    "### Code"
   ]
  },
  {
   "cell_type": "code",
   "execution_count": 1946,
   "metadata": {
    "collapsed": false
   },
   "outputs": [],
   "source": [
    "#Convert to datetime format\n",
    "dog_ratings_clean['timestamp']=pd.to_datetime(dog_ratings_clean['timestamp'])"
   ]
  },
  {
   "cell_type": "code",
   "execution_count": 1947,
   "metadata": {
    "collapsed": true
   },
   "outputs": [],
   "source": [
    "#Exclude the columns-.in_reply_to_status_id and in_reply_to_user_id columns  which are not required for our analysis\n",
    "dog_ratings_clean=dog_ratings_clean[['tweet_id','timestamp',\n",
    "       'source', 'text', 'retweeted_status_id', 'retweeted_status_user_id',\n",
    "       'retweeted_status_timestamp', 'expanded_urls', 'rating_numerator',\n",
    "       'rating_denominator', 'name', 'doggo', 'floofer', 'pupper', 'puppo']]"
   ]
  },
  {
   "cell_type": "markdown",
   "metadata": {},
   "source": [
    "### Test"
   ]
  },
  {
   "cell_type": "code",
   "execution_count": 1949,
   "metadata": {
    "collapsed": false
   },
   "outputs": [
    {
     "name": "stdout",
     "output_type": "stream",
     "text": [
      "<class 'pandas.core.frame.DataFrame'>\n",
      "Int64Index: 2175 entries, 0 to 2355\n",
      "Data columns (total 15 columns):\n",
      "tweet_id                      2175 non-null int64\n",
      "timestamp                     2175 non-null datetime64[ns]\n",
      "source                        2175 non-null object\n",
      "text                          2175 non-null object\n",
      "retweeted_status_id           0 non-null float64\n",
      "retweeted_status_user_id      0 non-null float64\n",
      "retweeted_status_timestamp    0 non-null object\n",
      "expanded_urls                 2117 non-null object\n",
      "rating_numerator              2175 non-null int64\n",
      "rating_denominator            2175 non-null int64\n",
      "name                          2175 non-null object\n",
      "doggo                         2175 non-null object\n",
      "floofer                       2175 non-null object\n",
      "pupper                        2175 non-null object\n",
      "puppo                         2175 non-null object\n",
      "dtypes: datetime64[ns](1), float64(2), int64(3), object(9)\n",
      "memory usage: 271.9+ KB\n"
     ]
    }
   ],
   "source": [
    "#confirm the changes\n",
    "dog_ratings_clean.info()"
   ]
  },
  {
   "cell_type": "markdown",
   "metadata": {},
   "source": [
    "###  Define"
   ]
  },
  {
   "cell_type": "markdown",
   "metadata": {},
   "source": [
    "3.The four columns - doggo,floofer,pupper,puppo, refers to dog stages.Some of the tweets have more than one dog stage mentioned and there are tweets where no dog stage info is captured. Considering that the 'text' column  has reference to dog stage(s),this  can be extracted and checked for analysis and visualization.\n",
    "\n",
    "3.1 Identify tweets with non null and null values in dog stage columns.\n",
    "\n",
    "3.2 Categorize the tweets with non null values:only individual values and more than one value against the 4 columns.\n",
    "\n",
    "3.3 For tweets with more than one dog stages, check and confirm that they are valid.\n",
    "\n",
    "3.4 Melt the 4 dog stage columns into one and remove any none values.\n",
    "\n",
    "3.5 Extract the dog stages (if any) from the 'text' column for tweets with 'None' values in the 4 dog stage columns and create a separate column.Here the 'true' None values are retained.\n",
    "\n",
    "3.6 Concatenate the two dataframes.\n",
    "\n",
    "Aside, looks like the dog stages captured through the 4 columns -doggo,puppo,pupper and floofer have been extracted from the 'text' column.The validity in terms of the context of dog stage usage and its reference is not clear,as there is no separate field where the dog stage is identified concretely.\n",
    "\n",
    "Note - The quality issue identified ie non descriptive column 'name' and presence of non-name entries will not be cleaned. Renaming the column 'name' and identifying the non names and possible replacing the 'non names' like None(680 count),the,a,an,etc with 'name' column values being extracted from  the text column (containing the tweet) will not be executed.This note has been mentioned to highlight that the  column'name' will not be used and hence will be excluded from the cleaning."
   ]
  },
  {
   "cell_type": "markdown",
   "metadata": {},
   "source": [
    "### Code"
   ]
  },
  {
   "cell_type": "code",
   "execution_count": 1950,
   "metadata": {
    "collapsed": false
   },
   "outputs": [
    {
     "data": {
      "text/plain": [
       "a               55\n",
       "the              8\n",
       "an               6\n",
       "one              4\n",
       "very             4\n",
       "just             3\n",
       "quite            3\n",
       "not              2\n",
       "getting          2\n",
       "actually         2\n",
       "mad              1\n",
       "incredibly       1\n",
       "life             1\n",
       "officially       1\n",
       "this             1\n",
       "by               1\n",
       "such             1\n",
       "his              1\n",
       "space            1\n",
       "infuriating      1\n",
       "my               1\n",
       "all              1\n",
       "unacceptable     1\n",
       "old              1\n",
       "light            1\n",
       "Name: name, dtype: int64"
      ]
     },
     "execution_count": 1950,
     "metadata": {},
     "output_type": "execute_result"
    }
   ],
   "source": [
    "#Exclude the column-name with quality issues as this column will not be used for further analysis.\n",
    "dog_ratings_clean[dog_ratings_clean.name.str.islower()]['name'].value_counts()"
   ]
  },
  {
   "cell_type": "code",
   "execution_count": 1951,
   "metadata": {
    "collapsed": false
   },
   "outputs": [],
   "source": [
    "dog_ratings_clean=dog_ratings_clean[['tweet_id', 'timestamp', 'source', 'text', 'retweeted_status_id',\n",
    "       'retweeted_status_user_id', 'retweeted_status_timestamp',\n",
    "       'expanded_urls', 'rating_numerator', 'rating_denominator',\n",
    "       'doggo', 'floofer', 'pupper', 'puppo']]"
   ]
  },
  {
   "cell_type": "code",
   "execution_count": 1952,
   "metadata": {
    "collapsed": false
   },
   "outputs": [
    {
     "data": {
      "text/html": [
       "<div>\n",
       "<style>\n",
       "    .dataframe thead tr:only-child th {\n",
       "        text-align: right;\n",
       "    }\n",
       "\n",
       "    .dataframe thead th {\n",
       "        text-align: left;\n",
       "    }\n",
       "\n",
       "    .dataframe tbody tr th {\n",
       "        vertical-align: top;\n",
       "    }\n",
       "</style>\n",
       "<table border=\"1\" class=\"dataframe\">\n",
       "  <thead>\n",
       "    <tr style=\"text-align: right;\">\n",
       "      <th></th>\n",
       "      <th>tweet_id</th>\n",
       "      <th>doggo</th>\n",
       "      <th>floofer</th>\n",
       "      <th>puppo</th>\n",
       "      <th>pupper</th>\n",
       "      <th>text</th>\n",
       "    </tr>\n",
       "  </thead>\n",
       "  <tbody>\n",
       "    <tr>\n",
       "      <th>1063</th>\n",
       "      <td>741067306818797568</td>\n",
       "      <td>doggo</td>\n",
       "      <td>None</td>\n",
       "      <td>None</td>\n",
       "      <td>pupper</td>\n",
       "      <td>This is just downright precious af. 12/10 for ...</td>\n",
       "    </tr>\n",
       "    <tr>\n",
       "      <th>531</th>\n",
       "      <td>808106460588765185</td>\n",
       "      <td>doggo</td>\n",
       "      <td>None</td>\n",
       "      <td>None</td>\n",
       "      <td>pupper</td>\n",
       "      <td>Here we have Burke (pupper) and Dexter (doggo)...</td>\n",
       "    </tr>\n",
       "    <tr>\n",
       "      <th>1113</th>\n",
       "      <td>733109485275860992</td>\n",
       "      <td>doggo</td>\n",
       "      <td>None</td>\n",
       "      <td>None</td>\n",
       "      <td>pupper</td>\n",
       "      <td>Like father (doggo), like son (pupper). Both 1...</td>\n",
       "    </tr>\n",
       "    <tr>\n",
       "      <th>200</th>\n",
       "      <td>854010172552949760</td>\n",
       "      <td>doggo</td>\n",
       "      <td>floofer</td>\n",
       "      <td>None</td>\n",
       "      <td>None</td>\n",
       "      <td>At first I thought this was a shy doggo, but i...</td>\n",
       "    </tr>\n",
       "  </tbody>\n",
       "</table>\n",
       "</div>"
      ],
      "text/plain": [
       "                tweet_id  doggo  floofer puppo  pupper  \\\n",
       "1063  741067306818797568  doggo     None  None  pupper   \n",
       "531   808106460588765185  doggo     None  None  pupper   \n",
       "1113  733109485275860992  doggo     None  None  pupper   \n",
       "200   854010172552949760  doggo  floofer  None    None   \n",
       "\n",
       "                                                   text  \n",
       "1063  This is just downright precious af. 12/10 for ...  \n",
       "531   Here we have Burke (pupper) and Dexter (doggo)...  \n",
       "1113  Like father (doggo), like son (pupper). Both 1...  \n",
       "200   At first I thought this was a shy doggo, but i...  "
      ]
     },
     "execution_count": 1952,
     "metadata": {},
     "output_type": "execute_result"
    }
   ],
   "source": [
    "#1. Identify tweets with more than one dog stage\n",
    "dog_stage=dog_ratings_clean[(dog_ratings_clean.doggo =='doggo')&((dog_ratings_clean.floofer =='floofer')|(dog_ratings_clean.puppo =='puppo')|(dog_ratings_clean.pupper =='pupper')) ].sample(4)[['tweet_id','doggo','floofer','puppo','pupper','text']]\n",
    "dog_stage"
   ]
  },
  {
   "cell_type": "code",
   "execution_count": 1953,
   "metadata": {
    "collapsed": false
   },
   "outputs": [
    {
     "data": {
      "text/plain": [
       "1831"
      ]
     },
     "execution_count": 1953,
     "metadata": {},
     "output_type": "execute_result"
    }
   ],
   "source": [
    "#Count of entries which does'nt have any dog stage mentioned.\n",
    "none_dog_stage=len(dog_ratings_clean[(dog_ratings_clean.doggo =='None')&(dog_ratings_clean.floofer =='None')&(dog_ratings_clean.puppo =='None')&(dog_ratings_clean.pupper =='None') ])\n",
    "none_dog_stage"
   ]
  },
  {
   "cell_type": "code",
   "execution_count": 1954,
   "metadata": {
    "collapsed": false
   },
   "outputs": [
    {
     "data": {
      "text/plain": [
       "2175"
      ]
     },
     "execution_count": 1954,
     "metadata": {},
     "output_type": "execute_result"
    }
   ],
   "source": [
    "dog_ratings_clean.shape[0]"
   ]
  },
  {
   "cell_type": "code",
   "execution_count": 1955,
   "metadata": {
    "collapsed": false
   },
   "outputs": [
    {
     "data": {
      "text/plain": [
       "True"
      ]
     },
     "execution_count": 1955,
     "metadata": {},
     "output_type": "execute_result"
    }
   ],
   "source": [
    "##This data in comments are from Assess section using dog_ratings dataframe.\n",
    "#dog_stage_val -rows with atleast one dog stage mentioned.\n",
    "#L1,L2,L3 are the rows more than one dog stage mentioned --total count 14\n",
    "#pupper_count,floofer_count,puppo_count,doggo_count - row with the specific dog stage only\n",
    "dog_stage_val ==(L1+L2+L3)+pupper_count+floofer_count+puppo_count+doggo_count"
   ]
  },
  {
   "cell_type": "code",
   "execution_count": 1527,
   "metadata": {
    "collapsed": false
   },
   "outputs": [
    {
     "data": {
      "text/plain": [
       "344"
      ]
     },
     "execution_count": 1527,
     "metadata": {},
     "output_type": "execute_result"
    }
   ],
   "source": [
    "#Atleast one dog stage.\n",
    "dog_stage_val_clean=len(dog_ratings_clean[(dog_ratings_clean.doggo =='doggo')|(dog_ratings_clean.floofer =='floofer')|(dog_ratings_clean.puppo =='puppo')|(dog_ratings_clean.pupper =='pupper') ])\n",
    "dog_stage_val_clean"
   ]
  },
  {
   "cell_type": "code",
   "execution_count": 1956,
   "metadata": {
    "collapsed": false
   },
   "outputs": [
    {
     "data": {
      "text/plain": [
       "(1, 1, 10)"
      ]
     },
     "execution_count": 1956,
     "metadata": {},
     "output_type": "execute_result"
    }
   ],
   "source": [
    "#Multiple dog stage captured for a single tweet\n",
    "L1_cl=len(dog_ratings_clean[(dog_ratings_clean.doggo =='doggo')&(dog_ratings_clean.floofer =='floofer')&(dog_ratings_clean.puppo =='None')&(dog_ratings_clean.pupper =='None')])\n",
    "L2_cl=len(dog_ratings_clean[(dog_ratings_clean.doggo =='doggo')&((dog_ratings_clean.floofer =='None')&(dog_ratings_clean.puppo =='puppo')&(dog_ratings_clean.pupper =='None')) ])\n",
    "L3_cl=len(dog_ratings_clean[(dog_ratings_clean.doggo =='doggo')&((dog_ratings_clean.floofer =='None')&(dog_ratings_clean.puppo =='None')&(dog_ratings_clean.pupper =='pupper')) ])\n",
    "L1_cl,L2_cl,L3_cl"
   ]
  },
  {
   "cell_type": "code",
   "execution_count": 1957,
   "metadata": {
    "collapsed": false
   },
   "outputs": [
    {
     "data": {
      "text/plain": [
       "True"
      ]
     },
     "execution_count": 1957,
     "metadata": {},
     "output_type": "execute_result"
    }
   ],
   "source": [
    "# Cross check the record with atleast one dog stage entry\n",
    "dog_stage_val_clean==dog_ratings_clean.shape[0]  - none_dog_stage"
   ]
  },
  {
   "cell_type": "code",
   "execution_count": 1958,
   "metadata": {
    "collapsed": false
   },
   "outputs": [
    {
     "data": {
      "text/plain": [
       "(75, 9, 224, 24)"
      ]
     },
     "execution_count": 1958,
     "metadata": {},
     "output_type": "execute_result"
    }
   ],
   "source": [
    "#individual dog stage count\n",
    "doggo_count_cl=len(dog_ratings_clean[(dog_ratings_clean.doggo =='doggo')&(dog_ratings_clean.floofer =='None')&(dog_ratings_clean.puppo =='None')&(dog_ratings_clean.pupper =='None') ])\n",
    "\n",
    "floofer_count_cl=len(dog_ratings_clean[(dog_ratings_clean.floofer =='floofer')&(dog_ratings_clean.doggo =='None')&(dog_ratings_clean.puppo =='None')&(dog_ratings_clean.pupper =='None') ])\n",
    "\n",
    "pupper_count_cl=len(dog_ratings_clean[(dog_ratings_clean.pupper =='pupper')&(dog_ratings_clean.doggo =='None')&(dog_ratings_clean.puppo =='None')&(dog_ratings_clean.floofer =='None')])\n",
    "\n",
    "puppo_count_cl=len(dog_ratings_clean[(dog_ratings_clean.puppo =='puppo')&(dog_ratings_clean.doggo =='None')&(dog_ratings_clean.pupper =='None')&(dog_ratings_clean.floofer =='None') ])\n",
    "\n",
    "doggo_count_cl,floofer_count_cl,pupper_count_cl,puppo_count_cl"
   ]
  },
  {
   "cell_type": "code",
   "execution_count": 1959,
   "metadata": {
    "collapsed": false
   },
   "outputs": [
    {
     "data": {
      "text/html": [
       "<div>\n",
       "<style>\n",
       "    .dataframe thead tr:only-child th {\n",
       "        text-align: right;\n",
       "    }\n",
       "\n",
       "    .dataframe thead th {\n",
       "        text-align: left;\n",
       "    }\n",
       "\n",
       "    .dataframe tbody tr th {\n",
       "        vertical-align: top;\n",
       "    }\n",
       "</style>\n",
       "<table border=\"1\" class=\"dataframe\">\n",
       "  <thead>\n",
       "    <tr style=\"text-align: right;\">\n",
       "      <th></th>\n",
       "      <th>tweet_id</th>\n",
       "      <th>doggo</th>\n",
       "      <th>floofer</th>\n",
       "      <th>puppo</th>\n",
       "      <th>pupper</th>\n",
       "      <th>text</th>\n",
       "    </tr>\n",
       "  </thead>\n",
       "  <tbody>\n",
       "    <tr>\n",
       "      <th>200</th>\n",
       "      <td>854010172552949760</td>\n",
       "      <td>doggo</td>\n",
       "      <td>floofer</td>\n",
       "      <td>None</td>\n",
       "      <td>None</td>\n",
       "      <td>At first I thought this was a shy doggo, but i...</td>\n",
       "    </tr>\n",
       "  </tbody>\n",
       "</table>\n",
       "</div>"
      ],
      "text/plain": [
       "               tweet_id  doggo  floofer puppo pupper  \\\n",
       "200  854010172552949760  doggo  floofer  None   None   \n",
       "\n",
       "                                                  text  \n",
       "200  At first I thought this was a shy doggo, but i...  "
      ]
     },
     "execution_count": 1959,
     "metadata": {},
     "output_type": "execute_result"
    }
   ],
   "source": [
    "#Identify the correct dog stage from the text \n",
    "#rec1=dog_ratings_clean[(dog_ratings_clean.doggo =='doggo')&(dog_ratings_clean.floofer =='floofer')&(dog_ratings_clean.puppo =='None')&(dog_ratings_clean.pupper =='None')]\n",
    "dog_ratings_clean[(dog_ratings_clean.doggo =='doggo')&(dog_ratings_clean.floofer =='floofer')&(dog_ratings_clean.puppo =='None')&(dog_ratings_clean.pupper =='None')][['tweet_id','doggo','floofer','puppo','pupper','text']]\n"
   ]
  },
  {
   "cell_type": "code",
   "execution_count": 1961,
   "metadata": {
    "collapsed": false
   },
   "outputs": [
    {
     "data": {
      "text/plain": [
       "At first I thought this was a shy doggo, but it's actually a Rare Canadian Floofer Owl. Amateurs would confuse the two. 11/10 only send dogs https://t.co/TXdT3tmuYk    1\n",
       "Name: text, dtype: int64"
      ]
     },
     "execution_count": 1961,
     "metadata": {},
     "output_type": "execute_result"
    }
   ],
   "source": [
    "#From the text and also check the corresponding image -L1_cl :1\n",
    "dog_ratings_clean[dog_ratings_clean['tweet_id']==854010172552949760]['text'].value_counts()"
   ]
  },
  {
   "cell_type": "code",
   "execution_count": 1259,
   "metadata": {
    "collapsed": false
   },
   "outputs": [],
   "source": [
    "#Replace 'floofer' with None\n",
    "#dog_ratings_clean.loc[200,dog_ratings_clean.columns[12]]=None"
   ]
  },
  {
   "cell_type": "code",
   "execution_count": 1260,
   "metadata": {
    "collapsed": false
   },
   "outputs": [
    {
     "data": {
      "text/plain": [
       "200    floofer\n",
       "Name: floofer, dtype: object"
      ]
     },
     "execution_count": 1260,
     "metadata": {},
     "output_type": "execute_result"
    }
   ],
   "source": [
    "#Confirm the changes\n",
    "#dog_ratings_clean[dog_ratings_clean['tweet_id']==854010172552949760]['floofer']"
   ]
  },
  {
   "cell_type": "code",
   "execution_count": 1533,
   "metadata": {
    "collapsed": false
   },
   "outputs": [
    {
     "data": {
      "text/html": [
       "<div>\n",
       "<style>\n",
       "    .dataframe thead tr:only-child th {\n",
       "        text-align: right;\n",
       "    }\n",
       "\n",
       "    .dataframe thead th {\n",
       "        text-align: left;\n",
       "    }\n",
       "\n",
       "    .dataframe tbody tr th {\n",
       "        vertical-align: top;\n",
       "    }\n",
       "</style>\n",
       "<table border=\"1\" class=\"dataframe\">\n",
       "  <thead>\n",
       "    <tr style=\"text-align: right;\">\n",
       "      <th></th>\n",
       "      <th>tweet_id</th>\n",
       "      <th>doggo</th>\n",
       "      <th>floofer</th>\n",
       "      <th>puppo</th>\n",
       "      <th>pupper</th>\n",
       "      <th>text</th>\n",
       "    </tr>\n",
       "  </thead>\n",
       "  <tbody>\n",
       "    <tr>\n",
       "      <th>191</th>\n",
       "      <td>855851453814013952</td>\n",
       "      <td>doggo</td>\n",
       "      <td>None</td>\n",
       "      <td>puppo</td>\n",
       "      <td>None</td>\n",
       "      <td>Here's a puppo participating in the #ScienceMa...</td>\n",
       "    </tr>\n",
       "  </tbody>\n",
       "</table>\n",
       "</div>"
      ],
      "text/plain": [
       "               tweet_id  doggo floofer  puppo pupper  \\\n",
       "191  855851453814013952  doggo    None  puppo   None   \n",
       "\n",
       "                                                  text  \n",
       "191  Here's a puppo participating in the #ScienceMa...  "
      ]
     },
     "execution_count": 1533,
     "metadata": {},
     "output_type": "execute_result"
    }
   ],
   "source": [
    "#Identify the correct dog stage from the rows - L2_cl:1\n",
    "(dog_ratings_clean[(dog_ratings_clean.doggo =='doggo')&((dog_ratings_clean.floofer =='None')&(dog_ratings_clean.puppo =='puppo')&(dog_ratings_clean.pupper =='None')) ])[['tweet_id','doggo','floofer','puppo','pupper','text']]"
   ]
  },
  {
   "cell_type": "code",
   "execution_count": 1534,
   "metadata": {
    "collapsed": false
   },
   "outputs": [
    {
     "data": {
      "text/plain": [
       "Here's a puppo participating in the #ScienceMarch. Cleverly disguising her own doggo agenda. 13/10 would keep the planet habitable for https://t.co/cMhq16isel    1\n",
       "Name: text, dtype: int64"
      ]
     },
     "execution_count": 1534,
     "metadata": {},
     "output_type": "execute_result"
    }
   ],
   "source": [
    "#From the text and also check the corresponding image.\n",
    "dog_ratings_clean[dog_ratings_clean['tweet_id']==855851453814013952]['text'].value_counts()"
   ]
  },
  {
   "cell_type": "code",
   "execution_count": 1265,
   "metadata": {
    "collapsed": false
   },
   "outputs": [],
   "source": [
    "#Assign None to doggo as we have our puppo\n",
    "#dog_ratings_clean.loc[191,dog_ratings_clean.columns[11]]=None"
   ]
  },
  {
   "cell_type": "code",
   "execution_count": 1266,
   "metadata": {
    "collapsed": false
   },
   "outputs": [
    {
     "data": {
      "text/plain": [
       "191    doggo\n",
       "Name: doggo, dtype: object"
      ]
     },
     "execution_count": 1266,
     "metadata": {},
     "output_type": "execute_result"
    }
   ],
   "source": [
    "#Confirm the changes\n",
    "#dog_ratings_clean[dog_ratings_clean['tweet_id']==855851453814013952]['doggo']"
   ]
  },
  {
   "cell_type": "code",
   "execution_count": 1535,
   "metadata": {
    "collapsed": false
   },
   "outputs": [
    {
     "data": {
      "text/html": [
       "<div>\n",
       "<style>\n",
       "    .dataframe thead tr:only-child th {\n",
       "        text-align: right;\n",
       "    }\n",
       "\n",
       "    .dataframe thead th {\n",
       "        text-align: left;\n",
       "    }\n",
       "\n",
       "    .dataframe tbody tr th {\n",
       "        vertical-align: top;\n",
       "    }\n",
       "</style>\n",
       "<table border=\"1\" class=\"dataframe\">\n",
       "  <thead>\n",
       "    <tr style=\"text-align: right;\">\n",
       "      <th></th>\n",
       "      <th>tweet_id</th>\n",
       "      <th>doggo</th>\n",
       "      <th>floofer</th>\n",
       "      <th>puppo</th>\n",
       "      <th>pupper</th>\n",
       "      <th>text</th>\n",
       "    </tr>\n",
       "  </thead>\n",
       "  <tbody>\n",
       "    <tr>\n",
       "      <th>460</th>\n",
       "      <td>817777686764523521</td>\n",
       "      <td>doggo</td>\n",
       "      <td>None</td>\n",
       "      <td>None</td>\n",
       "      <td>pupper</td>\n",
       "      <td>This is Dido. She's playing the lead role in \"...</td>\n",
       "    </tr>\n",
       "    <tr>\n",
       "      <th>531</th>\n",
       "      <td>808106460588765185</td>\n",
       "      <td>doggo</td>\n",
       "      <td>None</td>\n",
       "      <td>None</td>\n",
       "      <td>pupper</td>\n",
       "      <td>Here we have Burke (pupper) and Dexter (doggo)...</td>\n",
       "    </tr>\n",
       "    <tr>\n",
       "      <th>565</th>\n",
       "      <td>802265048156610565</td>\n",
       "      <td>doggo</td>\n",
       "      <td>None</td>\n",
       "      <td>None</td>\n",
       "      <td>pupper</td>\n",
       "      <td>Like doggo, like pupper version 2. Both 11/10 ...</td>\n",
       "    </tr>\n",
       "    <tr>\n",
       "      <th>575</th>\n",
       "      <td>801115127852503040</td>\n",
       "      <td>doggo</td>\n",
       "      <td>None</td>\n",
       "      <td>None</td>\n",
       "      <td>pupper</td>\n",
       "      <td>This is Bones. He's being haunted by another d...</td>\n",
       "    </tr>\n",
       "    <tr>\n",
       "      <th>705</th>\n",
       "      <td>785639753186217984</td>\n",
       "      <td>doggo</td>\n",
       "      <td>None</td>\n",
       "      <td>None</td>\n",
       "      <td>pupper</td>\n",
       "      <td>This is Pinot. He's a sophisticated doggo. You...</td>\n",
       "    </tr>\n",
       "    <tr>\n",
       "      <th>733</th>\n",
       "      <td>781308096455073793</td>\n",
       "      <td>doggo</td>\n",
       "      <td>None</td>\n",
       "      <td>None</td>\n",
       "      <td>pupper</td>\n",
       "      <td>Pupper butt 1, Doggo 0. Both 12/10 https://t.c...</td>\n",
       "    </tr>\n",
       "    <tr>\n",
       "      <th>889</th>\n",
       "      <td>759793422261743616</td>\n",
       "      <td>doggo</td>\n",
       "      <td>None</td>\n",
       "      <td>None</td>\n",
       "      <td>pupper</td>\n",
       "      <td>Meet Maggie &amp;amp; Lila. Maggie is the doggo, L...</td>\n",
       "    </tr>\n",
       "    <tr>\n",
       "      <th>956</th>\n",
       "      <td>751583847268179968</td>\n",
       "      <td>doggo</td>\n",
       "      <td>None</td>\n",
       "      <td>None</td>\n",
       "      <td>pupper</td>\n",
       "      <td>Please stop sending it pictures that don't eve...</td>\n",
       "    </tr>\n",
       "    <tr>\n",
       "      <th>1063</th>\n",
       "      <td>741067306818797568</td>\n",
       "      <td>doggo</td>\n",
       "      <td>None</td>\n",
       "      <td>None</td>\n",
       "      <td>pupper</td>\n",
       "      <td>This is just downright precious af. 12/10 for ...</td>\n",
       "    </tr>\n",
       "    <tr>\n",
       "      <th>1113</th>\n",
       "      <td>733109485275860992</td>\n",
       "      <td>doggo</td>\n",
       "      <td>None</td>\n",
       "      <td>None</td>\n",
       "      <td>pupper</td>\n",
       "      <td>Like father (doggo), like son (pupper). Both 1...</td>\n",
       "    </tr>\n",
       "  </tbody>\n",
       "</table>\n",
       "</div>"
      ],
      "text/plain": [
       "                tweet_id  doggo floofer puppo  pupper  \\\n",
       "460   817777686764523521  doggo    None  None  pupper   \n",
       "531   808106460588765185  doggo    None  None  pupper   \n",
       "565   802265048156610565  doggo    None  None  pupper   \n",
       "575   801115127852503040  doggo    None  None  pupper   \n",
       "705   785639753186217984  doggo    None  None  pupper   \n",
       "733   781308096455073793  doggo    None  None  pupper   \n",
       "889   759793422261743616  doggo    None  None  pupper   \n",
       "956   751583847268179968  doggo    None  None  pupper   \n",
       "1063  741067306818797568  doggo    None  None  pupper   \n",
       "1113  733109485275860992  doggo    None  None  pupper   \n",
       "\n",
       "                                                   text  \n",
       "460   This is Dido. She's playing the lead role in \"...  \n",
       "531   Here we have Burke (pupper) and Dexter (doggo)...  \n",
       "565   Like doggo, like pupper version 2. Both 11/10 ...  \n",
       "575   This is Bones. He's being haunted by another d...  \n",
       "705   This is Pinot. He's a sophisticated doggo. You...  \n",
       "733   Pupper butt 1, Doggo 0. Both 12/10 https://t.c...  \n",
       "889   Meet Maggie &amp; Lila. Maggie is the doggo, L...  \n",
       "956   Please stop sending it pictures that don't eve...  \n",
       "1063  This is just downright precious af. 12/10 for ...  \n",
       "1113  Like father (doggo), like son (pupper). Both 1...  "
      ]
     },
     "execution_count": 1535,
     "metadata": {},
     "output_type": "execute_result"
    }
   ],
   "source": [
    "#Identify the correct dog stage from the rows and replace them if necessary.L3_cl :14\n",
    "df=dog_ratings_clean[(dog_ratings_clean.doggo =='doggo')&((dog_ratings_clean.floofer =='None')&(dog_ratings_clean.puppo =='None')&(dog_ratings_clean.pupper =='pupper'))][['tweet_id','doggo','floofer','puppo','pupper','text']]\n",
    "df"
   ]
  },
  {
   "cell_type": "code",
   "execution_count": 1536,
   "metadata": {
    "collapsed": false
   },
   "outputs": [
    {
     "name": "stdout",
     "output_type": "stream",
     "text": [
      "460     This is Dido. She's playing the lead role in \"Pupper Stops to Catch Snow Before Resuming Shadow Box with Dried Apple.\" 13/10 (IG: didodoggo) https://t.co/m7...\n",
      "531                    Here we have Burke (pupper) and Dexter (doggo). Pupper wants to be exactly like doggo. Both 12/10 would pet at same time https://t.co/ANBpEYHaho\n",
      "565                                                                                               Like doggo, like pupper version 2. Both 11/10 https://t.co/9IxWAXFqze\n",
      "575                    This is Bones. He's being haunted by another doggo of roughly the same size. 12/10 deep breaths pupper everything's fine https://t.co/55Dqe0SJNj\n",
      "705     This is Pinot. He's a sophisticated doggo. You can tell by the hat. Also pointier than your average pupper. Still 10/10 would pet cautiously https://t.co/f2...\n",
      "733                                                                                                          Pupper butt 1, Doggo 0. Both 12/10 https://t.co/WQvcPEpH2u\n",
      "889                    Meet Maggie &amp; Lila. Maggie is the doggo, Lila is the pupper. They are sisters. Both 12/10 would pet at the same time https://t.co/MYwR4DQKll\n",
      "956                            Please stop sending it pictures that don't even have a doggo or pupper in them. Churlish af. 5/10 neat couch tho https://t.co/u2c9c7qSg8\n",
      "1063                                                                        This is just downright precious af. 12/10 for both pupper and doggo https://t.co/o5J479bZUC\n",
      "1113                                                                                         Like father (doggo), like son (pupper). Both 12/10 https://t.co/pG2inLaOda\n",
      "Name: text, dtype: object\n"
     ]
    }
   ],
   "source": [
    "#Read through the output to visually validate the dog stage in each tweet(where multiple dog stage has been captured)\n",
    "def full_text(data,n=160):\n",
    "    '''\n",
    "    display the contents of the series/column with n chars \n",
    "    '''\n",
    "    for tweet_id in data:\n",
    "        with pd.option_context('display.max_colwidth', n):\n",
    "            print (data['text'])\n",
    "            break\n",
    "    \n",
    "full_text(df)    "
   ]
  },
  {
   "cell_type": "markdown",
   "metadata": {},
   "source": [
    "Dog stage -\n",
    "[817777686764523521:'doggo',785639753186217984:'doggo',751583847268179968:'doggo']"
   ]
  },
  {
   "cell_type": "code",
   "execution_count": 1269,
   "metadata": {
    "collapsed": true
   },
   "outputs": [],
   "source": [
    "##Replace pupper to None.Of the 14 only 3 to be replaced\n",
    "#817777686764523521\n",
    "#dog_ratings_clean.loc[460,dog_ratings_clean.columns[13]]=None\n",
    "#785639753186217984\n",
    "#dog_ratings_clean.loc[705,dog_ratings_clean.columns[13]]=None\n",
    "#751583847268179968\n",
    "#dog_ratings_clean.loc[956,dog_ratings_clean.columns[13]]=None"
   ]
  },
  {
   "cell_type": "code",
   "execution_count": 1537,
   "metadata": {
    "collapsed": false
   },
   "outputs": [
    {
     "data": {
      "text/plain": [
       "705    pupper\n",
       "Name: pupper, dtype: object"
      ]
     },
     "execution_count": 1537,
     "metadata": {},
     "output_type": "execute_result"
    }
   ],
   "source": [
    "dog_ratings_clean[dog_ratings_clean['tweet_id']==785639753186217984]['pupper']"
   ]
  },
  {
   "cell_type": "markdown",
   "metadata": {},
   "source": [
    "Exceptions, two dogs have been referred to in the below tweets.Therefore two dog stages for the tweet holds good.\n",
    "\n",
    "808106460588765185,802265048156610565,781308096455073793,759793422261743616,801115127852503040,751583847268179968.\n",
    "\n",
    "785639753186217984 - non dog reference(ie no dog image), but keeping it as we have dog stage term used. \n",
    "\n",
    "Same images with different tweet ids:\n",
    "\n",
    "770093767776997377,741067306818797568\n",
    "\n",
    "733109485275860992,775898661951791106\n",
    "\n",
    "**Note**--We are looking at usage of dog stage terms  as a means to popularize and promote its website and hence their business.This is not to actually categorize the dogs but popularise/trend  via display of humourous tweets. Considering that we were able to dig through(meaning read)the tweets, we were able to distinguish 'a proper dog stage reference' rather than extract a dog stage based on arbitary usage in a sentence( which very well be possible, as in tweets where a single dog stage term was used(validating other tweets).This however is not feasible for large number of records.Hence references to more than one dog stage has been retained.\n"
   ]
  },
  {
   "cell_type": "code",
   "execution_count": 1962,
   "metadata": {
    "collapsed": false
   },
   "outputs": [
    {
     "data": {
      "text/html": [
       "<div>\n",
       "<style>\n",
       "    .dataframe thead tr:only-child th {\n",
       "        text-align: right;\n",
       "    }\n",
       "\n",
       "    .dataframe thead th {\n",
       "        text-align: left;\n",
       "    }\n",
       "\n",
       "    .dataframe tbody tr th {\n",
       "        vertical-align: top;\n",
       "    }\n",
       "</style>\n",
       "<table border=\"1\" class=\"dataframe\">\n",
       "  <thead>\n",
       "    <tr style=\"text-align: right;\">\n",
       "      <th></th>\n",
       "      <th>tweet_id</th>\n",
       "      <th>timestamp</th>\n",
       "      <th>source</th>\n",
       "      <th>text</th>\n",
       "      <th>retweeted_status_id</th>\n",
       "      <th>retweeted_status_user_id</th>\n",
       "      <th>retweeted_status_timestamp</th>\n",
       "      <th>expanded_urls</th>\n",
       "      <th>rating_numerator</th>\n",
       "      <th>rating_denominator</th>\n",
       "      <th>doggo</th>\n",
       "      <th>floofer</th>\n",
       "      <th>pupper</th>\n",
       "      <th>puppo</th>\n",
       "    </tr>\n",
       "  </thead>\n",
       "  <tbody>\n",
       "    <tr>\n",
       "      <th>1116</th>\n",
       "      <td>732585889486888962</td>\n",
       "      <td>2016-05-17 14:57:41</td>\n",
       "      <td>&lt;a href=\"http://twitter.com/download/iphone\" r...</td>\n",
       "      <td>When your teacher agreed on 10,000 RTs and no ...</td>\n",
       "      <td>NaN</td>\n",
       "      <td>NaN</td>\n",
       "      <td>NaN</td>\n",
       "      <td>https://twitter.com/dog_rates/status/732585889...</td>\n",
       "      <td>10</td>\n",
       "      <td>10</td>\n",
       "      <td>None</td>\n",
       "      <td>None</td>\n",
       "      <td>None</td>\n",
       "      <td>None</td>\n",
       "    </tr>\n",
       "    <tr>\n",
       "      <th>1416</th>\n",
       "      <td>698635131305795584</td>\n",
       "      <td>2016-02-13 22:29:29</td>\n",
       "      <td>&lt;a href=\"http://twitter.com/download/iphone\" r...</td>\n",
       "      <td>Here we are witnessing five Guatemalan Birch F...</td>\n",
       "      <td>NaN</td>\n",
       "      <td>NaN</td>\n",
       "      <td>NaN</td>\n",
       "      <td>https://twitter.com/dog_rates/status/698635131...</td>\n",
       "      <td>12</td>\n",
       "      <td>10</td>\n",
       "      <td>None</td>\n",
       "      <td>None</td>\n",
       "      <td>None</td>\n",
       "      <td>None</td>\n",
       "    </tr>\n",
       "    <tr>\n",
       "      <th>133</th>\n",
       "      <td>866720684873056260</td>\n",
       "      <td>2017-05-22 18:21:28</td>\n",
       "      <td>&lt;a href=\"http://twitter.com/download/iphone\" r...</td>\n",
       "      <td>He was providing for his family 13/10 how dare...</td>\n",
       "      <td>NaN</td>\n",
       "      <td>NaN</td>\n",
       "      <td>NaN</td>\n",
       "      <td>https://twitter.com/nbcnews/status/86645871888...</td>\n",
       "      <td>13</td>\n",
       "      <td>10</td>\n",
       "      <td>None</td>\n",
       "      <td>None</td>\n",
       "      <td>None</td>\n",
       "      <td>None</td>\n",
       "    </tr>\n",
       "  </tbody>\n",
       "</table>\n",
       "</div>"
      ],
      "text/plain": [
       "                tweet_id           timestamp  \\\n",
       "1116  732585889486888962 2016-05-17 14:57:41   \n",
       "1416  698635131305795584 2016-02-13 22:29:29   \n",
       "133   866720684873056260 2017-05-22 18:21:28   \n",
       "\n",
       "                                                 source  \\\n",
       "1116  <a href=\"http://twitter.com/download/iphone\" r...   \n",
       "1416  <a href=\"http://twitter.com/download/iphone\" r...   \n",
       "133   <a href=\"http://twitter.com/download/iphone\" r...   \n",
       "\n",
       "                                                   text  retweeted_status_id  \\\n",
       "1116  When your teacher agreed on 10,000 RTs and no ...                  NaN   \n",
       "1416  Here we are witnessing five Guatemalan Birch F...                  NaN   \n",
       "133   He was providing for his family 13/10 how dare...                  NaN   \n",
       "\n",
       "      retweeted_status_user_id retweeted_status_timestamp  \\\n",
       "1116                       NaN                        NaN   \n",
       "1416                       NaN                        NaN   \n",
       "133                        NaN                        NaN   \n",
       "\n",
       "                                          expanded_urls  rating_numerator  \\\n",
       "1116  https://twitter.com/dog_rates/status/732585889...                10   \n",
       "1416  https://twitter.com/dog_rates/status/698635131...                12   \n",
       "133   https://twitter.com/nbcnews/status/86645871888...                13   \n",
       "\n",
       "      rating_denominator doggo floofer pupper puppo  \n",
       "1116                  10  None    None   None  None  \n",
       "1416                  10  None    None   None  None  \n",
       "133                   10  None    None   None  None  "
      ]
     },
     "execution_count": 1962,
     "metadata": {},
     "output_type": "execute_result"
    }
   ],
   "source": [
    "#2. Identify tweets with no dog stage mentioned\n",
    "dog_stage_none=dog_ratings_clean[(dog_ratings_clean.doggo =='None')&(dog_ratings_clean.floofer =='None')&(dog_ratings_clean.puppo =='None')&(dog_ratings_clean.pupper =='None') ]\n",
    "#dog_stage_none.shape[0]\n",
    "sample=dog_stage_none.sample(3)\n",
    "sample"
   ]
  },
  {
   "cell_type": "code",
   "execution_count": 1539,
   "metadata": {
    "collapsed": false
   },
   "outputs": [
    {
     "name": "stdout",
     "output_type": "stream",
     "text": [
      "1280     Meet Malikai. He was rolling around having fun when he remembered the inevitable heat death of the universe. 10/10 https://t.co/Vd2FqHIIGn\n",
      "1689                                     I've been told there's a slight possibility he's checking his mirror. We'll bump to 9.5/10. Still a menace\n",
      "2310    Unfamiliar with this breed. Ears pointy af. Won't let go of seashell. Won't eat kibble. Not very fast. Bad dog 2/10 https://t.co/EIn5kElY1S\n",
      "Name: text, dtype: object\n"
     ]
    }
   ],
   "source": [
    "def full_text(data):\n",
    "    '''\n",
    "    display the contents of the series/column with n chars \n",
    "    '''\n",
    "    for tweet_id in data:\n",
    "        with pd.option_context('display.max_colwidth', 150):\n",
    "            print (data['text'])\n",
    "            break\n",
    "    \n",
    "full_text(sample)   "
   ]
  },
  {
   "cell_type": "markdown",
   "metadata": {},
   "source": [
    "Visually we donot see a dog stage mentioned in the  above text content, hence will explore programmitically."
   ]
  },
  {
   "cell_type": "code",
   "execution_count": 1963,
   "metadata": {
    "collapsed": false
   },
   "outputs": [],
   "source": [
    "dog_stage_none['dog_stage']=dog_stage_none['text'].str.extract('(doggo|puppo|pupper|floofer)',expand=True)"
   ]
  },
  {
   "cell_type": "markdown",
   "metadata": {},
   "source": [
    "We now have those records (which had only 'None' populated)  cleaned to extract possible dog stage values from text column and the dog_stage values populated where available under dog_stage colum along with None values."
   ]
  },
  {
   "cell_type": "code",
   "execution_count": 1964,
   "metadata": {
    "collapsed": false
   },
   "outputs": [
    {
     "data": {
      "text/html": [
       "<div>\n",
       "<style>\n",
       "    .dataframe thead tr:only-child th {\n",
       "        text-align: right;\n",
       "    }\n",
       "\n",
       "    .dataframe thead th {\n",
       "        text-align: left;\n",
       "    }\n",
       "\n",
       "    .dataframe tbody tr th {\n",
       "        vertical-align: top;\n",
       "    }\n",
       "</style>\n",
       "<table border=\"1\" class=\"dataframe\">\n",
       "  <thead>\n",
       "    <tr style=\"text-align: right;\">\n",
       "      <th></th>\n",
       "      <th>tweet_id</th>\n",
       "      <th>timestamp</th>\n",
       "      <th>source</th>\n",
       "      <th>text</th>\n",
       "      <th>retweeted_status_id</th>\n",
       "      <th>retweeted_status_user_id</th>\n",
       "      <th>retweeted_status_timestamp</th>\n",
       "      <th>expanded_urls</th>\n",
       "      <th>rating_numerator</th>\n",
       "      <th>rating_denominator</th>\n",
       "      <th>doggo</th>\n",
       "      <th>floofer</th>\n",
       "      <th>pupper</th>\n",
       "      <th>puppo</th>\n",
       "      <th>dog_stage</th>\n",
       "    </tr>\n",
       "  </thead>\n",
       "  <tbody>\n",
       "    <tr>\n",
       "      <th>1351</th>\n",
       "      <td>704054845121142784</td>\n",
       "      <td>2016-02-28 21:25:30</td>\n",
       "      <td>&lt;a href=\"http://twitter.com/download/iphone\" r...</td>\n",
       "      <td>Here is a whole flock of puppers.  60/50 I'll ...</td>\n",
       "      <td>NaN</td>\n",
       "      <td>NaN</td>\n",
       "      <td>NaN</td>\n",
       "      <td>https://twitter.com/dog_rates/status/704054845...</td>\n",
       "      <td>60</td>\n",
       "      <td>50</td>\n",
       "      <td>None</td>\n",
       "      <td>None</td>\n",
       "      <td>None</td>\n",
       "      <td>None</td>\n",
       "      <td>pupper</td>\n",
       "    </tr>\n",
       "    <tr>\n",
       "      <th>1710</th>\n",
       "      <td>680583894916304897</td>\n",
       "      <td>2015-12-26 03:00:19</td>\n",
       "      <td>&lt;a href=\"http://twitter.com/download/iphone\" r...</td>\n",
       "      <td>This is Penny. Her tennis ball slowly rolled d...</td>\n",
       "      <td>NaN</td>\n",
       "      <td>NaN</td>\n",
       "      <td>NaN</td>\n",
       "      <td>https://twitter.com/dog_rates/status/680583894...</td>\n",
       "      <td>8</td>\n",
       "      <td>10</td>\n",
       "      <td>None</td>\n",
       "      <td>None</td>\n",
       "      <td>None</td>\n",
       "      <td>None</td>\n",
       "      <td>pupper</td>\n",
       "    </tr>\n",
       "    <tr>\n",
       "      <th>987</th>\n",
       "      <td>749036806121881602</td>\n",
       "      <td>2016-07-02 00:27:45</td>\n",
       "      <td>&lt;a href=\"http://twitter.com/download/iphone\" r...</td>\n",
       "      <td>This is Dietrich. He hops at random. Other dog...</td>\n",
       "      <td>NaN</td>\n",
       "      <td>NaN</td>\n",
       "      <td>NaN</td>\n",
       "      <td>https://twitter.com/dog_rates/status/749036806...</td>\n",
       "      <td>8</td>\n",
       "      <td>10</td>\n",
       "      <td>None</td>\n",
       "      <td>None</td>\n",
       "      <td>None</td>\n",
       "      <td>None</td>\n",
       "      <td>doggo</td>\n",
       "    </tr>\n",
       "    <tr>\n",
       "      <th>1743</th>\n",
       "      <td>679405845277462528</td>\n",
       "      <td>2015-12-22 20:59:10</td>\n",
       "      <td>&lt;a href=\"http://vine.co\" rel=\"nofollow\"&gt;Vine -...</td>\n",
       "      <td>Crazy unseen footage from Jurassic Park. 10/10...</td>\n",
       "      <td>NaN</td>\n",
       "      <td>NaN</td>\n",
       "      <td>NaN</td>\n",
       "      <td>https://vine.co/v/iKVFEigMLxP</td>\n",
       "      <td>10</td>\n",
       "      <td>10</td>\n",
       "      <td>None</td>\n",
       "      <td>None</td>\n",
       "      <td>None</td>\n",
       "      <td>None</td>\n",
       "      <td>pupper</td>\n",
       "    </tr>\n",
       "  </tbody>\n",
       "</table>\n",
       "</div>"
      ],
      "text/plain": [
       "                tweet_id           timestamp  \\\n",
       "1351  704054845121142784 2016-02-28 21:25:30   \n",
       "1710  680583894916304897 2015-12-26 03:00:19   \n",
       "987   749036806121881602 2016-07-02 00:27:45   \n",
       "1743  679405845277462528 2015-12-22 20:59:10   \n",
       "\n",
       "                                                 source  \\\n",
       "1351  <a href=\"http://twitter.com/download/iphone\" r...   \n",
       "1710  <a href=\"http://twitter.com/download/iphone\" r...   \n",
       "987   <a href=\"http://twitter.com/download/iphone\" r...   \n",
       "1743  <a href=\"http://vine.co\" rel=\"nofollow\">Vine -...   \n",
       "\n",
       "                                                   text  retweeted_status_id  \\\n",
       "1351  Here is a whole flock of puppers.  60/50 I'll ...                  NaN   \n",
       "1710  This is Penny. Her tennis ball slowly rolled d...                  NaN   \n",
       "987   This is Dietrich. He hops at random. Other dog...                  NaN   \n",
       "1743  Crazy unseen footage from Jurassic Park. 10/10...                  NaN   \n",
       "\n",
       "      retweeted_status_user_id retweeted_status_timestamp  \\\n",
       "1351                       NaN                        NaN   \n",
       "1710                       NaN                        NaN   \n",
       "987                        NaN                        NaN   \n",
       "1743                       NaN                        NaN   \n",
       "\n",
       "                                          expanded_urls  rating_numerator  \\\n",
       "1351  https://twitter.com/dog_rates/status/704054845...                60   \n",
       "1710  https://twitter.com/dog_rates/status/680583894...                 8   \n",
       "987   https://twitter.com/dog_rates/status/749036806...                 8   \n",
       "1743                      https://vine.co/v/iKVFEigMLxP                10   \n",
       "\n",
       "      rating_denominator doggo floofer pupper puppo dog_stage  \n",
       "1351                  50  None    None   None  None    pupper  \n",
       "1710                  10  None    None   None  None    pupper  \n",
       "987                   10  None    None   None  None     doggo  \n",
       "1743                  10  None    None   None  None    pupper  "
      ]
     },
     "execution_count": 1964,
     "metadata": {},
     "output_type": "execute_result"
    }
   ],
   "source": [
    "#Sample values post dog_stage column inclusion\n",
    "dog_stage_none[dog_stage_none.dog_stage.notnull()].sample(4)"
   ]
  },
  {
   "cell_type": "code",
   "execution_count": 1965,
   "metadata": {
    "collapsed": false
   },
   "outputs": [
    {
     "data": {
      "text/plain": [
       "True"
      ]
     },
     "execution_count": 1965,
     "metadata": {},
     "output_type": "execute_result"
    }
   ],
   "source": [
    "#Only 'None' value dataframe post dog_stage column extraction.(1831)\n",
    "dog_stage_none.shape[0]==len(dog_ratings_clean[(dog_ratings_clean.doggo =='None')&(dog_ratings_clean.floofer =='None')&(dog_ratings_clean.puppo =='None')&(dog_ratings_clean.pupper =='None') ])\n"
   ]
  },
  {
   "cell_type": "code",
   "execution_count": 1966,
   "metadata": {
    "collapsed": false
   },
   "outputs": [
    {
     "data": {
      "text/plain": [
       "344"
      ]
     },
     "execution_count": 1966,
     "metadata": {},
     "output_type": "execute_result"
    }
   ],
   "source": [
    "#Only non 'None' values\n",
    "dog_ratings_clean_melt=dog_ratings_clean[~((dog_ratings_clean.doggo =='None')&(dog_ratings_clean.floofer =='None')&(dog_ratings_clean.puppo =='None')&(dog_ratings_clean.pupper =='None') )]\n",
    "dog_ratings_clean_melt.shape[0]"
   ]
  },
  {
   "cell_type": "code",
   "execution_count": 1967,
   "metadata": {
    "collapsed": false
   },
   "outputs": [],
   "source": [
    "#melt the dogstage columns  in the non 'None' dataframe\n",
    "dog_ratings_clean_melt=dog_ratings_clean_melt.melt(id_vars=['tweet_id', 'timestamp', 'source', 'text', \n",
    "       'expanded_urls', 'rating_numerator', 'rating_denominator'],value_vars=['doggo', 'floofer', 'pupper', 'puppo'],\n",
    "                           var_name='dog_stage_type',value_name='dog_stage')"
   ]
  },
  {
   "cell_type": "code",
   "execution_count": 1968,
   "metadata": {
    "collapsed": false
   },
   "outputs": [
    {
     "data": {
      "text/html": [
       "<div>\n",
       "<style>\n",
       "    .dataframe thead tr:only-child th {\n",
       "        text-align: right;\n",
       "    }\n",
       "\n",
       "    .dataframe thead th {\n",
       "        text-align: left;\n",
       "    }\n",
       "\n",
       "    .dataframe tbody tr th {\n",
       "        vertical-align: top;\n",
       "    }\n",
       "</style>\n",
       "<table border=\"1\" class=\"dataframe\">\n",
       "  <thead>\n",
       "    <tr style=\"text-align: right;\">\n",
       "      <th></th>\n",
       "      <th>tweet_id</th>\n",
       "      <th>timestamp</th>\n",
       "      <th>source</th>\n",
       "      <th>text</th>\n",
       "      <th>expanded_urls</th>\n",
       "      <th>rating_numerator</th>\n",
       "      <th>rating_denominator</th>\n",
       "      <th>dog_stage_type</th>\n",
       "      <th>dog_stage</th>\n",
       "    </tr>\n",
       "  </thead>\n",
       "  <tbody>\n",
       "    <tr>\n",
       "      <th>22</th>\n",
       "      <td>855851453814013952</td>\n",
       "      <td>2017-04-22 18:31:02</td>\n",
       "      <td>&lt;a href=\"http://twitter.com/download/iphone\" r...</td>\n",
       "      <td>Here's a puppo participating in the #ScienceMa...</td>\n",
       "      <td>https://twitter.com/dog_rates/status/855851453...</td>\n",
       "      <td>13</td>\n",
       "      <td>10</td>\n",
       "      <td>doggo</td>\n",
       "      <td>doggo</td>\n",
       "    </tr>\n",
       "    <tr>\n",
       "      <th>366</th>\n",
       "      <td>855851453814013952</td>\n",
       "      <td>2017-04-22 18:31:02</td>\n",
       "      <td>&lt;a href=\"http://twitter.com/download/iphone\" r...</td>\n",
       "      <td>Here's a puppo participating in the #ScienceMa...</td>\n",
       "      <td>https://twitter.com/dog_rates/status/855851453...</td>\n",
       "      <td>13</td>\n",
       "      <td>10</td>\n",
       "      <td>floofer</td>\n",
       "      <td>None</td>\n",
       "    </tr>\n",
       "    <tr>\n",
       "      <th>710</th>\n",
       "      <td>855851453814013952</td>\n",
       "      <td>2017-04-22 18:31:02</td>\n",
       "      <td>&lt;a href=\"http://twitter.com/download/iphone\" r...</td>\n",
       "      <td>Here's a puppo participating in the #ScienceMa...</td>\n",
       "      <td>https://twitter.com/dog_rates/status/855851453...</td>\n",
       "      <td>13</td>\n",
       "      <td>10</td>\n",
       "      <td>pupper</td>\n",
       "      <td>None</td>\n",
       "    </tr>\n",
       "    <tr>\n",
       "      <th>1054</th>\n",
       "      <td>855851453814013952</td>\n",
       "      <td>2017-04-22 18:31:02</td>\n",
       "      <td>&lt;a href=\"http://twitter.com/download/iphone\" r...</td>\n",
       "      <td>Here's a puppo participating in the #ScienceMa...</td>\n",
       "      <td>https://twitter.com/dog_rates/status/855851453...</td>\n",
       "      <td>13</td>\n",
       "      <td>10</td>\n",
       "      <td>puppo</td>\n",
       "      <td>puppo</td>\n",
       "    </tr>\n",
       "  </tbody>\n",
       "</table>\n",
       "</div>"
      ],
      "text/plain": [
       "                tweet_id           timestamp  \\\n",
       "22    855851453814013952 2017-04-22 18:31:02   \n",
       "366   855851453814013952 2017-04-22 18:31:02   \n",
       "710   855851453814013952 2017-04-22 18:31:02   \n",
       "1054  855851453814013952 2017-04-22 18:31:02   \n",
       "\n",
       "                                                 source  \\\n",
       "22    <a href=\"http://twitter.com/download/iphone\" r...   \n",
       "366   <a href=\"http://twitter.com/download/iphone\" r...   \n",
       "710   <a href=\"http://twitter.com/download/iphone\" r...   \n",
       "1054  <a href=\"http://twitter.com/download/iphone\" r...   \n",
       "\n",
       "                                                   text  \\\n",
       "22    Here's a puppo participating in the #ScienceMa...   \n",
       "366   Here's a puppo participating in the #ScienceMa...   \n",
       "710   Here's a puppo participating in the #ScienceMa...   \n",
       "1054  Here's a puppo participating in the #ScienceMa...   \n",
       "\n",
       "                                          expanded_urls  rating_numerator  \\\n",
       "22    https://twitter.com/dog_rates/status/855851453...                13   \n",
       "366   https://twitter.com/dog_rates/status/855851453...                13   \n",
       "710   https://twitter.com/dog_rates/status/855851453...                13   \n",
       "1054  https://twitter.com/dog_rates/status/855851453...                13   \n",
       "\n",
       "      rating_denominator dog_stage_type dog_stage  \n",
       "22                    10          doggo     doggo  \n",
       "366                   10        floofer      None  \n",
       "710                   10         pupper      None  \n",
       "1054                  10          puppo     puppo  "
      ]
     },
     "execution_count": 1968,
     "metadata": {},
     "output_type": "execute_result"
    }
   ],
   "source": [
    "#each tweetid will have 4 records\n",
    "dog_ratings_clean_melt[dog_ratings_clean_melt['tweet_id']==855851453814013952]"
   ]
  },
  {
   "cell_type": "code",
   "execution_count": 1969,
   "metadata": {
    "collapsed": false
   },
   "outputs": [],
   "source": [
    "#Replace None value with NaN.\n",
    "dog_ratings_clean_melt['dog_stage']=dog_ratings_clean_melt['dog_stage'].replace('None',np.nan)"
   ]
  },
  {
   "cell_type": "code",
   "execution_count": 1970,
   "metadata": {
    "collapsed": false
   },
   "outputs": [],
   "source": [
    "#Drop the NaN values\n",
    "dog_ratings_clean_melt=dog_ratings_clean_melt.dropna(subset=['dog_stage'])"
   ]
  },
  {
   "cell_type": "code",
   "execution_count": 1971,
   "metadata": {
    "collapsed": false
   },
   "outputs": [
    {
     "data": {
      "text/html": [
       "<div>\n",
       "<style>\n",
       "    .dataframe thead tr:only-child th {\n",
       "        text-align: right;\n",
       "    }\n",
       "\n",
       "    .dataframe thead th {\n",
       "        text-align: left;\n",
       "    }\n",
       "\n",
       "    .dataframe tbody tr th {\n",
       "        vertical-align: top;\n",
       "    }\n",
       "</style>\n",
       "<table border=\"1\" class=\"dataframe\">\n",
       "  <thead>\n",
       "    <tr style=\"text-align: right;\">\n",
       "      <th></th>\n",
       "      <th>tweet_id</th>\n",
       "      <th>timestamp</th>\n",
       "      <th>source</th>\n",
       "      <th>text</th>\n",
       "      <th>expanded_urls</th>\n",
       "      <th>rating_numerator</th>\n",
       "      <th>rating_denominator</th>\n",
       "      <th>dog_stage_type</th>\n",
       "      <th>dog_stage</th>\n",
       "    </tr>\n",
       "  </thead>\n",
       "  <tbody>\n",
       "  </tbody>\n",
       "</table>\n",
       "</div>"
      ],
      "text/plain": [
       "Empty DataFrame\n",
       "Columns: [tweet_id, timestamp, source, text, expanded_urls, rating_numerator, rating_denominator, dog_stage_type, dog_stage]\n",
       "Index: []"
      ]
     },
     "execution_count": 1971,
     "metadata": {},
     "output_type": "execute_result"
    }
   ],
   "source": [
    "dog_ratings_clean_melt[dog_ratings_clean_melt.dog_stage.isnull()]"
   ]
  },
  {
   "cell_type": "code",
   "execution_count": 1972,
   "metadata": {
    "collapsed": false
   },
   "outputs": [],
   "source": [
    "#Exclude the dog_stage_type column and also 'expanded_urls' column\n",
    "dog_ratings_clean_melt=dog_ratings_clean_melt[['tweet_id', 'timestamp', 'source', 'text',\n",
    "       'rating_numerator', 'rating_denominator','dog_stage']]"
   ]
  },
  {
   "cell_type": "code",
   "execution_count": 1973,
   "metadata": {
    "collapsed": false
   },
   "outputs": [
    {
     "data": {
      "text/html": [
       "<div>\n",
       "<style>\n",
       "    .dataframe thead tr:only-child th {\n",
       "        text-align: right;\n",
       "    }\n",
       "\n",
       "    .dataframe thead th {\n",
       "        text-align: left;\n",
       "    }\n",
       "\n",
       "    .dataframe tbody tr th {\n",
       "        vertical-align: top;\n",
       "    }\n",
       "</style>\n",
       "<table border=\"1\" class=\"dataframe\">\n",
       "  <thead>\n",
       "    <tr style=\"text-align: right;\">\n",
       "      <th></th>\n",
       "      <th>tweet_id</th>\n",
       "      <th>timestamp</th>\n",
       "      <th>source</th>\n",
       "      <th>text</th>\n",
       "      <th>rating_numerator</th>\n",
       "      <th>rating_denominator</th>\n",
       "      <th>dog_stage</th>\n",
       "    </tr>\n",
       "  </thead>\n",
       "  <tbody>\n",
       "  </tbody>\n",
       "</table>\n",
       "</div>"
      ],
      "text/plain": [
       "Empty DataFrame\n",
       "Columns: [tweet_id, timestamp, source, text, rating_numerator, rating_denominator, dog_stage]\n",
       "Index: []"
      ]
     },
     "execution_count": 1973,
     "metadata": {},
     "output_type": "execute_result"
    }
   ],
   "source": [
    "#confirm changes-no values\n",
    "dog_ratings_clean_melt[dog_ratings_clean_melt.dog_stage.isnull()]"
   ]
  },
  {
   "cell_type": "code",
   "execution_count": 1974,
   "metadata": {
    "collapsed": false
   },
   "outputs": [
    {
     "data": {
      "text/plain": [
       "1792"
      ]
     },
     "execution_count": 1974,
     "metadata": {},
     "output_type": "execute_result"
    }
   ],
   "source": [
    "dog_stage_none[dog_stage_none.dog_stage.isnull()].shape[0]\n"
   ]
  },
  {
   "cell_type": "markdown",
   "metadata": {},
   "source": [
    "Dataframe (dog_ratings_clean_melt)with non 'None' values for dog stage has been cleaned,now we will look at the 'None' dog stage dataframe,dog_stage_none"
   ]
  },
  {
   "cell_type": "code",
   "execution_count": 1975,
   "metadata": {
    "collapsed": false
   },
   "outputs": [],
   "source": [
    "#Exclude the columns -doggo,floofer,pupper,puppo\n",
    "dog_stage_none=dog_stage_none[['tweet_id', 'timestamp', 'source', 'text','rating_numerator', 'rating_denominator','dog_stage']]"
   ]
  },
  {
   "cell_type": "code",
   "execution_count": 1976,
   "metadata": {
    "collapsed": false
   },
   "outputs": [
    {
     "data": {
      "text/plain": [
       "array([ True,  True,  True,  True,  True,  True,  True], dtype=bool)"
      ]
     },
     "execution_count": 1976,
     "metadata": {},
     "output_type": "execute_result"
    }
   ],
   "source": [
    "#Check for column match\n",
    "(dog_stage_none.columns)==(dog_ratings_clean_melt.columns)"
   ]
  },
  {
   "cell_type": "code",
   "execution_count": 1977,
   "metadata": {
    "collapsed": false
   },
   "outputs": [],
   "source": [
    "#concatenate  the two dataframes.\n",
    "dog_ratings_clean_melt=pd.concat([dog_ratings_clean_melt,dog_stage_none],ignore_index=True)"
   ]
  },
  {
   "cell_type": "code",
   "execution_count": 1978,
   "metadata": {
    "collapsed": false
   },
   "outputs": [
    {
     "data": {
      "text/plain": [
       "1792"
      ]
     },
     "execution_count": 1978,
     "metadata": {},
     "output_type": "execute_result"
    }
   ],
   "source": [
    "#None values after cleaning\n",
    "dog_ratings_clean_melt[dog_ratings_clean_melt.dog_stage.isnull()].shape[0]"
   ]
  },
  {
   "cell_type": "markdown",
   "metadata": {
    "collapsed": false
   },
   "source": [
    "### Test"
   ]
  },
  {
   "cell_type": "code",
   "execution_count": 1555,
   "metadata": {
    "collapsed": false
   },
   "outputs": [
    {
     "name": "stdout",
     "output_type": "stream",
     "text": [
      "<class 'pandas.core.frame.DataFrame'>\n",
      "RangeIndex: 2187 entries, 0 to 2186\n",
      "Data columns (total 7 columns):\n",
      "tweet_id              2187 non-null int64\n",
      "timestamp             2187 non-null datetime64[ns]\n",
      "source                2187 non-null object\n",
      "text                  2187 non-null object\n",
      "rating_numerator      2187 non-null int64\n",
      "rating_denominator    2187 non-null int64\n",
      "dog_stage             395 non-null object\n",
      "dtypes: datetime64[ns](1), int64(3), object(3)\n",
      "memory usage: 119.7+ KB\n"
     ]
    }
   ],
   "source": [
    "dog_ratings_clean_melt.info()"
   ]
  },
  {
   "cell_type": "markdown",
   "metadata": {},
   "source": [
    "### Define"
   ]
  },
  {
   "cell_type": "markdown",
   "metadata": {},
   "source": [
    "Source can  be made explicit instead of the html string for analysis and visualization.Extract the content of the 'a tag'"
   ]
  },
  {
   "cell_type": "markdown",
   "metadata": {
    "collapsed": false
   },
   "source": [
    "### Code"
   ]
  },
  {
   "cell_type": "code",
   "execution_count": 1556,
   "metadata": {
    "collapsed": false,
    "scrolled": true
   },
   "outputs": [
    {
     "data": {
      "text/plain": [
       "<a href=\"http://twitter.com/download/iphone\" rel=\"nofollow\">Twitter for iPhone</a>     2053\n",
       "<a href=\"http://vine.co\" rel=\"nofollow\">Vine - Make a Scene</a>                          92\n",
       "<a href=\"http://twitter.com\" rel=\"nofollow\">Twitter Web Client</a>                       31\n",
       "<a href=\"https://about.twitter.com/products/tweetdeck\" rel=\"nofollow\">TweetDeck</a>      11\n",
       "Name: source, dtype: int64"
      ]
     },
     "execution_count": 1556,
     "metadata": {},
     "output_type": "execute_result"
    }
   ],
   "source": [
    "dog_ratings_clean_melt.source.value_counts()"
   ]
  },
  {
   "cell_type": "code",
   "execution_count": 1979,
   "metadata": {
    "collapsed": true
   },
   "outputs": [],
   "source": [
    "import re"
   ]
  },
  {
   "cell_type": "code",
   "execution_count": 1980,
   "metadata": {
    "collapsed": false
   },
   "outputs": [],
   "source": [
    "def xtract(data):\n",
    "    '''\n",
    "    extract tag contents into a list  using regular expression and join the elements\n",
    "    '''\n",
    "    tweet_source=[]\n",
    "    data_lst=list(data)\n",
    "    for tag in data_lst:\n",
    "        f = re.sub('<[^>]*>', '',tag)\n",
    "        util=''.join(f.split())\n",
    "        tweet_source.append(util)\n",
    "    return tweet_source"
   ]
  },
  {
   "cell_type": "code",
   "execution_count": 1981,
   "metadata": {
    "collapsed": false
   },
   "outputs": [
    {
     "data": {
      "text/plain": [
       "{'TweetDeck', 'TwitterWebClient', 'TwitterforiPhone', 'Vine-MakeaScene'}"
      ]
     },
     "execution_count": 1981,
     "metadata": {},
     "output_type": "execute_result"
    }
   ],
   "source": [
    "#unique sources\n",
    "set(xtract(dog_ratings_clean_melt['source']))"
   ]
  },
  {
   "cell_type": "code",
   "execution_count": 1982,
   "metadata": {
    "collapsed": false
   },
   "outputs": [],
   "source": [
    "#Add a new column tweet_source\n",
    "dog_ratings_clean_melt['tweet_source']=xtract(dog_ratings_clean_melt['source'])"
   ]
  },
  {
   "cell_type": "code",
   "execution_count": 1983,
   "metadata": {
    "collapsed": false
   },
   "outputs": [],
   "source": [
    "#exclude source column\n",
    "dog_ratings_clean_melt=dog_ratings_clean_melt[['tweet_id', 'timestamp', 'tweet_source', 'text', 'rating_numerator', 'rating_denominator','dog_stage']]"
   ]
  },
  {
   "cell_type": "code",
   "execution_count": 1984,
   "metadata": {
    "collapsed": true
   },
   "outputs": [],
   "source": [
    "#convert the dog_stage to category.\n",
    "dog_ratings_clean_melt['dog_stage']=dog_ratings_clean_melt['dog_stage'].astype('category')"
   ]
  },
  {
   "cell_type": "markdown",
   "metadata": {},
   "source": [
    "### Test"
   ]
  },
  {
   "cell_type": "code",
   "execution_count": 1354,
   "metadata": {
    "collapsed": false
   },
   "outputs": [
    {
     "name": "stdout",
     "output_type": "stream",
     "text": [
      "<class 'pandas.core.frame.DataFrame'>\n",
      "Int64Index: 2187 entries, 0 to 2186\n",
      "Data columns (total 9 columns):\n",
      "tweet_id              2187 non-null int64\n",
      "timestamp             2187 non-null datetime64[ns]\n",
      "tweet_source          2187 non-null object\n",
      "text                  2187 non-null object\n",
      "rating_numerator      2187 non-null int64\n",
      "rating_denominator    2187 non-null int64\n",
      "dog_stage             395 non-null category\n",
      "retweet_count         2187 non-null int64\n",
      "favourite_count       2187 non-null int64\n",
      "dtypes: category(1), datetime64[ns](1), int64(5), object(2)\n",
      "memory usage: 156.1+ KB\n"
     ]
    }
   ],
   "source": [
    "dog_ratings_clean_melt.info()"
   ]
  },
  {
   "cell_type": "code",
   "execution_count": 1985,
   "metadata": {
    "collapsed": false
   },
   "outputs": [
    {
     "data": {
      "text/plain": [
       "TwitterforiPhone    2053\n",
       "Vine-MakeaScene       92\n",
       "TwitterWebClient      31\n",
       "TweetDeck             11\n",
       "Name: tweet_source, dtype: int64"
      ]
     },
     "execution_count": 1985,
     "metadata": {},
     "output_type": "execute_result"
    }
   ],
   "source": [
    "dog_ratings_clean_melt.tweet_source.value_counts()"
   ]
  },
  {
   "cell_type": "markdown",
   "metadata": {},
   "source": [
    "### Define"
   ]
  },
  {
   "cell_type": "markdown",
   "metadata": {},
   "source": [
    "jpg_url column to be renamed."
   ]
  },
  {
   "cell_type": "markdown",
   "metadata": {},
   "source": [
    "### Code"
   ]
  },
  {
   "cell_type": "code",
   "execution_count": 1986,
   "metadata": {
    "collapsed": false
   },
   "outputs": [
    {
     "data": {
      "text/plain": [
       "112"
      ]
     },
     "execution_count": 1986,
     "metadata": {},
     "output_type": "execute_result"
    }
   ],
   "source": [
    "#Records mismatch\n",
    "dog_ratings_clean_melt.tweet_id.shape[0] - img_predictions_clean.tweet_id.shape[0]"
   ]
  },
  {
   "cell_type": "code",
   "execution_count": 1987,
   "metadata": {
    "collapsed": false
   },
   "outputs": [
    {
     "data": {
      "text/plain": [
       "(2073, 2075)"
      ]
     },
     "execution_count": 1987,
     "metadata": {},
     "output_type": "execute_result"
    }
   ],
   "source": [
    "#Count difference between the  entries with str 'jpg' and without 'jpg'\n",
    "img_predictions_clean[img_predictions_clean.jpg_url.str.contains('.jpg')].shape[0],img_predictions_clean.tweet_id.shape[0]"
   ]
  },
  {
   "cell_type": "code",
   "execution_count": 1989,
   "metadata": {
    "collapsed": false
   },
   "outputs": [
    {
     "data": {
      "text/html": [
       "<div>\n",
       "<style>\n",
       "    .dataframe thead tr:only-child th {\n",
       "        text-align: right;\n",
       "    }\n",
       "\n",
       "    .dataframe thead th {\n",
       "        text-align: left;\n",
       "    }\n",
       "\n",
       "    .dataframe tbody tr th {\n",
       "        vertical-align: top;\n",
       "    }\n",
       "</style>\n",
       "<table border=\"1\" class=\"dataframe\">\n",
       "  <thead>\n",
       "    <tr style=\"text-align: right;\">\n",
       "      <th></th>\n",
       "      <th>tweet_id</th>\n",
       "      <th>jpg_url</th>\n",
       "      <th>img_num</th>\n",
       "      <th>p1</th>\n",
       "      <th>p1_conf</th>\n",
       "      <th>p1_dog</th>\n",
       "      <th>p2</th>\n",
       "      <th>p2_conf</th>\n",
       "      <th>p2_dog</th>\n",
       "      <th>p3</th>\n",
       "      <th>p3_conf</th>\n",
       "      <th>p3_dog</th>\n",
       "    </tr>\n",
       "  </thead>\n",
       "  <tbody>\n",
       "    <tr>\n",
       "      <th>320</th>\n",
       "      <td>671789708968640512</td>\n",
       "      <td>https://pbs.twimg.com/tweet_video_thumb/CVKtH-...</td>\n",
       "      <td>1</td>\n",
       "      <td>dalmatian</td>\n",
       "      <td>0.114259</td>\n",
       "      <td>True</td>\n",
       "      <td>teddy</td>\n",
       "      <td>0.062275</td>\n",
       "      <td>False</td>\n",
       "      <td>steam_locomotive</td>\n",
       "      <td>0.049700</td>\n",
       "      <td>False</td>\n",
       "    </tr>\n",
       "    <tr>\n",
       "      <th>815</th>\n",
       "      <td>692752401762250755</td>\n",
       "      <td>https://pbs.twimg.com/tweet_video_thumb/CZ0mhd...</td>\n",
       "      <td>1</td>\n",
       "      <td>Samoyed</td>\n",
       "      <td>0.471276</td>\n",
       "      <td>True</td>\n",
       "      <td>Siberian_husky</td>\n",
       "      <td>0.158850</td>\n",
       "      <td>True</td>\n",
       "      <td>Eskimo_dog</td>\n",
       "      <td>0.138672</td>\n",
       "      <td>True</td>\n",
       "    </tr>\n",
       "  </tbody>\n",
       "</table>\n",
       "</div>"
      ],
      "text/plain": [
       "               tweet_id                                            jpg_url  \\\n",
       "320  671789708968640512  https://pbs.twimg.com/tweet_video_thumb/CVKtH-...   \n",
       "815  692752401762250755  https://pbs.twimg.com/tweet_video_thumb/CZ0mhd...   \n",
       "\n",
       "     img_num         p1   p1_conf  p1_dog              p2   p2_conf  p2_dog  \\\n",
       "320        1  dalmatian  0.114259    True           teddy  0.062275   False   \n",
       "815        1    Samoyed  0.471276    True  Siberian_husky  0.158850    True   \n",
       "\n",
       "                   p3   p3_conf  p3_dog  \n",
       "320  steam_locomotive  0.049700   False  \n",
       "815        Eskimo_dog  0.138672    True  "
      ]
     },
     "execution_count": 1989,
     "metadata": {},
     "output_type": "execute_result"
    }
   ],
   "source": [
    "#2 missing files have different format\n",
    "img_predictions_clean[~img_predictions_clean.jpg_url.str.contains('.jpg')]"
   ]
  },
  {
   "cell_type": "code",
   "execution_count": 1990,
   "metadata": {
    "collapsed": false
   },
   "outputs": [
    {
     "data": {
      "text/plain": [
       "(https://pbs.twimg.com/tweet_video_thumb/CZ0mhduWkAICSGe.png    1\n",
       " Name: jpg_url, dtype: int64,\n",
       " https://pbs.twimg.com/tweet_video_thumb/CZ0mhduWkAICSGe.png    1\n",
       " Name: jpg_url, dtype: int64)"
      ]
     },
     "execution_count": 1990,
     "metadata": {},
     "output_type": "execute_result"
    }
   ],
   "source": [
    "#Sample record with png format\n",
    "img_predictions_clean[img_predictions_clean['tweet_id']==692752401762250755].jpg_url.value_counts(),img_predictions_clean[img_predictions_clean['tweet_id']==692752401762250755].jpg_url.value_counts()"
   ]
  },
  {
   "cell_type": "code",
   "execution_count": 1991,
   "metadata": {
    "collapsed": false
   },
   "outputs": [],
   "source": [
    "#Rename the column\n",
    "img_predictions_clean.rename(columns={'jpg_url':'image_url'},inplace=True)"
   ]
  },
  {
   "cell_type": "markdown",
   "metadata": {},
   "source": [
    "### Test"
   ]
  },
  {
   "cell_type": "code",
   "execution_count": 1992,
   "metadata": {
    "collapsed": false
   },
   "outputs": [
    {
     "name": "stdout",
     "output_type": "stream",
     "text": [
      "<class 'pandas.core.frame.DataFrame'>\n",
      "RangeIndex: 2075 entries, 0 to 2074\n",
      "Data columns (total 12 columns):\n",
      "tweet_id     2075 non-null int64\n",
      "image_url    2075 non-null object\n",
      "img_num      2075 non-null int64\n",
      "p1           2075 non-null object\n",
      "p1_conf      2075 non-null float64\n",
      "p1_dog       2075 non-null bool\n",
      "p2           2075 non-null object\n",
      "p2_conf      2075 non-null float64\n",
      "p2_dog       2075 non-null bool\n",
      "p3           2075 non-null object\n",
      "p3_conf      2075 non-null float64\n",
      "p3_dog       2075 non-null bool\n",
      "dtypes: bool(3), float64(3), int64(2), object(4)\n",
      "memory usage: 152.1+ KB\n"
     ]
    }
   ],
   "source": [
    "img_predictions_clean.info()"
   ]
  },
  {
   "cell_type": "markdown",
   "metadata": {
    "collapsed": false
   },
   "source": [
    "### Define"
   ]
  },
  {
   "cell_type": "markdown",
   "metadata": {},
   "source": [
    "The dog breeds under p1,p2and p3 prediction columns have dog breeds in title case and also in lower case.Convert all values to lower case"
   ]
  },
  {
   "cell_type": "markdown",
   "metadata": {},
   "source": [
    "### Code"
   ]
  },
  {
   "cell_type": "code",
   "execution_count": 1386,
   "metadata": {
    "collapsed": false
   },
   "outputs": [
    {
     "data": {
      "text/html": [
       "<div>\n",
       "<style>\n",
       "    .dataframe thead tr:only-child th {\n",
       "        text-align: right;\n",
       "    }\n",
       "\n",
       "    .dataframe thead th {\n",
       "        text-align: left;\n",
       "    }\n",
       "\n",
       "    .dataframe tbody tr th {\n",
       "        vertical-align: top;\n",
       "    }\n",
       "</style>\n",
       "<table border=\"1\" class=\"dataframe\">\n",
       "  <thead>\n",
       "    <tr style=\"text-align: right;\">\n",
       "      <th></th>\n",
       "      <th>tweet_id</th>\n",
       "      <th>image_url</th>\n",
       "      <th>img_num</th>\n",
       "      <th>p1</th>\n",
       "      <th>p1_conf</th>\n",
       "      <th>p1_dog</th>\n",
       "      <th>p2</th>\n",
       "      <th>p2_conf</th>\n",
       "      <th>p2_dog</th>\n",
       "      <th>p3</th>\n",
       "      <th>p3_conf</th>\n",
       "      <th>p3_dog</th>\n",
       "    </tr>\n",
       "  </thead>\n",
       "  <tbody>\n",
       "    <tr>\n",
       "      <th>1940</th>\n",
       "      <td>860924035999428608</td>\n",
       "      <td>https://pbs.twimg.com/media/C_KVJjDXsAEUCWn.jpg</td>\n",
       "      <td>2</td>\n",
       "      <td>envelope</td>\n",
       "      <td>0.933016</td>\n",
       "      <td>False</td>\n",
       "      <td>oscilloscope</td>\n",
       "      <td>0.012591</td>\n",
       "      <td>False</td>\n",
       "      <td>paper_towel</td>\n",
       "      <td>0.011178</td>\n",
       "      <td>False</td>\n",
       "    </tr>\n",
       "    <tr>\n",
       "      <th>328</th>\n",
       "      <td>672068090318987265</td>\n",
       "      <td>https://pbs.twimg.com/media/CVOqW8eUkAESTHj.jpg</td>\n",
       "      <td>1</td>\n",
       "      <td>pug</td>\n",
       "      <td>0.863385</td>\n",
       "      <td>True</td>\n",
       "      <td>shopping_cart</td>\n",
       "      <td>0.125746</td>\n",
       "      <td>False</td>\n",
       "      <td>Border_terrier</td>\n",
       "      <td>0.002972</td>\n",
       "      <td>True</td>\n",
       "    </tr>\n",
       "  </tbody>\n",
       "</table>\n",
       "</div>"
      ],
      "text/plain": [
       "                tweet_id                                        image_url  \\\n",
       "1940  860924035999428608  https://pbs.twimg.com/media/C_KVJjDXsAEUCWn.jpg   \n",
       "328   672068090318987265  https://pbs.twimg.com/media/CVOqW8eUkAESTHj.jpg   \n",
       "\n",
       "      img_num        p1   p1_conf  p1_dog             p2   p2_conf  p2_dog  \\\n",
       "1940        2  envelope  0.933016   False   oscilloscope  0.012591   False   \n",
       "328         1       pug  0.863385    True  shopping_cart  0.125746   False   \n",
       "\n",
       "                  p3   p3_conf  p3_dog  \n",
       "1940     paper_towel  0.011178   False  \n",
       "328   Border_terrier  0.002972    True  "
      ]
     },
     "execution_count": 1386,
     "metadata": {},
     "output_type": "execute_result"
    }
   ],
   "source": [
    "img_predictions_clean.sample(2)\n"
   ]
  },
  {
   "cell_type": "code",
   "execution_count": 1993,
   "metadata": {
    "collapsed": false
   },
   "outputs": [],
   "source": [
    "img_predictions_clean['p1']=img_predictions_clean.p1.str.lower()\n",
    "img_predictions_clean['p2']=img_predictions_clean.p2.str.lower()\n",
    "img_predictions_clean['p3']=img_predictions_clean.p3.str.lower()"
   ]
  },
  {
   "cell_type": "markdown",
   "metadata": {},
   "source": [
    "### Test"
   ]
  },
  {
   "cell_type": "code",
   "execution_count": 1994,
   "metadata": {
    "collapsed": false
   },
   "outputs": [
    {
     "data": {
      "text/plain": [
       "arabian_camel      3\n",
       "wallaby            2\n",
       "feather_boa        2\n",
       "teddy             18\n",
       "hay                1\n",
       "home_theater       6\n",
       "guenon             1\n",
       "scotch_terrier     1\n",
       "banana             1\n",
       "boxer             10\n",
       "Name: p1, dtype: int64"
      ]
     },
     "execution_count": 1994,
     "metadata": {},
     "output_type": "execute_result"
    }
   ],
   "source": [
    "img_predictions_clean.p1.value_counts().sample(10)"
   ]
  },
  {
   "cell_type": "code",
   "execution_count": 1995,
   "metadata": {
    "collapsed": false
   },
   "outputs": [
    {
     "data": {
      "text/plain": [
       "True"
      ]
     },
     "execution_count": 1995,
     "metadata": {},
     "output_type": "execute_result"
    }
   ],
   "source": [
    "img_predictions_clean[img_predictions_clean.p1.str.islower()].shape[0]==img_predictions_clean.shape[0]"
   ]
  },
  {
   "cell_type": "markdown",
   "metadata": {},
   "source": [
    "### Define"
   ]
  },
  {
   "cell_type": "markdown",
   "metadata": {},
   "source": [
    "Merge the dog_ratings_clean_melt and tweet_data_df"
   ]
  },
  {
   "cell_type": "markdown",
   "metadata": {},
   "source": [
    "### Code"
   ]
  },
  {
   "cell_type": "code",
   "execution_count": 1996,
   "metadata": {
    "collapsed": false
   },
   "outputs": [],
   "source": [
    "dog_ratings_clean_melt =pd.merge(left=dog_ratings_clean_melt,right=tweet_data_df,right_on='tweet_id',left_on='tweet_id',how='inner')"
   ]
  },
  {
   "cell_type": "markdown",
   "metadata": {},
   "source": [
    "### Test"
   ]
  },
  {
   "cell_type": "code",
   "execution_count": 1997,
   "metadata": {
    "collapsed": false
   },
   "outputs": [
    {
     "name": "stdout",
     "output_type": "stream",
     "text": [
      "<class 'pandas.core.frame.DataFrame'>\n",
      "Int64Index: 2187 entries, 0 to 2186\n",
      "Data columns (total 9 columns):\n",
      "tweet_id              2187 non-null int64\n",
      "timestamp             2187 non-null datetime64[ns]\n",
      "tweet_source          2187 non-null object\n",
      "text                  2187 non-null object\n",
      "rating_numerator      2187 non-null int64\n",
      "rating_denominator    2187 non-null int64\n",
      "dog_stage             395 non-null category\n",
      "retweet_count         2187 non-null int64\n",
      "favourite_count       2187 non-null int64\n",
      "dtypes: category(1), datetime64[ns](1), int64(5), object(2)\n",
      "memory usage: 156.1+ KB\n"
     ]
    }
   ],
   "source": [
    "dog_ratings_clean_melt.info()"
   ]
  },
  {
   "cell_type": "code",
   "execution_count": 1998,
   "metadata": {
    "collapsed": false
   },
   "outputs": [
    {
     "data": {
      "text/html": [
       "<div>\n",
       "<style>\n",
       "    .dataframe thead tr:only-child th {\n",
       "        text-align: right;\n",
       "    }\n",
       "\n",
       "    .dataframe thead th {\n",
       "        text-align: left;\n",
       "    }\n",
       "\n",
       "    .dataframe tbody tr th {\n",
       "        vertical-align: top;\n",
       "    }\n",
       "</style>\n",
       "<table border=\"1\" class=\"dataframe\">\n",
       "  <thead>\n",
       "    <tr style=\"text-align: right;\">\n",
       "      <th></th>\n",
       "      <th>tweet_id</th>\n",
       "      <th>timestamp</th>\n",
       "      <th>tweet_source</th>\n",
       "      <th>text</th>\n",
       "      <th>rating_numerator</th>\n",
       "      <th>rating_denominator</th>\n",
       "      <th>dog_stage</th>\n",
       "      <th>retweet_count</th>\n",
       "      <th>favourite_count</th>\n",
       "    </tr>\n",
       "  </thead>\n",
       "  <tbody>\n",
       "    <tr>\n",
       "      <th>1689</th>\n",
       "      <td>676590572941893632</td>\n",
       "      <td>2015-12-15 02:32:17</td>\n",
       "      <td>TwitterforiPhone</td>\n",
       "      <td>After some outrage from the crowd. Bubbles is ...</td>\n",
       "      <td>7</td>\n",
       "      <td>10</td>\n",
       "      <td>NaN</td>\n",
       "      <td>139</td>\n",
       "      <td>974</td>\n",
       "    </tr>\n",
       "    <tr>\n",
       "      <th>972</th>\n",
       "      <td>757725642876129280</td>\n",
       "      <td>2016-07-25 23:54:05</td>\n",
       "      <td>TwitterforiPhone</td>\n",
       "      <td>This is Beckham. He fell asleep at the wheel. ...</td>\n",
       "      <td>11</td>\n",
       "      <td>10</td>\n",
       "      <td>NaN</td>\n",
       "      <td>1352</td>\n",
       "      <td>4888</td>\n",
       "    </tr>\n",
       "    <tr>\n",
       "      <th>930</th>\n",
       "      <td>765222098633691136</td>\n",
       "      <td>2016-08-15 16:22:20</td>\n",
       "      <td>TwitterforiPhone</td>\n",
       "      <td>This is Gromit. He's pupset because there's no...</td>\n",
       "      <td>10</td>\n",
       "      <td>10</td>\n",
       "      <td>NaN</td>\n",
       "      <td>3760</td>\n",
       "      <td>12577</td>\n",
       "    </tr>\n",
       "    <tr>\n",
       "      <th>2180</th>\n",
       "      <td>666051853826850816</td>\n",
       "      <td>2015-11-16 00:35:11</td>\n",
       "      <td>TwitterforiPhone</td>\n",
       "      <td>This is an odd dog. Hard on the outside but lo...</td>\n",
       "      <td>2</td>\n",
       "      <td>10</td>\n",
       "      <td>NaN</td>\n",
       "      <td>853</td>\n",
       "      <td>1226</td>\n",
       "    </tr>\n",
       "    <tr>\n",
       "      <th>689</th>\n",
       "      <td>815390420867969024</td>\n",
       "      <td>2017-01-01 02:53:20</td>\n",
       "      <td>TwitterforiPhone</td>\n",
       "      <td>Happy New Year from the squad! 13/10 for all h...</td>\n",
       "      <td>13</td>\n",
       "      <td>10</td>\n",
       "      <td>NaN</td>\n",
       "      <td>4262</td>\n",
       "      <td>11233</td>\n",
       "    </tr>\n",
       "    <tr>\n",
       "      <th>1693</th>\n",
       "      <td>676496375194980353</td>\n",
       "      <td>2015-12-14 20:17:59</td>\n",
       "      <td>TwitterforiPhone</td>\n",
       "      <td>Say hello to Griffin. He's upset because his c...</td>\n",
       "      <td>9</td>\n",
       "      <td>10</td>\n",
       "      <td>NaN</td>\n",
       "      <td>577</td>\n",
       "      <td>1595</td>\n",
       "    </tr>\n",
       "    <tr>\n",
       "      <th>69</th>\n",
       "      <td>759793422261743616</td>\n",
       "      <td>2016-07-31 16:50:42</td>\n",
       "      <td>TwitterforiPhone</td>\n",
       "      <td>Meet Maggie &amp;amp; Lila. Maggie is the doggo, L...</td>\n",
       "      <td>12</td>\n",
       "      <td>10</td>\n",
       "      <td>pupper</td>\n",
       "      <td>2118</td>\n",
       "      <td>6441</td>\n",
       "    </tr>\n",
       "    <tr>\n",
       "      <th>128</th>\n",
       "      <td>815966073409433600</td>\n",
       "      <td>2017-01-02 17:00:46</td>\n",
       "      <td>TwitterforiPhone</td>\n",
       "      <td>Here's a pupper with squeaky hiccups. Please e...</td>\n",
       "      <td>13</td>\n",
       "      <td>10</td>\n",
       "      <td>pupper</td>\n",
       "      <td>9547</td>\n",
       "      <td>24430</td>\n",
       "    </tr>\n",
       "    <tr>\n",
       "      <th>1609</th>\n",
       "      <td>680130881361686529</td>\n",
       "      <td>2015-12-24 21:00:12</td>\n",
       "      <td>TwitterforiPhone</td>\n",
       "      <td>This is Reggie. His Santa hat is a little big....</td>\n",
       "      <td>10</td>\n",
       "      <td>10</td>\n",
       "      <td>NaN</td>\n",
       "      <td>1040</td>\n",
       "      <td>2450</td>\n",
       "    </tr>\n",
       "    <tr>\n",
       "      <th>352</th>\n",
       "      <td>751132876104687617</td>\n",
       "      <td>2016-07-07 19:16:47</td>\n",
       "      <td>TwitterforiPhone</td>\n",
       "      <td>This is Cooper. He's just so damn happy. 10/10...</td>\n",
       "      <td>10</td>\n",
       "      <td>10</td>\n",
       "      <td>puppo</td>\n",
       "      <td>1440</td>\n",
       "      <td>5484</td>\n",
       "    </tr>\n",
       "  </tbody>\n",
       "</table>\n",
       "</div>"
      ],
      "text/plain": [
       "                tweet_id           timestamp      tweet_source  \\\n",
       "1689  676590572941893632 2015-12-15 02:32:17  TwitterforiPhone   \n",
       "972   757725642876129280 2016-07-25 23:54:05  TwitterforiPhone   \n",
       "930   765222098633691136 2016-08-15 16:22:20  TwitterforiPhone   \n",
       "2180  666051853826850816 2015-11-16 00:35:11  TwitterforiPhone   \n",
       "689   815390420867969024 2017-01-01 02:53:20  TwitterforiPhone   \n",
       "1693  676496375194980353 2015-12-14 20:17:59  TwitterforiPhone   \n",
       "69    759793422261743616 2016-07-31 16:50:42  TwitterforiPhone   \n",
       "128   815966073409433600 2017-01-02 17:00:46  TwitterforiPhone   \n",
       "1609  680130881361686529 2015-12-24 21:00:12  TwitterforiPhone   \n",
       "352   751132876104687617 2016-07-07 19:16:47  TwitterforiPhone   \n",
       "\n",
       "                                                   text  rating_numerator  \\\n",
       "1689  After some outrage from the crowd. Bubbles is ...                 7   \n",
       "972   This is Beckham. He fell asleep at the wheel. ...                11   \n",
       "930   This is Gromit. He's pupset because there's no...                10   \n",
       "2180  This is an odd dog. Hard on the outside but lo...                 2   \n",
       "689   Happy New Year from the squad! 13/10 for all h...                13   \n",
       "1693  Say hello to Griffin. He's upset because his c...                 9   \n",
       "69    Meet Maggie &amp; Lila. Maggie is the doggo, L...                12   \n",
       "128   Here's a pupper with squeaky hiccups. Please e...                13   \n",
       "1609  This is Reggie. His Santa hat is a little big....                10   \n",
       "352   This is Cooper. He's just so damn happy. 10/10...                10   \n",
       "\n",
       "      rating_denominator dog_stage  retweet_count  favourite_count  \n",
       "1689                  10       NaN            139              974  \n",
       "972                   10       NaN           1352             4888  \n",
       "930                   10       NaN           3760            12577  \n",
       "2180                  10       NaN            853             1226  \n",
       "689                   10       NaN           4262            11233  \n",
       "1693                  10       NaN            577             1595  \n",
       "69                    10    pupper           2118             6441  \n",
       "128                   10    pupper           9547            24430  \n",
       "1609                  10       NaN           1040             2450  \n",
       "352                   10     puppo           1440             5484  "
      ]
     },
     "execution_count": 1998,
     "metadata": {},
     "output_type": "execute_result"
    }
   ],
   "source": [
    "dog_ratings_clean_melt.sample(10)"
   ]
  },
  {
   "cell_type": "markdown",
   "metadata": {},
   "source": [
    "### Define"
   ]
  },
  {
   "cell_type": "markdown",
   "metadata": {},
   "source": [
    "Selection of prediction column with highest confidence(p1_conf) and its related  columns in img_predictions_clean dataframe.p2_conf and p3_conf have very low confidence level compared to p1_conf , hence exclude these and their related columns.\n",
    "\n",
    "Rename p1 to dog_breed,p1_conf to conf_level and p1_dog to dog"
   ]
  },
  {
   "cell_type": "markdown",
   "metadata": {},
   "source": [
    "### Code"
   ]
  },
  {
   "cell_type": "code",
   "execution_count": 1999,
   "metadata": {
    "collapsed": false
   },
   "outputs": [],
   "source": [
    "#Rename the columns\n",
    "img_predictions_clean.rename(columns={'p1':'dog_breed','p1_conf':'conf_level','p1_dog':'dog'},inplace=True)"
   ]
  },
  {
   "cell_type": "code",
   "execution_count": 2000,
   "metadata": {
    "collapsed": false
   },
   "outputs": [],
   "source": [
    "#Exclude the p2 and p3 and related columns\n",
    "img_predictions_clean=img_predictions_clean[['tweet_id', 'image_url', 'img_num', 'dog_breed', 'conf_level', 'dog']]"
   ]
  },
  {
   "cell_type": "markdown",
   "metadata": {},
   "source": [
    "### Test"
   ]
  },
  {
   "cell_type": "code",
   "execution_count": 2001,
   "metadata": {
    "collapsed": false
   },
   "outputs": [
    {
     "name": "stdout",
     "output_type": "stream",
     "text": [
      "<class 'pandas.core.frame.DataFrame'>\n",
      "RangeIndex: 2075 entries, 0 to 2074\n",
      "Data columns (total 6 columns):\n",
      "tweet_id      2075 non-null int64\n",
      "image_url     2075 non-null object\n",
      "img_num       2075 non-null int64\n",
      "dog_breed     2075 non-null object\n",
      "conf_level    2075 non-null float64\n",
      "dog           2075 non-null bool\n",
      "dtypes: bool(1), float64(1), int64(2), object(2)\n",
      "memory usage: 83.2+ KB\n"
     ]
    }
   ],
   "source": [
    "img_predictions_clean.info()"
   ]
  },
  {
   "cell_type": "markdown",
   "metadata": {},
   "source": [
    "### Define"
   ]
  },
  {
   "cell_type": "markdown",
   "metadata": {},
   "source": [
    "Split the timestamp column into date and time.Drop timestamp column."
   ]
  },
  {
   "cell_type": "markdown",
   "metadata": {},
   "source": [
    "### Code"
   ]
  },
  {
   "cell_type": "code",
   "execution_count": 2002,
   "metadata": {
    "collapsed": false
   },
   "outputs": [],
   "source": [
    "#Convert to str\n",
    "dog_ratings_clean_melt['timestamp']=dog_ratings_clean_melt['timestamp'].astype(str)"
   ]
  },
  {
   "cell_type": "code",
   "execution_count": 2003,
   "metadata": {
    "collapsed": false
   },
   "outputs": [],
   "source": [
    "#Create columns for date and time by splitting the timestamp column.\n",
    "dog_ratings_clean_melt['date'],dog_ratings_clean_melt['time']=dog_ratings_clean_melt['timestamp'].str.split(' ',1).str"
   ]
  },
  {
   "cell_type": "code",
   "execution_count": 2004,
   "metadata": {
    "collapsed": false
   },
   "outputs": [],
   "source": [
    "#Convert column to datetime format\n",
    "dog_ratings_clean_melt['date']=pd.to_datetime(dog_ratings_clean_melt['date'])\n",
    "dog_ratings_clean_melt['time']=pd.to_datetime(dog_ratings_clean_melt['time'])"
   ]
  },
  {
   "cell_type": "code",
   "execution_count": 2005,
   "metadata": {
    "collapsed": true
   },
   "outputs": [],
   "source": [
    "#Drop the column timestamp\n",
    "dog_ratings_clean_melt=dog_ratings_clean_melt.drop('timestamp',axis=1)"
   ]
  },
  {
   "cell_type": "markdown",
   "metadata": {},
   "source": [
    "### Test"
   ]
  },
  {
   "cell_type": "code",
   "execution_count": 2006,
   "metadata": {
    "collapsed": false
   },
   "outputs": [
    {
     "name": "stdout",
     "output_type": "stream",
     "text": [
      "<class 'pandas.core.frame.DataFrame'>\n",
      "Int64Index: 2187 entries, 0 to 2186\n",
      "Data columns (total 10 columns):\n",
      "tweet_id              2187 non-null int64\n",
      "tweet_source          2187 non-null object\n",
      "text                  2187 non-null object\n",
      "rating_numerator      2187 non-null int64\n",
      "rating_denominator    2187 non-null int64\n",
      "dog_stage             395 non-null category\n",
      "retweet_count         2187 non-null int64\n",
      "favourite_count       2187 non-null int64\n",
      "date                  2187 non-null datetime64[ns]\n",
      "time                  2187 non-null datetime64[ns]\n",
      "dtypes: category(1), datetime64[ns](2), int64(5), object(2)\n",
      "memory usage: 173.2+ KB\n"
     ]
    }
   ],
   "source": [
    "dog_ratings_clean_melt.info()"
   ]
  },
  {
   "cell_type": "markdown",
   "metadata": {},
   "source": [
    "### Define\n",
    "Merge the dataframes img_predictions_clean and dog_ratings_clean_melt. Save the cleaned dataframe in csv format."
   ]
  },
  {
   "cell_type": "markdown",
   "metadata": {},
   "source": [
    "### Code"
   ]
  },
  {
   "cell_type": "code",
   "execution_count": 2007,
   "metadata": {
    "collapsed": true
   },
   "outputs": [],
   "source": [
    "#Merge to get the final dataframe\n",
    "dog_ratings_cleaned=pd.merge(dog_ratings_clean_melt,img_predictions_clean,on='tweet_id',how='inner')"
   ]
  },
  {
   "cell_type": "markdown",
   "metadata": {},
   "source": [
    "### Test"
   ]
  },
  {
   "cell_type": "code",
   "execution_count": 2021,
   "metadata": {
    "collapsed": false
   },
   "outputs": [
    {
     "name": "stdout",
     "output_type": "stream",
     "text": [
      "<class 'pandas.core.frame.DataFrame'>\n",
      "Int64Index: 2005 entries, 0 to 2004\n",
      "Data columns (total 15 columns):\n",
      "tweet_id              2005 non-null int64\n",
      "tweet_source          2005 non-null object\n",
      "text                  2005 non-null object\n",
      "rating_numerator      2005 non-null int64\n",
      "rating_denominator    2005 non-null int64\n",
      "dog_stage             351 non-null category\n",
      "retweet_count         2005 non-null int64\n",
      "favourite_count       2005 non-null int64\n",
      "date                  2005 non-null datetime64[ns]\n",
      "time                  2005 non-null datetime64[ns]\n",
      "image_url             2005 non-null object\n",
      "img_num               2005 non-null int64\n",
      "dog_breed             2005 non-null object\n",
      "conf_level            2005 non-null float64\n",
      "dog                   2005 non-null bool\n",
      "dtypes: bool(1), category(1), datetime64[ns](2), float64(1), int64(6), object(4)\n",
      "memory usage: 303.4+ KB\n"
     ]
    }
   ],
   "source": [
    "dog_ratings_cleaned.info()"
   ]
  },
  {
   "cell_type": "markdown",
   "metadata": {},
   "source": [
    "<a id='store'></a>\n",
    "## Store"
   ]
  },
  {
   "cell_type": "code",
   "execution_count": 2022,
   "metadata": {
    "collapsed": true
   },
   "outputs": [],
   "source": [
    "#Save the final dataframe to a csv file\n",
    "dog_ratings_cleaned.to_csv('twitter_archive_master.csv',encoding = 'utf-8',index=False)"
   ]
  },
  {
   "cell_type": "markdown",
   "metadata": {},
   "source": [
    "<a id='analysevisualize'></a>\n",
    "## Analysis  & Visualization"
   ]
  },
  {
   "cell_type": "code",
   "execution_count": 2023,
   "metadata": {
    "collapsed": false
   },
   "outputs": [],
   "source": [
    "#Read the stored file into a dataframe\n",
    "dog_pred=pd.read_csv('twitter_archive_master.csv')"
   ]
  },
  {
   "cell_type": "code",
   "execution_count": 2037,
   "metadata": {
    "collapsed": false
   },
   "outputs": [],
   "source": [
    "dog_pred['date']=pd.to_datetime(dog_pred['date'])\n",
    "fav_breeds=dog_pred[dog_pred['dog']==True]"
   ]
  },
  {
   "cell_type": "code",
   "execution_count": 2093,
   "metadata": {
    "collapsed": false
   },
   "outputs": [
    {
     "data": {
      "image/png": "[encoded data removed]",
      "text/plain": [
       "<matplotlib.figure.Figure at 0x46ced860>"
      ]
     },
     "metadata": {},
     "output_type": "display_data"
    }
   ],
   "source": [
    "style.use('ggplot')\n",
    "#plt.figure(figsize=(10,6))\n",
    "top_dog=fav_breeds.dog_breed.value_counts().sort_values(ascending=False).head(10)\n",
    "top_dog.plot(kind='bar');\n",
    "plt.xlabel('Dog breeds')\n",
    "plt.ylabel('Original tweet Count')\n",
    "plt.title('G1.Top 10 Dog breeds')\n",
    "plt.legend();"
   ]
  },
  {
   "cell_type": "markdown",
   "metadata": {},
   "source": [
    "*Golden retriver comes on top of popularity chart of dog breeds with larger populace owning this breed, tweeting to WeRateDogs to get them rated.*\n",
    "\n"
   ]
  },
  {
   "cell_type": "code",
   "execution_count": 2094,
   "metadata": {
    "collapsed": false
   },
   "outputs": [
    {
     "data": {
      "text/plain": [
       "<matplotlib.figure.Figure at 0x459136d8>"
      ]
     },
     "metadata": {},
     "output_type": "display_data"
    },
    {
     "data": {
      "image/png": "[encoded data removed]",
      "text/plain": [
       "<matplotlib.figure.Figure at 0x4590d8d0>"
      ]
     },
     "metadata": {},
     "output_type": "display_data"
    }
   ],
   "source": [
    "plt.figure(figsize=(10,6))\n",
    "fav_breeds.groupby('dog_breed')[['favourite_count','retweet_count']].sum().sort_values('retweet_count',ascending=False).head(10).plot(kind='bar');\n",
    "plt.xlabel('Dog breeds')\n",
    "plt.ylabel('Total count')\n",
    "plt.title('G2.Top 10 Dog breeds by retweet and favourite count');\n",
    "plt.legend();"
   ]
  },
  {
   "cell_type": "code",
   "execution_count": 2092,
   "metadata": {
    "collapsed": false
   },
   "outputs": [
    {
     "data": {
      "text/html": [
       "<div>\n",
       "<style>\n",
       "    .dataframe thead tr:only-child th {\n",
       "        text-align: right;\n",
       "    }\n",
       "\n",
       "    .dataframe thead th {\n",
       "        text-align: left;\n",
       "    }\n",
       "\n",
       "    .dataframe tbody tr th {\n",
       "        vertical-align: top;\n",
       "    }\n",
       "</style>\n",
       "<table border=\"1\" class=\"dataframe\">\n",
       "  <thead>\n",
       "    <tr style=\"text-align: right;\">\n",
       "      <th></th>\n",
       "      <th>favourite_count</th>\n",
       "      <th>retweet_count</th>\n",
       "    </tr>\n",
       "  </thead>\n",
       "  <tbody>\n",
       "    <tr>\n",
       "      <th>count</th>\n",
       "      <td>1.000000e+01</td>\n",
       "      <td>10.000000</td>\n",
       "    </tr>\n",
       "    <tr>\n",
       "      <th>mean</th>\n",
       "      <td>6.861942e+05</td>\n",
       "      <td>208208.800000</td>\n",
       "    </tr>\n",
       "    <tr>\n",
       "      <th>std</th>\n",
       "      <td>4.685071e+05</td>\n",
       "      <td>139027.152711</td>\n",
       "    </tr>\n",
       "    <tr>\n",
       "      <th>min</th>\n",
       "      <td>3.024170e+05</td>\n",
       "      <td>95964.000000</td>\n",
       "    </tr>\n",
       "    <tr>\n",
       "      <th>25%</th>\n",
       "      <td>3.360738e+05</td>\n",
       "      <td>108138.500000</td>\n",
       "    </tr>\n",
       "    <tr>\n",
       "      <th>50%</th>\n",
       "      <td>5.033185e+05</td>\n",
       "      <td>150347.500000</td>\n",
       "    </tr>\n",
       "    <tr>\n",
       "      <th>75%</th>\n",
       "      <td>9.137430e+05</td>\n",
       "      <td>260421.000000</td>\n",
       "    </tr>\n",
       "    <tr>\n",
       "      <th>max</th>\n",
       "      <td>1.749528e+06</td>\n",
       "      <td>516903.000000</td>\n",
       "    </tr>\n",
       "  </tbody>\n",
       "</table>\n",
       "</div>"
      ],
      "text/plain": [
       "       favourite_count  retweet_count\n",
       "count     1.000000e+01      10.000000\n",
       "mean      6.861942e+05  208208.800000\n",
       "std       4.685071e+05  139027.152711\n",
       "min       3.024170e+05   95964.000000\n",
       "25%       3.360738e+05  108138.500000\n",
       "50%       5.033185e+05  150347.500000\n",
       "75%       9.137430e+05  260421.000000\n",
       "max       1.749528e+06  516903.000000"
      ]
     },
     "execution_count": 2092,
     "metadata": {},
     "output_type": "execute_result"
    }
   ],
   "source": [
    "#fav=fav_breeds.groupby('dog_breed')[['favourite_count','retweet_count']].sum().sort_values('retweet_count',ascending=False).head(10)\n",
    "fav[['favourite_count','retweet_count']].describe()"
   ]
  },
  {
   "cell_type": "markdown",
   "metadata": {},
   "source": [
    "*Looking at graphs G1 and G2 we see that of the top 5,the top 4 dog breeds continue to trend, however pug seems to be pulled down to 10th place in terms of retweet and favourite count.*"
   ]
  },
  {
   "cell_type": "code",
   "execution_count": 2096,
   "metadata": {
    "collapsed": false
   },
   "outputs": [
    {
     "data": {
      "image/png": "[encoded data removed]",
      "text/plain": [
       "<matplotlib.figure.Figure at 0x44798d30>"
      ]
     },
     "metadata": {},
     "output_type": "display_data"
    }
   ],
   "source": [
    "#Dog stage popularity overtime\n",
    "plt.figure(figsize=(10,6))\n",
    "sns.swarmplot(x=\"dog_stage\", y=\"date\", data=dog_pred);\n",
    "plt.title('G3.Dog stage usage overtime');"
   ]
  },
  {
   "cell_type": "markdown",
   "metadata": {},
   "source": [
    "*Pupper seems to be the earliest dogstage term popularised by WeRateDogs and widely used.The usage gradually has declined with doggo gaining a fair share of popularity.Puppo comes third ,followed by floofer.*"
   ]
  },
  {
   "cell_type": "code",
   "execution_count": 2099,
   "metadata": {
    "collapsed": false
   },
   "outputs": [
    {
     "data": {
      "image/png": "[encoded data removed]",
      "text/plain": [
       "<matplotlib.figure.Figure at 0x466b2630>"
      ]
     },
     "metadata": {},
     "output_type": "display_data"
    }
   ],
   "source": [
    "#sns.barplot(x=\"dog_stage\", y=\"retweet_count\", data=fav_breeds,ci=None);\n",
    "plt.figure(figsize=(9,6))\n",
    "sns.barplot(x=\"dog_stage\", y=\"retweet_count\", data=fav_breeds);\n",
    "plt.title('G4.Retweet count of dog stage ');"
   ]
  },
  {
   "cell_type": "code",
   "execution_count": 2100,
   "metadata": {
    "collapsed": false
   },
   "outputs": [
    {
     "data": {
      "text/html": [
       "<div>\n",
       "<style>\n",
       "    .dataframe thead tr:only-child th {\n",
       "        text-align: right;\n",
       "    }\n",
       "\n",
       "    .dataframe thead th {\n",
       "        text-align: left;\n",
       "    }\n",
       "\n",
       "    .dataframe tbody tr th {\n",
       "        vertical-align: top;\n",
       "    }\n",
       "</style>\n",
       "<table border=\"1\" class=\"dataframe\">\n",
       "  <thead>\n",
       "    <tr style=\"text-align: right;\">\n",
       "      <th></th>\n",
       "      <th>count</th>\n",
       "      <th>unique</th>\n",
       "      <th>top</th>\n",
       "      <th>freq</th>\n",
       "      <th>first</th>\n",
       "      <th>last</th>\n",
       "    </tr>\n",
       "    <tr>\n",
       "      <th>dog_stage</th>\n",
       "      <th></th>\n",
       "      <th></th>\n",
       "      <th></th>\n",
       "      <th></th>\n",
       "      <th></th>\n",
       "      <th></th>\n",
       "    </tr>\n",
       "  </thead>\n",
       "  <tbody>\n",
       "    <tr>\n",
       "      <th>doggo</th>\n",
       "      <td>80</td>\n",
       "      <td>74</td>\n",
       "      <td>2017-01-11 00:00:00</td>\n",
       "      <td>2</td>\n",
       "      <td>2016-04-02 00:00:00</td>\n",
       "      <td>2017-07-26 00:00:00</td>\n",
       "    </tr>\n",
       "    <tr>\n",
       "      <th>floofer</th>\n",
       "      <td>8</td>\n",
       "      <td>8</td>\n",
       "      <td>2016-11-20 00:00:00</td>\n",
       "      <td>1</td>\n",
       "      <td>2016-01-08 00:00:00</td>\n",
       "      <td>2017-07-07 00:00:00</td>\n",
       "    </tr>\n",
       "    <tr>\n",
       "      <th>pupper</th>\n",
       "      <td>235</td>\n",
       "      <td>160</td>\n",
       "      <td>2015-12-07 00:00:00</td>\n",
       "      <td>5</td>\n",
       "      <td>2015-11-26 00:00:00</td>\n",
       "      <td>2017-07-15 00:00:00</td>\n",
       "    </tr>\n",
       "    <tr>\n",
       "      <th>puppo</th>\n",
       "      <td>28</td>\n",
       "      <td>28</td>\n",
       "      <td>2017-01-29 00:00:00</td>\n",
       "      <td>1</td>\n",
       "      <td>2016-06-03 00:00:00</td>\n",
       "      <td>2017-07-25 00:00:00</td>\n",
       "    </tr>\n",
       "  </tbody>\n",
       "</table>\n",
       "</div>"
      ],
      "text/plain": [
       "          count unique                  top freq                first  \\\n",
       "dog_stage                                                               \n",
       "doggo        80     74  2017-01-11 00:00:00    2  2016-04-02 00:00:00   \n",
       "floofer       8      8  2016-11-20 00:00:00    1  2016-01-08 00:00:00   \n",
       "pupper      235    160  2015-12-07 00:00:00    5  2015-11-26 00:00:00   \n",
       "puppo        28     28  2017-01-29 00:00:00    1  2016-06-03 00:00:00   \n",
       "\n",
       "                          last  \n",
       "dog_stage                       \n",
       "doggo      2017-07-26 00:00:00  \n",
       "floofer    2017-07-07 00:00:00  \n",
       "pupper     2017-07-15 00:00:00  \n",
       "puppo      2017-07-25 00:00:00  "
      ]
     },
     "execution_count": 2100,
     "metadata": {},
     "output_type": "execute_result"
    }
   ],
   "source": [
    "#Statistic summary\n",
    "dog_pred.groupby('dog_stage')['date'].describe()"
   ]
  },
  {
   "cell_type": "markdown",
   "metadata": {},
   "source": [
    "*Though pupper has the highest count and the earliest.newer terms -doggo and puppo have taken off with more retweets.*"
   ]
  },
  {
   "cell_type": "code",
   "execution_count": 2103,
   "metadata": {
    "collapsed": false
   },
   "outputs": [
    {
     "data": {
      "image/png": "[encoded data removed]",
      "text/plain": [
       "<matplotlib.figure.Figure at 0x50a77e80>"
      ]
     },
     "metadata": {},
     "output_type": "display_data"
    }
   ],
   "source": [
    "#Most commonly used utility for tweeting by WeRateDogs\n",
    "plt.figure(figsize=(9,6))\n",
    "sns.boxplot(x=\"tweet_source\", y=\"retweet_count\",  data=dog_ratings_cleaned, dodge=False);\n",
    "plt.ylim(0, 9000)\n",
    "plt.title('G5.Retweet source distribution');"
   ]
  },
  {
   "cell_type": "markdown",
   "metadata": {},
   "source": [
    "*Twitter for iphone ,WeRateDogs is an Apple fan*"
   ]
  },
  {
   "cell_type": "code",
   "execution_count": 2046,
   "metadata": {
    "collapsed": false
   },
   "outputs": [],
   "source": [
    "fav_breeds.set_index('date',inplace=True)"
   ]
  },
  {
   "cell_type": "code",
   "execution_count": 2109,
   "metadata": {
    "collapsed": false
   },
   "outputs": [
    {
     "data": {
      "text/plain": [
       "<matplotlib.figure.Figure at 0x50ee6da0>"
      ]
     },
     "metadata": {},
     "output_type": "display_data"
    },
    {
     "data": {
      "image/png": "[encoded data removed]",
      "text/plain": [
       "<matplotlib.figure.Figure at 0x50e2f3c8>"
      ]
     },
     "metadata": {},
     "output_type": "display_data"
    }
   ],
   "source": [
    "#Popularity of WeRateDogs overtime\n",
    "plt.figure(figsize=(10,6));\n",
    "fav_breeds[['retweet_count','favourite_count']].plot(style = '.',alpha=0.5)\n",
    "plt.ylabel('Count')\n",
    "plt.title('Popularity of WeRateDogs overtime');"
   ]
  },
  {
   "cell_type": "markdown",
   "metadata": {},
   "source": [
    "*WeRateDogs has gained popularity overtime*"
   ]
  }
 ],
 "metadata": {
  "anaconda-cloud": {},
  "kernelspec": {
   "display_name": "Python [conda env:udacity_ipnd]",
   "language": "python",
   "name": "conda-env-udacity_ipnd-py"
  },
  "language_info": {
   "codemirror_mode": {
    "name": "ipython",
    "version": 3
   },
   "file_extension": ".py",
   "mimetype": "text/x-python",
   "name": "python",
   "nbconvert_exporter": "python",
   "pygments_lexer": "ipython3",
   "version": "3.6.1"
  }
 },
 "nbformat": 4,
 "nbformat_minor": 2
}
